{
 "cells": [
  {
   "cell_type": "code",
   "execution_count": 7,
   "metadata": {},
   "outputs": [],
   "source": [
    "import pandas as pd\n",
    "pd.set_option('display.max_columns', None)\n",
    "\n",
    "import numpy as np"
   ]
  },
  {
   "cell_type": "code",
   "execution_count": null,
   "metadata": {},
   "outputs": [],
   "source": [
    "prison = pd.read_excel('S:/Workgroups/gpc economic development/Information Services/Current Business/Jim Lovett/Georgia Academy of Economic Development/2020/Infrastructure_Related Files from Carl Vinson/incarceration_trends_Vera.xlsx',\n",
    "                       skiprows=4, skipfooter=1)"
   ]
  },
  {
   "cell_type": "code",
   "execution_count": null,
   "metadata": {},
   "outputs": [],
   "source": [
    "prison = prison[['Row Labels','2013 Rate per 100,000',\n",
    "                 '2014 Rate per 100,000','2015 Rate per 100,000',\n",
    "                 '2016 Rate per 100,000','2017 Rate per 100,000']]"
   ]
  },
  {
   "cell_type": "code",
   "execution_count": null,
   "metadata": {},
   "outputs": [],
   "source": [
    "prison.rename(columns={'Row Labels'              : 'County',\n",
    "                       '2013 Rate per 100,000'   : '2013 Incarcerated per 100,000',\n",
    "                       '2014 Rate per 100,000'   : '2014 Incarcerated per 100,000',\n",
    "                       '2015 Rate per 100,000'   : '2015 Incarcerated per 100,000',\n",
    "                       '2016 Rate per 100,000'   : '2016 Incarcerated per 100,000',\n",
    "                       '2017 Rate per 100,000'   : '2017 Incarcerated per 100,000'}, inplace=True)"
   ]
  },
  {
   "cell_type": "code",
   "execution_count": null,
   "metadata": {},
   "outputs": [],
   "source": [
    "prison.sort_values('2017 Incarcerated per 100,000', inplace=True)"
   ]
  },
  {
   "cell_type": "code",
   "execution_count": null,
   "metadata": {},
   "outputs": [],
   "source": [
    "prisonFlat = prison"
   ]
  },
  {
   "cell_type": "code",
   "execution_count": null,
   "metadata": {},
   "outputs": [],
   "source": [
    "prisonStack = prison.melt('County', var_name='Metric', value_name='Measure')"
   ]
  },
  {
   "cell_type": "code",
   "execution_count": null,
   "metadata": {},
   "outputs": [],
   "source": [
    "prisonStack['Indicator'] = 'Crime'"
   ]
  },
  {
   "cell_type": "code",
   "execution_count": null,
   "metadata": {},
   "outputs": [],
   "source": [
    "# now with crime\n",
    "crime = pd.read_excel('data/opportunity-index-2018.xlsx', sheet_name='Counties', skiprows=2, usecols=\"A,B,C,GG:GN\")\n",
    "crime = crime.loc[crime['State'] == \"Georgia\"]"
   ]
  },
  {
   "cell_type": "code",
   "execution_count": null,
   "metadata": {},
   "outputs": [],
   "source": [
    "crime.rename(columns={ '2018 Incidents of Violent Crime Reported to Law Enforcement Agencies (per 100,000 population)' : '2018 Violent Crime per 100,000',\n",
    "                       '2017 Incidents of Violent Crime Reported to Law Enforcement Agencies (per 100,000 population)' : '2017 Violent Crime per 100,000',\n",
    "                       '2016 Incidents of Violent Crime Reported to Law Enforcement Agencies (per 100,000 population)' : '2016 Violent Crime per 100,000',\n",
    "                       '2015 Incidents of Violent Crime Reported to Law Enforcement Agencies (per 100,000 population)' : '2015 Violent Crime per 100,000',\n",
    "                       '2014 Incidents of Violent Crime Reported to Law Enforcement Agencies (per 100,000 population)' : '2014 Violent Crime per 100,000',\n",
    "                       '2013 Incidents of Violent Crime Reported to Law Enforcement Agencies (per 100,000 population)' : '2013 Violent Crime per 100,000',\n",
    "                       '2012 Incidents of Violent Crime Reported to Law Enforcement Agencies (per 100,000 population)' : '2012 Violent Crime per 100,000',\n",
    "                       '2011 Incidents of Violent Crime Reported to Law Enforcement Agencies (per 100,000 population)' : '2011 Violent Crime per 100,000'}, inplace=True)\n",
    "del crime['State']"
   ]
  },
  {
   "cell_type": "code",
   "execution_count": null,
   "metadata": {},
   "outputs": [],
   "source": [
    "crime.iloc[:,2].fillna(357.2, inplace=True)\n",
    "crime.iloc[:,9].fillna(428, inplace=True)"
   ]
  },
  {
   "cell_type": "code",
   "execution_count": null,
   "metadata": {},
   "outputs": [],
   "source": [
    "crime.reset_index(drop=True, inplace=True)"
   ]
  },
  {
   "cell_type": "code",
   "execution_count": null,
   "metadata": {},
   "outputs": [],
   "source": [
    "crimeFlat = crime\n",
    "crimeStack = crime.melt(['FIPS','County'], var_name='Metric', value_name='Measure')"
   ]
  },
  {
   "cell_type": "code",
   "execution_count": null,
   "metadata": {},
   "outputs": [],
   "source": [
    "crimeStack['Indicator'] = \"Crime\""
   ]
  },
  {
   "cell_type": "code",
   "execution_count": 10,
   "metadata": {},
   "outputs": [],
   "source": [
    "counties = pd.read_excel('data/final/county-index-data.xlsx', sheet_name=\"flat\",usecols=\"A,B\")"
   ]
  },
  {
   "cell_type": "code",
   "execution_count": 11,
   "metadata": {},
   "outputs": [],
   "source": [
    "# now with crime\n",
    "youth = pd.read_excel('data/countyOppYouth.xlsx', sheet_name='pctOppYouth')"
   ]
  },
  {
   "cell_type": "code",
   "execution_count": 12,
   "metadata": {},
   "outputs": [],
   "source": [
    "youth.reset_index(drop=True, inplace=True)\n",
    "\n",
    "youthFlat = youth\n",
    "youthStack = youth.melt(['FIPS','County'], var_name='Metric', value_name='Measure')\n",
    "\n",
    "youthStack['Indicator'] = \"Opportunity\""
   ]
  },
  {
   "cell_type": "code",
   "execution_count": null,
   "metadata": {},
   "outputs": [],
   "source": []
  },
  {
   "cell_type": "code",
   "execution_count": 13,
   "metadata": {},
   "outputs": [],
   "source": [
    "# now with crime\n",
    "housing = pd.read_excel('data/opportunity-index-2018.xlsx', sheet_name='Counties', skiprows=2, usecols=\"A,B,C,BR:BZ\")\n",
    "housing = housing.loc[housing['State'] == \"Georgia\"]"
   ]
  },
  {
   "cell_type": "code",
   "execution_count": 14,
   "metadata": {},
   "outputs": [],
   "source": [
    "housing.sort_values('2019 Households Spending Less than 30% of Income on Housing', inplace=True)"
   ]
  },
  {
   "cell_type": "code",
   "execution_count": 15,
   "metadata": {},
   "outputs": [],
   "source": [
    "del housing['State']\n",
    "\n",
    "housing.iloc[:,2].fillna(69.9,inplace=True)\n",
    "housing.iloc[:,10].fillna(63.3,inplace=True)\n",
    "\n",
    "housing.reset_index(drop=True, inplace=True)\n",
    "\n",
    "housingFlat = housing\n",
    "housingStack = housing.melt(['FIPS','County'], var_name='Metric', value_name='Measure')\n",
    "\n",
    "housingStack['Indicator'] = \"Opportunity\"\n"
   ]
  },
  {
   "cell_type": "code",
   "execution_count": null,
   "metadata": {},
   "outputs": [],
   "source": []
  },
  {
   "cell_type": "code",
   "execution_count": 16,
   "metadata": {},
   "outputs": [],
   "source": [
    "# now with crime\n",
    "poverty = pd.read_excel('data/countyPoverty.xlsx', sheet_name='povertyFlat')"
   ]
  },
  {
   "cell_type": "code",
   "execution_count": null,
   "metadata": {},
   "outputs": [],
   "source": []
  },
  {
   "cell_type": "code",
   "execution_count": 17,
   "metadata": {},
   "outputs": [],
   "source": [
    "povertyFlat = poverty\n",
    "povertyStack = poverty.melt(['FIPS','County'], var_name='Metric', value_name='Measure')\n",
    "\n",
    "povertyStack['Indicator'] = \"Opportunity\""
   ]
  },
  {
   "cell_type": "code",
   "execution_count": 18,
   "metadata": {},
   "outputs": [],
   "source": [
    "# now with unemployment\n",
    "unemploymentFlat = pd.read_excel('data/county-unemployment-rates-15-19.xlsx')\n",
    "unemploymentFlat['Unemployment Rate Change Since 2015'] = unemploymentFlat['2019 Unemployment Rate'] - unemploymentFlat['2015 Unemployment Rate']\n",
    "unemploymentStack = unemploymentFlat.melt('County', var_name='Metric', value_name='Measure')\n",
    "unemploymentStack['Indicator'] = \"Economy\""
   ]
  },
  {
   "cell_type": "code",
   "execution_count": 19,
   "metadata": {},
   "outputs": [],
   "source": [
    "# now with grp\n",
    "grpFlat = pd.read_excel('data/county-grp.xlsx', sheet_name=\"county-grp\")\n",
    "grpFlat['GRP % Change Since 2009'] = ( grpFlat['2019 GRP'] - grpFlat['2009 GRP'] ) / grpFlat['2009 GRP']\n",
    "grpStack = grpFlat.melt(['FIPS','County'], var_name='Metric', value_name='Measure')\n",
    "grpStack['Indicator'] = \"Economy\""
   ]
  },
  {
   "cell_type": "code",
   "execution_count": 20,
   "metadata": {},
   "outputs": [],
   "source": [
    "# now with prek enrollment\n",
    "# now with crime\n",
    "prek = pd.read_excel('data/countyPreK.xlsx')"
   ]
  },
  {
   "cell_type": "code",
   "execution_count": 21,
   "metadata": {},
   "outputs": [],
   "source": [
    "prekFlat = prek\n",
    "prekStack = prek.melt(['FIPS','County'], var_name='Metric', value_name='Measure')\n",
    "\n",
    "prekStack['Indicator'] = \"Education\""
   ]
  },
  {
   "cell_type": "code",
   "execution_count": 40,
   "metadata": {},
   "outputs": [],
   "source": [
    "prekCountsFlat = pd.read_excel('data/county-prek.xlsx')"
   ]
  },
  {
   "cell_type": "code",
   "execution_count": 41,
   "metadata": {},
   "outputs": [],
   "source": [
    "prekCountsStacked = prekCountsFlat.melt(['FIPS','County'], var_name='Metric', value_name='Measure')\n",
    "prekCountsStacked['Indicator'] = \"Education\""
   ]
  },
  {
   "cell_type": "code",
   "execution_count": 24,
   "metadata": {},
   "outputs": [],
   "source": [
    "# now with associates +\n",
    "college = pd.read_excel('data/opportunity-index-2018.xlsx', sheet_name='Counties', skiprows=2, usecols=\"A,B,C,DS:EC\")\n",
    "college = college.loc[college['State'] == \"Georgia\"]\n",
    "del college['State']"
   ]
  },
  {
   "cell_type": "code",
   "execution_count": 25,
   "metadata": {},
   "outputs": [],
   "source": [
    "college.rename(columns={ '2019 Associates Degree or Higher (% of adults 25 and older)' : '2019 % w/ Associates or Higher',\n",
    "                         '2018 Associates Degree or Higher (% of adults 25 and older)' : '2018 % w/ Associates or Higher',\n",
    "                         '2017 Associates Degree or Higher (% of adults 25 and older)' : '2017 % w/ Associates or Higher',\n",
    "                         '2016 Associates Degree or Higher (% of adults 25 and older)' : '2016 % w/ Associates or Higher',\n",
    "                         '2015 Associates Degree or Higher (% of adults 25 and older)' : '2015 % w/ Associates or Higher',\n",
    "                         '2014 Associates Degree or Higher (% of adults 25 and older)' : '2014 % w/ Associates or Higher',\n",
    "                         '2013 Associates Degree or Higher (% of adults 25 and older)' : '2013 % w/ Associates or Higher',\n",
    "                         '2012 Associates Degree or Higher (% of adults 25 and older)' : '2012 % w/ Associates or Higher',\n",
    "                         '2011 Associates Degree or Higher (% of adults 25 and older)' : '2011 % w/ Associates or Higher',\n",
    "                         '% Change Associates Degree or Higher (2018-2019)'                 : 'Change % Associates or Higher 2018-2019',\n",
    "                         '% Change Associates Degree or Higher (2011-2019)'                 : 'Change % Associates or Higher 2011-2019'}, inplace=True)\n",
    "\n",
    "college.iloc[:,2].fillna(38.7, inplace=True)\n",
    "college.iloc[:,10].fillna(34, inplace=True)\n",
    "college.iloc[:,11].fillna(.017, inplace=True)\n",
    "college.iloc[:,12].fillna(.14, inplace=True)\n",
    "college.reset_index(drop=True, inplace=True)\n",
    "\n",
    "collegeFlat = college\n",
    "collegeStack = college.melt(['FIPS','County'], var_name='Metric', value_name='Measure')\n",
    "\n",
    "collegeStack['Indicator'] = \"Education\""
   ]
  },
  {
   "cell_type": "code",
   "execution_count": 26,
   "metadata": {},
   "outputs": [],
   "source": [
    "# now with health insurance\n",
    "uninsured = pd.read_excel('data/opportunity-index-2018.xlsx', sheet_name='Counties', skiprows=2, usecols=\"A,B,C,ET:EY\")\n",
    "uninsured = uninsured.loc[uninsured['State'] == \"Georgia\"]\n",
    "del uninsured['State']"
   ]
  },
  {
   "cell_type": "code",
   "execution_count": 27,
   "metadata": {},
   "outputs": [],
   "source": [
    "uninsured.rename(columns={ '2019 Lack of Health Insurance (% of the population under age 65 without health insurance coverage)' : '2019 % No Insurance',\n",
    "                           '2018 Lack of Health Insurance (% of the population under age 65 without health insurance coverage)' : '2018 % No Insurance',\n",
    "                           '2017 Lack of Health Insurance (% of the population under age 65 without health insurance coverage)' : '2017 % No Insurance',\n",
    "                           '2016 Lack of Health Insurance (% of the population under age 65 without health insurance coverage)' : '2016 % No Insurance',}, inplace=True)\n",
    "\n",
    "uninsured.iloc[:,2].fillna(13.4, inplace=True)\n",
    "uninsured.iloc[:,5].fillna(15.8, inplace=True)\n",
    "uninsured.reset_index(drop=True, inplace=True)\n",
    "\n",
    "uninsuredFlat = uninsured\n",
    "uninsuredStack = uninsured.melt(['FIPS','County'], var_name='Metric', value_name='Measure')\n",
    "\n",
    "uninsuredStack['Indicator'] = \"Health Care\""
   ]
  },
  {
   "cell_type": "code",
   "execution_count": 28,
   "metadata": {},
   "outputs": [],
   "source": [
    "# now with doctors\n",
    "doctors = pd.read_excel('data/opportunity-index-2018.xlsx', sheet_name='Counties', skiprows=2, usecols=\"A,B,C,GQ:GU\")\n",
    "doctors = doctors.loc[doctors['State'] == \"Georgia\"]\n",
    "del doctors['State']"
   ]
  },
  {
   "cell_type": "code",
   "execution_count": 29,
   "metadata": {},
   "outputs": [],
   "source": [
    "doctors['2018 Primary Care Physicians (per 100,000 population)'].fillna(65.8, inplace=True)\n",
    "doctors['2016 Primary Care Physicians (per 100,000 population)'].fillna(65.6, inplace=True)\n",
    "doctors.iloc[:,5].fillna(-0.2, inplace=True)\n",
    "doctors.iloc[:,6].fillna(0.3, inplace=True)\n",
    "doctors.reset_index(drop=True, inplace=True)\n",
    "\n",
    "doctorsFlat = doctors\n",
    "doctorsStack = doctors.melt(['FIPS','County'], var_name='Metric', value_name='Measure')\n",
    "\n",
    "doctorsStack['Indicator'] = \"Health Care\""
   ]
  },
  {
   "cell_type": "code",
   "execution_count": 30,
   "metadata": {},
   "outputs": [],
   "source": [
    "doctors.sort_values('2018 Primary Care Physicians (per 100,000 population)', inplace=True)"
   ]
  },
  {
   "cell_type": "code",
   "execution_count": 31,
   "metadata": {},
   "outputs": [],
   "source": [
    "laborFlat = pd.read_excel('data/labor-force.xlsx', sheet_name='labor-force', usecols='A,B,E,H,K,N,Q')\n",
    "laborStack = laborFlat.melt(['FIPS','County'], var_name='Metric', value_name='Measure')\n",
    "laborStack['Indicator'] = 'Economy'"
   ]
  },
  {
   "cell_type": "code",
   "execution_count": 32,
   "metadata": {},
   "outputs": [],
   "source": [
    "# high school grad rates\n",
    "gradRatesFlat = pd.read_excel('data/hs-grad-rates.xlsx', sheet_name='gradRatesCounty', usecols='A,B,E,H,K,N,Q')\n",
    "gradRatesStack = gradRatesFlat.melt(['FIPS','County'], var_name='Metric', value_name='Measure')\n",
    "gradRatesStack['Indicator'] = 'Education'"
   ]
  },
  {
   "cell_type": "code",
   "execution_count": 33,
   "metadata": {},
   "outputs": [],
   "source": [
    "# need to get population in here\n",
    "popFlat = pd.read_excel('data/population.xlsx')\n",
    "popFlat['2011 Population'] = popFlat['2011 Population'] * 1000\n",
    "popFlat['2012 Population'] = popFlat['2012 Population'] * 1000\n",
    "popFlat['2013 Population'] = popFlat['2013 Population'] * 1000\n",
    "popFlat['2014 Population'] = popFlat['2014 Population'] * 1000\n",
    "popFlat['2015 Population'] = popFlat['2015 Population'] * 1000\n",
    "popFlat['2016 Population'] = popFlat['2016 Population'] * 1000\n",
    "popFlat['2017 Population'] = popFlat['2017 Population'] * 1000\n",
    "popFlat['2018 Population'] = popFlat['2018 Population'] * 1000\n",
    "popFlat['2019 Population'] = popFlat['2019 Population'] * 1000\n",
    "popFlat['2020 Population'] = popFlat['2020 Population'] * 1000\n",
    "popFlat['Population Change 2011-2020'] = ( popFlat['2020 Population'] - popFlat['2011 Population'] ) / popFlat['2011 Population']\n",
    "popStack = popFlat.melt(['FIPS','County'], var_name='Metric', value_name='Measure')\n",
    "popStack['Indicator'] = 'Economy'"
   ]
  },
  {
   "cell_type": "code",
   "execution_count": 34,
   "metadata": {},
   "outputs": [],
   "source": [
    "# need to get a health metric\n",
    "lifeFlat = pd.read_excel('data/life-expectancy.xlsx')\n",
    "lifeStack = lifeFlat.melt(['FIPS','County'], var_name='Metric', value_name='Measure')\n",
    "lifeStack['Indicator'] = 'Health'"
   ]
  },
  {
   "cell_type": "code",
   "execution_count": 35,
   "metadata": {},
   "outputs": [],
   "source": [
    "# join all frames properly into a single flat frame and a single stacked frame\n",
    "# prisonFlat,crimeFlat,youthFlat,housingFlat,povertyFlat,unemploymentFlat,grpFlat,prekFlat,collegeFlat,prekCountsFlat,\n",
    "# uninsuredFlat,doctorsFlat,gradRatesFlat,lifeFlat, popFlat,laborFlat\n",
    "\n",
    "\n",
    "# prisonStack,crimeStack,youthStack,housingStack,povertyStack,unemploymentStack,grpStack,prekStack,collegeStack,\n",
    "# prekCountsStacked, uninsuredStack,doctorsStack,gradRatesStack, popStack"
   ]
  },
  {
   "cell_type": "code",
   "execution_count": 36,
   "metadata": {},
   "outputs": [],
   "source": [
    "# make sure all frames have appropriate FIPS and County Name columns\n",
    "# counties = crimeFlat[['FIPS','County']]\n",
    "\n",
    "# prisonFlat = pd.merge(prisonFlat, counties, how='left', on='County')\n",
    "# prisonStack = pd.merge(prisonStack, counties, how='left', on='County')\n",
    "\n",
    "unemploymentFlat = pd.merge(unemploymentFlat, counties, how='left', on='County')\n",
    "unemploymentStack = pd.merge(unemploymentStack, counties, how='left', on='County')"
   ]
  },
  {
   "cell_type": "code",
   "execution_count": 37,
   "metadata": {},
   "outputs": [],
   "source": [
    "unemploymentFlat.rename(columns={ 'FIPS_x' : 'FIPS'}, inplace=True)\n",
    "unemploymentStack.rename(columns={ 'FIPS_x' : 'FIPS'}, inplace=True)"
   ]
  },
  {
   "cell_type": "code",
   "execution_count": 38,
   "metadata": {},
   "outputs": [],
   "source": [
    "# prisonStack = prisonStack[['FIPS','County','Metric','Measure','Indicator']]\n",
    "unemploymentStack = unemploymentStack[['FIPS','County','Metric','Measure','Indicator']]"
   ]
  },
  {
   "cell_type": "code",
   "execution_count": 42,
   "metadata": {},
   "outputs": [],
   "source": [
    "# stack all stacked frames on top of one another\n",
    "stacks = [youthStack,housingStack,\n",
    "          povertyStack,unemploymentStack,grpStack,prekStack,gradRatesStack,\n",
    "          collegeStack,prekCountsStacked, uninsuredStack,doctorsStack,\n",
    "          laborStack, popStack, lifeStack]\n",
    "\n",
    "dataStacked = pd.concat(stacks).reset_index(drop=True)\n"
   ]
  },
  {
   "cell_type": "code",
   "execution_count": 43,
   "metadata": {},
   "outputs": [],
   "source": [
    "dataStacked['Year'] = dataStacked['Metric'].apply(lambda x: x.split()[0])"
   ]
  },
  {
   "cell_type": "code",
   "execution_count": 44,
   "metadata": {},
   "outputs": [],
   "source": [
    "dataStacked = dataStacked.sort_values(['County','Indicator','Metric'])"
   ]
  },
  {
   "cell_type": "code",
   "execution_count": 45,
   "metadata": {},
   "outputs": [],
   "source": [
    "dataStacked = dataStacked[['FIPS','County','Year','Indicator','Metric','Measure']].reset_index(drop=True)"
   ]
  },
  {
   "cell_type": "code",
   "execution_count": 46,
   "metadata": {},
   "outputs": [],
   "source": [
    "unemploymentFlat = unemploymentFlat.sort_values('FIPS')"
   ]
  },
  {
   "cell_type": "code",
   "execution_count": null,
   "metadata": {},
   "outputs": [],
   "source": [
    "stop here!!!!"
   ]
  },
  {
   "cell_type": "code",
   "execution_count": 47,
   "metadata": {},
   "outputs": [],
   "source": [
    "# join all flat files into one enormous file and write out as official file for reference\n",
    "# ,crimeFlat,youthFlat,housingFlat,povertyFlat,,grpFlat,prekFlat,collegeFlat,prekCountsFlat,\n",
    "# uninsuredFlat,doctorsFlat,prisonFlat,unemploymentFlat\n",
    "# dataFlat = pd.merge(crimeFlat,youthFlat,how='left',on=['FIPS','County'])\n",
    "\n",
    "dataFlat = pd.merge(youthFlat,housingFlat,how='left',on=['FIPS','County'])\n",
    "dataFlat = pd.merge(dataFlat,povertyFlat,how='left',on=['FIPS','County'])\n",
    "dataFlat = pd.merge(dataFlat,grpFlat,how='left',on=['FIPS','County'])\n",
    "dataFlat = pd.merge(dataFlat,collegeFlat,how='left',on=['FIPS','County'])\n",
    "dataFlat = pd.merge(dataFlat,prekFlat,how='left',on=['FIPS','County'])\n",
    "dataFlat = pd.merge(dataFlat,prekCountsFlat,how='left',on=['FIPS','County'])\n",
    "dataFlat = pd.merge(dataFlat,uninsuredFlat,how='left',on=['FIPS','County'])\n",
    "dataFlat = pd.merge(dataFlat,doctorsFlat,how='left',on=['FIPS','County'])\n",
    "# dataFlat = pd.merge(dataFlat,prisonFlat,how='left',on=['FIPS','County'])\n",
    "dataFlat = pd.merge(dataFlat,unemploymentFlat,how='left',on=['FIPS','County'])\n",
    "dataFlat = pd.merge(dataFlat,gradRatesFlat,how='left',on=['FIPS','County'])\n",
    "dataFlat = pd.merge(dataFlat,lifeFlat,how='left',on=['FIPS','County'])\n",
    "dataFlat = pd.merge(dataFlat,popFlat,how='left',on=['FIPS','County'])\n",
    "dataFlat = pd.merge(dataFlat,laborFlat,how='left',on=['FIPS','County'])"
   ]
  },
  {
   "cell_type": "code",
   "execution_count": 48,
   "metadata": {},
   "outputs": [],
   "source": [
    "# keep only those columns being used in actual indicators and save as 'data'\n",
    "# data = dataFlat.iloc[:,np.r_[0:3,10,19,28,38,49,50,51,61,62,74,80,89,94,96,101,112,117]]\n",
    "data = dataFlat.iloc[:,np.r_[0:3,11,20,28,39,40,41,51,52,64,70,79,80,81,86,97,102]]"
   ]
  },
  {
   "cell_type": "code",
   "execution_count": 49,
   "metadata": {},
   "outputs": [
    {
     "data": {
      "text/html": [
       "<div>\n",
       "<style scoped>\n",
       "    .dataframe tbody tr th:only-of-type {\n",
       "        vertical-align: middle;\n",
       "    }\n",
       "\n",
       "    .dataframe tbody tr th {\n",
       "        vertical-align: top;\n",
       "    }\n",
       "\n",
       "    .dataframe thead th {\n",
       "        text-align: right;\n",
       "    }\n",
       "</style>\n",
       "<table border=\"1\" class=\"dataframe\">\n",
       "  <thead>\n",
       "    <tr style=\"text-align: right;\">\n",
       "      <th></th>\n",
       "      <th>FIPS</th>\n",
       "      <th>County</th>\n",
       "      <th>2018 Youth (16-19) Not In School and Not Working %</th>\n",
       "      <th>2019 Households Spending Less than 30% of Income on Housing</th>\n",
       "      <th>2018 Poverty Rate</th>\n",
       "      <th>% Change Poverty 2012-2018</th>\n",
       "      <th>2019 GRP</th>\n",
       "      <th>GRP % Change Since 2009</th>\n",
       "      <th>2019 % w/ Associates or Higher</th>\n",
       "      <th>% Change  Associates Degree or Higher 2011-2019</th>\n",
       "      <th>2018  % 3 and 4 in Pre-K</th>\n",
       "      <th>2019 % No Insurance</th>\n",
       "      <th>2018 Primary Care Physicians (per 100,000 population)</th>\n",
       "      <th>2019 Unemployment Rate</th>\n",
       "      <th>Unemployment Rate Change Since 2015</th>\n",
       "      <th>2019 Grad Rate</th>\n",
       "      <th>Life Expectancy</th>\n",
       "      <th>Population Change 2011-2020</th>\n",
       "      <th>2018 Labor Force Participation</th>\n",
       "    </tr>\n",
       "  </thead>\n",
       "  <tbody>\n",
       "    <tr>\n",
       "      <th>0</th>\n",
       "      <td>13001</td>\n",
       "      <td>Appling County</td>\n",
       "      <td>21.028037</td>\n",
       "      <td>80.667099</td>\n",
       "      <td>23.3</td>\n",
       "      <td>2.653650</td>\n",
       "      <td>820.301</td>\n",
       "      <td>0.210207</td>\n",
       "      <td>17.119520</td>\n",
       "      <td>0.171582</td>\n",
       "      <td>28.6</td>\n",
       "      <td>17.5</td>\n",
       "      <td>43.278336</td>\n",
       "      <td>0.039</td>\n",
       "      <td>-0.034</td>\n",
       "      <td>0.901639</td>\n",
       "      <td>75.209437</td>\n",
       "      <td>0.013049</td>\n",
       "      <td>0.776926</td>\n",
       "    </tr>\n",
       "    <tr>\n",
       "      <th>1</th>\n",
       "      <td>13003</td>\n",
       "      <td>Atkinson County</td>\n",
       "      <td>13.787086</td>\n",
       "      <td>76.870491</td>\n",
       "      <td>30.0</td>\n",
       "      <td>-4.066859</td>\n",
       "      <td>210.384</td>\n",
       "      <td>0.439941</td>\n",
       "      <td>15.242274</td>\n",
       "      <td>0.218101</td>\n",
       "      <td>49.3</td>\n",
       "      <td>24.8</td>\n",
       "      <td>0.000000</td>\n",
       "      <td>0.030</td>\n",
       "      <td>-0.027</td>\n",
       "      <td>0.897436</td>\n",
       "      <td>73.972711</td>\n",
       "      <td>0.008241</td>\n",
       "      <td>0.808328</td>\n",
       "    </tr>\n",
       "    <tr>\n",
       "      <th>2</th>\n",
       "      <td>13005</td>\n",
       "      <td>Bacon County</td>\n",
       "      <td>21.686747</td>\n",
       "      <td>75.213905</td>\n",
       "      <td>27.2</td>\n",
       "      <td>9.759118</td>\n",
       "      <td>384.762</td>\n",
       "      <td>0.359261</td>\n",
       "      <td>20.203917</td>\n",
       "      <td>0.680102</td>\n",
       "      <td>33.3</td>\n",
       "      <td>18.6</td>\n",
       "      <td>43.994720</td>\n",
       "      <td>0.035</td>\n",
       "      <td>-0.022</td>\n",
       "      <td>0.940789</td>\n",
       "      <td>73.169692</td>\n",
       "      <td>0.028669</td>\n",
       "      <td>0.712794</td>\n",
       "    </tr>\n",
       "    <tr>\n",
       "      <th>3</th>\n",
       "      <td>13007</td>\n",
       "      <td>Baker County</td>\n",
       "      <td>3.149606</td>\n",
       "      <td>73.704056</td>\n",
       "      <td>21.3</td>\n",
       "      <td>-14.543023</td>\n",
       "      <td>66.343</td>\n",
       "      <td>-0.009703</td>\n",
       "      <td>20.970537</td>\n",
       "      <td>0.140000</td>\n",
       "      <td>57.9</td>\n",
       "      <td>16.9</td>\n",
       "      <td>0.000000</td>\n",
       "      <td>0.047</td>\n",
       "      <td>-0.025</td>\n",
       "      <td>0.869565</td>\n",
       "      <td>77.457132</td>\n",
       "      <td>-0.057600</td>\n",
       "      <td>0.635353</td>\n",
       "    </tr>\n",
       "    <tr>\n",
       "      <th>4</th>\n",
       "      <td>13009</td>\n",
       "      <td>Baldwin County</td>\n",
       "      <td>7.612121</td>\n",
       "      <td>63.119434</td>\n",
       "      <td>26.2</td>\n",
       "      <td>-2.549094</td>\n",
       "      <td>1391.427</td>\n",
       "      <td>-0.055569</td>\n",
       "      <td>26.802322</td>\n",
       "      <td>0.160682</td>\n",
       "      <td>51.3</td>\n",
       "      <td>12.4</td>\n",
       "      <td>57.534851</td>\n",
       "      <td>0.042</td>\n",
       "      <td>-0.035</td>\n",
       "      <td>0.906977</td>\n",
       "      <td>74.864321</td>\n",
       "      <td>-0.000731</td>\n",
       "      <td>0.579207</td>\n",
       "    </tr>\n",
       "  </tbody>\n",
       "</table>\n",
       "</div>"
      ],
      "text/plain": [
       "    FIPS           County  2018 Youth (16-19) Not In School and Not Working %  \\\n",
       "0  13001   Appling County                                          21.028037    \n",
       "1  13003  Atkinson County                                          13.787086    \n",
       "2  13005     Bacon County                                          21.686747    \n",
       "3  13007     Baker County                                           3.149606    \n",
       "4  13009   Baldwin County                                           7.612121    \n",
       "\n",
       "   2019 Households Spending Less than 30% of Income on Housing  \\\n",
       "0                                          80.667099             \n",
       "1                                          76.870491             \n",
       "2                                          75.213905             \n",
       "3                                          73.704056             \n",
       "4                                          63.119434             \n",
       "\n",
       "   2018 Poverty Rate  % Change Poverty 2012-2018  2019 GRP  \\\n",
       "0               23.3                    2.653650   820.301   \n",
       "1               30.0                   -4.066859   210.384   \n",
       "2               27.2                    9.759118   384.762   \n",
       "3               21.3                  -14.543023    66.343   \n",
       "4               26.2                   -2.549094  1391.427   \n",
       "\n",
       "   GRP % Change Since 2009  2019 % w/ Associates or Higher  \\\n",
       "0                 0.210207                       17.119520   \n",
       "1                 0.439941                       15.242274   \n",
       "2                 0.359261                       20.203917   \n",
       "3                -0.009703                       20.970537   \n",
       "4                -0.055569                       26.802322   \n",
       "\n",
       "   % Change  Associates Degree or Higher 2011-2019  2018  % 3 and 4 in Pre-K  \\\n",
       "0                                         0.171582                      28.6   \n",
       "1                                         0.218101                      49.3   \n",
       "2                                         0.680102                      33.3   \n",
       "3                                         0.140000                      57.9   \n",
       "4                                         0.160682                      51.3   \n",
       "\n",
       "   2019 % No Insurance  2018 Primary Care Physicians (per 100,000 population)  \\\n",
       "0                 17.5                                          43.278336       \n",
       "1                 24.8                                           0.000000       \n",
       "2                 18.6                                          43.994720       \n",
       "3                 16.9                                           0.000000       \n",
       "4                 12.4                                          57.534851       \n",
       "\n",
       "   2019 Unemployment Rate  Unemployment Rate Change Since 2015  \\\n",
       "0                   0.039                               -0.034   \n",
       "1                   0.030                               -0.027   \n",
       "2                   0.035                               -0.022   \n",
       "3                   0.047                               -0.025   \n",
       "4                   0.042                               -0.035   \n",
       "\n",
       "   2019 Grad Rate  Life Expectancy  Population Change 2011-2020  \\\n",
       "0        0.901639        75.209437                     0.013049   \n",
       "1        0.897436        73.972711                     0.008241   \n",
       "2        0.940789        73.169692                     0.028669   \n",
       "3        0.869565        77.457132                    -0.057600   \n",
       "4        0.906977        74.864321                    -0.000731   \n",
       "\n",
       "   2018 Labor Force Participation  \n",
       "0                        0.776926  \n",
       "1                        0.808328  \n",
       "2                        0.712794  \n",
       "3                        0.635353  \n",
       "4                        0.579207  "
      ]
     },
     "execution_count": 49,
     "metadata": {},
     "output_type": "execute_result"
    }
   ],
   "source": [
    "data.head()"
   ]
  },
  {
   "cell_type": "code",
   "execution_count": 50,
   "metadata": {},
   "outputs": [
    {
     "name": "stderr",
     "output_type": "stream",
     "text": [
      "/Users/mmainza/opt/anaconda3/lib/python3.7/site-packages/ipykernel_launcher.py:5: SettingWithCopyWarning: \n",
      "A value is trying to be set on a copy of a slice from a DataFrame.\n",
      "Try using .loc[row_indexer,col_indexer] = value instead\n",
      "\n",
      "See the caveats in the documentation: https://pandas.pydata.org/pandas-docs/stable/user_guide/indexing.html#returning-a-view-versus-a-copy\n",
      "  \"\"\"\n",
      "/Users/mmainza/opt/anaconda3/lib/python3.7/site-packages/ipykernel_launcher.py:6: SettingWithCopyWarning: \n",
      "A value is trying to be set on a copy of a slice from a DataFrame.\n",
      "Try using .loc[row_indexer,col_indexer] = value instead\n",
      "\n",
      "See the caveats in the documentation: https://pandas.pydata.org/pandas-docs/stable/user_guide/indexing.html#returning-a-view-versus-a-copy\n",
      "  \n",
      "/Users/mmainza/opt/anaconda3/lib/python3.7/site-packages/ipykernel_launcher.py:7: SettingWithCopyWarning: \n",
      "A value is trying to be set on a copy of a slice from a DataFrame.\n",
      "Try using .loc[row_indexer,col_indexer] = value instead\n",
      "\n",
      "See the caveats in the documentation: https://pandas.pydata.org/pandas-docs/stable/user_guide/indexing.html#returning-a-view-versus-a-copy\n",
      "  import sys\n",
      "/Users/mmainza/opt/anaconda3/lib/python3.7/site-packages/ipykernel_launcher.py:8: SettingWithCopyWarning: \n",
      "A value is trying to be set on a copy of a slice from a DataFrame.\n",
      "Try using .loc[row_indexer,col_indexer] = value instead\n",
      "\n",
      "See the caveats in the documentation: https://pandas.pydata.org/pandas-docs/stable/user_guide/indexing.html#returning-a-view-versus-a-copy\n",
      "  \n",
      "/Users/mmainza/opt/anaconda3/lib/python3.7/site-packages/ipykernel_launcher.py:9: SettingWithCopyWarning: \n",
      "A value is trying to be set on a copy of a slice from a DataFrame.\n",
      "Try using .loc[row_indexer,col_indexer] = value instead\n",
      "\n",
      "See the caveats in the documentation: https://pandas.pydata.org/pandas-docs/stable/user_guide/indexing.html#returning-a-view-versus-a-copy\n",
      "  if __name__ == '__main__':\n",
      "/Users/mmainza/opt/anaconda3/lib/python3.7/site-packages/ipykernel_launcher.py:10: SettingWithCopyWarning: \n",
      "A value is trying to be set on a copy of a slice from a DataFrame.\n",
      "Try using .loc[row_indexer,col_indexer] = value instead\n",
      "\n",
      "See the caveats in the documentation: https://pandas.pydata.org/pandas-docs/stable/user_guide/indexing.html#returning-a-view-versus-a-copy\n",
      "  # Remove the CWD from sys.path while we load stuff.\n",
      "/Users/mmainza/opt/anaconda3/lib/python3.7/site-packages/ipykernel_launcher.py:11: SettingWithCopyWarning: \n",
      "A value is trying to be set on a copy of a slice from a DataFrame.\n",
      "Try using .loc[row_indexer,col_indexer] = value instead\n",
      "\n",
      "See the caveats in the documentation: https://pandas.pydata.org/pandas-docs/stable/user_guide/indexing.html#returning-a-view-versus-a-copy\n",
      "  # This is added back by InteractiveShellApp.init_path()\n",
      "/Users/mmainza/opt/anaconda3/lib/python3.7/site-packages/ipykernel_launcher.py:12: SettingWithCopyWarning: \n",
      "A value is trying to be set on a copy of a slice from a DataFrame.\n",
      "Try using .loc[row_indexer,col_indexer] = value instead\n",
      "\n",
      "See the caveats in the documentation: https://pandas.pydata.org/pandas-docs/stable/user_guide/indexing.html#returning-a-view-versus-a-copy\n",
      "  if sys.path[0] == '':\n",
      "/Users/mmainza/opt/anaconda3/lib/python3.7/site-packages/ipykernel_launcher.py:13: SettingWithCopyWarning: \n",
      "A value is trying to be set on a copy of a slice from a DataFrame.\n",
      "Try using .loc[row_indexer,col_indexer] = value instead\n",
      "\n",
      "See the caveats in the documentation: https://pandas.pydata.org/pandas-docs/stable/user_guide/indexing.html#returning-a-view-versus-a-copy\n",
      "  del sys.path[0]\n",
      "/Users/mmainza/opt/anaconda3/lib/python3.7/site-packages/ipykernel_launcher.py:14: SettingWithCopyWarning: \n",
      "A value is trying to be set on a copy of a slice from a DataFrame.\n",
      "Try using .loc[row_indexer,col_indexer] = value instead\n",
      "\n",
      "See the caveats in the documentation: https://pandas.pydata.org/pandas-docs/stable/user_guide/indexing.html#returning-a-view-versus-a-copy\n",
      "  \n",
      "/Users/mmainza/opt/anaconda3/lib/python3.7/site-packages/ipykernel_launcher.py:15: SettingWithCopyWarning: \n",
      "A value is trying to be set on a copy of a slice from a DataFrame.\n",
      "Try using .loc[row_indexer,col_indexer] = value instead\n",
      "\n",
      "See the caveats in the documentation: https://pandas.pydata.org/pandas-docs/stable/user_guide/indexing.html#returning-a-view-versus-a-copy\n",
      "  from ipykernel import kernelapp as app\n",
      "/Users/mmainza/opt/anaconda3/lib/python3.7/site-packages/ipykernel_launcher.py:17: SettingWithCopyWarning: \n",
      "A value is trying to be set on a copy of a slice from a DataFrame.\n",
      "Try using .loc[row_indexer,col_indexer] = value instead\n",
      "\n",
      "See the caveats in the documentation: https://pandas.pydata.org/pandas-docs/stable/user_guide/indexing.html#returning-a-view-versus-a-copy\n",
      "/Users/mmainza/opt/anaconda3/lib/python3.7/site-packages/ipykernel_launcher.py:19: SettingWithCopyWarning: \n",
      "A value is trying to be set on a copy of a slice from a DataFrame.\n",
      "Try using .loc[row_indexer,col_indexer] = value instead\n",
      "\n",
      "See the caveats in the documentation: https://pandas.pydata.org/pandas-docs/stable/user_guide/indexing.html#returning-a-view-versus-a-copy\n",
      "/Users/mmainza/opt/anaconda3/lib/python3.7/site-packages/ipykernel_launcher.py:20: SettingWithCopyWarning: \n",
      "A value is trying to be set on a copy of a slice from a DataFrame.\n",
      "Try using .loc[row_indexer,col_indexer] = value instead\n",
      "\n",
      "See the caveats in the documentation: https://pandas.pydata.org/pandas-docs/stable/user_guide/indexing.html#returning-a-view-versus-a-copy\n",
      "/Users/mmainza/opt/anaconda3/lib/python3.7/site-packages/ipykernel_launcher.py:21: SettingWithCopyWarning: \n",
      "A value is trying to be set on a copy of a slice from a DataFrame.\n",
      "Try using .loc[row_indexer,col_indexer] = value instead\n",
      "\n",
      "See the caveats in the documentation: https://pandas.pydata.org/pandas-docs/stable/user_guide/indexing.html#returning-a-view-versus-a-copy\n",
      "/Users/mmainza/opt/anaconda3/lib/python3.7/site-packages/ipykernel_launcher.py:22: SettingWithCopyWarning: \n",
      "A value is trying to be set on a copy of a slice from a DataFrame.\n",
      "Try using .loc[row_indexer,col_indexer] = value instead\n",
      "\n",
      "See the caveats in the documentation: https://pandas.pydata.org/pandas-docs/stable/user_guide/indexing.html#returning-a-view-versus-a-copy\n"
     ]
    }
   ],
   "source": [
    "# need to create a min/max scale to normalize each column\n",
    "# several columns need higher normalized values to coincide with lower actual values\n",
    "    # this is because we want lower values in some cases to be communicated as better, i.e., crime, unemployment, etc.\n",
    "# data['Violent Crime Normalized'] = ( 1- (data.iloc[ : , 2 ]-data.iloc[ : , 2 ].min())/(data.iloc[ : , 2 ].max()-data.iloc[ : , 2 ].min()) ) * 100\n",
    "data['Opportunity Youth Normalized'] = ( 1- (data.iloc[ : , 2 ]-data.iloc[ : , 2 ].min())/(data.iloc[ : , 2 ].max()-data.iloc[ : , 2 ].min()) ) * 100\n",
    "data['Housing Normalized'] = (data.iloc[ : , 3 ]-data.iloc[ : , 3 ].min())/(data.iloc[ : , 3 ].max()-data.iloc[ : , 3 ].min()) * 100\n",
    "data['Poverty Normalized'] = ( 1- (data.iloc[ : , 4 ]-data.iloc[ : , 4 ].min())/(data.iloc[ : , 4 ].max()-data.iloc[ : , 4 ].min()) ) * 100\n",
    "data['Poverty Change Normalized'] = ( 1- (data.iloc[ : , 5 ]-data.iloc[ : , 5 ].min())/(data.iloc[ : , 5 ].max()-data.iloc[ : , 5 ].min()) ) * 100\n",
    "data['GRP Normalized'] = (data.iloc[ : , 6 ]-data.iloc[ : , 6 ].min())/(data.iloc[ : , 6 ].max()-data.iloc[ : , 6 ].min()) * 100\n",
    "data['GRP Change Normalized'] = (data.iloc[ : , 7 ]-data.iloc[ : , 7 ].min())/(data.iloc[ : , 7 ].max()-data.iloc[ : , 7 ].min()) * 100\n",
    "data['Ed. Attainment Normalized'] = (data.iloc[ : , 8 ]-data.iloc[ : , 8 ].min())/(data.iloc[ : , 8 ].max()-data.iloc[ : , 8 ].min()) * 100\n",
    "data['Ed. Attainment Change Normalized'] = (data.iloc[ : , 9 ]-data.iloc[ : , 9 ].min())/(data.iloc[ : , 9 ].max()-data.iloc[ : , 9 ].min()) * 100\n",
    "data['Pre-K Enroll Normalized'] = (data.iloc[ : , 10 ]-data.iloc[ : , 10 ].min())/(data.iloc[ : , 10 ].max()-data.iloc[ : , 10 ].min()) * 100\n",
    "data['Insurance Normalized'] = ( 1- (data.iloc[ : , 11 ]-data.iloc[ : , 11 ].min())/(data.iloc[ : , 11 ].max()-data.iloc[ : , 11 ].min()) ) * 100\n",
    "data['Doctors Normalized'] = (data.iloc[ : , 12 ]-data.iloc[ : , 12 ].min())/(data.iloc[ : , 12 ].max()-data.iloc[ : , 12 ].min()) * 100\n",
    "# data['Prison Normalized'] = ( 1- (data.iloc[ : , 15 ]-data.iloc[ : , 15 ].min())/(data.iloc[ : , 15 ].max()-data.iloc[ : , 15 ].min()) ) * 100\n",
    "data['Unemployment Normalized'] = ( 1- (data.iloc[ : , 13 ]-data.iloc[ : , 13 ].min())/(data.iloc[ : , 13 ].max()-data.iloc[ : , 13 ].min()) ) * 100\n",
    "\n",
    "data['HS Grad Rate Normalized'] = (data.iloc[ : , 15 ]-data.iloc[ : , 15 ].min())/(data.iloc[ : , 15 ].max()-data.iloc[ : , 15 ].min()) * 100\n",
    "data['Life Expectancy Normalized'] = (data.iloc[ : , 16 ]-data.iloc[ : , 16 ].min())/(data.iloc[ : , 16 ].max()-data.iloc[ : , 16 ].min()) * 100\n",
    "data['Population Change Normalized'] = (data.iloc[ : , 17 ]-data.iloc[ : , 17 ].min())/(data.iloc[ : , 17 ].max()-data.iloc[ : , 17 ].min()) * 100\n",
    "data['Labor Force Participation Normalized'] = (data.iloc[ : , 18 ]-data.iloc[ : , 18 ].min())/(data.iloc[ : , 18 ].max()-data.iloc[ : , 18 ].min()) * 100"
   ]
  },
  {
   "cell_type": "code",
   "execution_count": 51,
   "metadata": {
    "scrolled": true
   },
   "outputs": [
    {
     "name": "stderr",
     "output_type": "stream",
     "text": [
      "/Users/mmainza/opt/anaconda3/lib/python3.7/site-packages/ipykernel_launcher.py:5: SettingWithCopyWarning: \n",
      "A value is trying to be set on a copy of a slice from a DataFrame.\n",
      "Try using .loc[row_indexer,col_indexer] = value instead\n",
      "\n",
      "See the caveats in the documentation: https://pandas.pydata.org/pandas-docs/stable/user_guide/indexing.html#returning-a-view-versus-a-copy\n",
      "  \"\"\"\n",
      "/Users/mmainza/opt/anaconda3/lib/python3.7/site-packages/ipykernel_launcher.py:6: SettingWithCopyWarning: \n",
      "A value is trying to be set on a copy of a slice from a DataFrame.\n",
      "Try using .loc[row_indexer,col_indexer] = value instead\n",
      "\n",
      "See the caveats in the documentation: https://pandas.pydata.org/pandas-docs/stable/user_guide/indexing.html#returning-a-view-versus-a-copy\n",
      "  \n",
      "/Users/mmainza/opt/anaconda3/lib/python3.7/site-packages/ipykernel_launcher.py:7: SettingWithCopyWarning: \n",
      "A value is trying to be set on a copy of a slice from a DataFrame.\n",
      "Try using .loc[row_indexer,col_indexer] = value instead\n",
      "\n",
      "See the caveats in the documentation: https://pandas.pydata.org/pandas-docs/stable/user_guide/indexing.html#returning-a-view-versus-a-copy\n",
      "  import sys\n",
      "/Users/mmainza/opt/anaconda3/lib/python3.7/site-packages/ipykernel_launcher.py:8: SettingWithCopyWarning: \n",
      "A value is trying to be set on a copy of a slice from a DataFrame.\n",
      "Try using .loc[row_indexer,col_indexer] = value instead\n",
      "\n",
      "See the caveats in the documentation: https://pandas.pydata.org/pandas-docs/stable/user_guide/indexing.html#returning-a-view-versus-a-copy\n",
      "  \n",
      "/Users/mmainza/opt/anaconda3/lib/python3.7/site-packages/ipykernel_launcher.py:9: SettingWithCopyWarning: \n",
      "A value is trying to be set on a copy of a slice from a DataFrame.\n",
      "Try using .loc[row_indexer,col_indexer] = value instead\n",
      "\n",
      "See the caveats in the documentation: https://pandas.pydata.org/pandas-docs/stable/user_guide/indexing.html#returning-a-view-versus-a-copy\n",
      "  if __name__ == '__main__':\n",
      "/Users/mmainza/opt/anaconda3/lib/python3.7/site-packages/ipykernel_launcher.py:10: SettingWithCopyWarning: \n",
      "A value is trying to be set on a copy of a slice from a DataFrame.\n",
      "Try using .loc[row_indexer,col_indexer] = value instead\n",
      "\n",
      "See the caveats in the documentation: https://pandas.pydata.org/pandas-docs/stable/user_guide/indexing.html#returning-a-view-versus-a-copy\n",
      "  # Remove the CWD from sys.path while we load stuff.\n",
      "/Users/mmainza/opt/anaconda3/lib/python3.7/site-packages/ipykernel_launcher.py:11: SettingWithCopyWarning: \n",
      "A value is trying to be set on a copy of a slice from a DataFrame.\n",
      "Try using .loc[row_indexer,col_indexer] = value instead\n",
      "\n",
      "See the caveats in the documentation: https://pandas.pydata.org/pandas-docs/stable/user_guide/indexing.html#returning-a-view-versus-a-copy\n",
      "  # This is added back by InteractiveShellApp.init_path()\n",
      "/Users/mmainza/opt/anaconda3/lib/python3.7/site-packages/ipykernel_launcher.py:12: SettingWithCopyWarning: \n",
      "A value is trying to be set on a copy of a slice from a DataFrame.\n",
      "Try using .loc[row_indexer,col_indexer] = value instead\n",
      "\n",
      "See the caveats in the documentation: https://pandas.pydata.org/pandas-docs/stable/user_guide/indexing.html#returning-a-view-versus-a-copy\n",
      "  if sys.path[0] == '':\n",
      "/Users/mmainza/opt/anaconda3/lib/python3.7/site-packages/ipykernel_launcher.py:13: SettingWithCopyWarning: \n",
      "A value is trying to be set on a copy of a slice from a DataFrame.\n",
      "Try using .loc[row_indexer,col_indexer] = value instead\n",
      "\n",
      "See the caveats in the documentation: https://pandas.pydata.org/pandas-docs/stable/user_guide/indexing.html#returning-a-view-versus-a-copy\n",
      "  del sys.path[0]\n",
      "/Users/mmainza/opt/anaconda3/lib/python3.7/site-packages/ipykernel_launcher.py:14: SettingWithCopyWarning: \n",
      "A value is trying to be set on a copy of a slice from a DataFrame.\n",
      "Try using .loc[row_indexer,col_indexer] = value instead\n",
      "\n",
      "See the caveats in the documentation: https://pandas.pydata.org/pandas-docs/stable/user_guide/indexing.html#returning-a-view-versus-a-copy\n",
      "  \n",
      "/Users/mmainza/opt/anaconda3/lib/python3.7/site-packages/ipykernel_launcher.py:15: SettingWithCopyWarning: \n",
      "A value is trying to be set on a copy of a slice from a DataFrame.\n",
      "Try using .loc[row_indexer,col_indexer] = value instead\n",
      "\n",
      "See the caveats in the documentation: https://pandas.pydata.org/pandas-docs/stable/user_guide/indexing.html#returning-a-view-versus-a-copy\n",
      "  from ipykernel import kernelapp as app\n",
      "/Users/mmainza/opt/anaconda3/lib/python3.7/site-packages/ipykernel_launcher.py:17: SettingWithCopyWarning: \n",
      "A value is trying to be set on a copy of a slice from a DataFrame.\n",
      "Try using .loc[row_indexer,col_indexer] = value instead\n",
      "\n",
      "See the caveats in the documentation: https://pandas.pydata.org/pandas-docs/stable/user_guide/indexing.html#returning-a-view-versus-a-copy\n",
      "/Users/mmainza/opt/anaconda3/lib/python3.7/site-packages/ipykernel_launcher.py:18: SettingWithCopyWarning: \n",
      "A value is trying to be set on a copy of a slice from a DataFrame.\n",
      "Try using .loc[row_indexer,col_indexer] = value instead\n",
      "\n",
      "See the caveats in the documentation: https://pandas.pydata.org/pandas-docs/stable/user_guide/indexing.html#returning-a-view-versus-a-copy\n",
      "/Users/mmainza/opt/anaconda3/lib/python3.7/site-packages/ipykernel_launcher.py:19: SettingWithCopyWarning: \n",
      "A value is trying to be set on a copy of a slice from a DataFrame.\n",
      "Try using .loc[row_indexer,col_indexer] = value instead\n",
      "\n",
      "See the caveats in the documentation: https://pandas.pydata.org/pandas-docs/stable/user_guide/indexing.html#returning-a-view-versus-a-copy\n",
      "/Users/mmainza/opt/anaconda3/lib/python3.7/site-packages/ipykernel_launcher.py:20: SettingWithCopyWarning: \n",
      "A value is trying to be set on a copy of a slice from a DataFrame.\n",
      "Try using .loc[row_indexer,col_indexer] = value instead\n",
      "\n",
      "See the caveats in the documentation: https://pandas.pydata.org/pandas-docs/stable/user_guide/indexing.html#returning-a-view-versus-a-copy\n",
      "/Users/mmainza/opt/anaconda3/lib/python3.7/site-packages/ipykernel_launcher.py:21: SettingWithCopyWarning: \n",
      "A value is trying to be set on a copy of a slice from a DataFrame.\n",
      "Try using .loc[row_indexer,col_indexer] = value instead\n",
      "\n",
      "See the caveats in the documentation: https://pandas.pydata.org/pandas-docs/stable/user_guide/indexing.html#returning-a-view-versus-a-copy\n"
     ]
    }
   ],
   "source": [
    "# we can't do quantiles of the actual values, as that will miscommunicate those metrics where lower is better\n",
    "# instead, we do quantiles of the normalized values, where certain metrics are reversed\n",
    "\n",
    "# data['Violent Crime Quintile'] = pd.qcut(data['Violent Crime Normalized'],5,labels=False, duplicates='drop')\n",
    "data['Opportunity Youth Quintile'] = pd.qcut(data['Opportunity Youth Normalized'],5,labels=False, duplicates='drop')\n",
    "data['Housing Quintile'] = pd.qcut(data['Housing Normalized'],5,labels=False, duplicates='drop')\n",
    "data['Poverty Quintile'] = pd.qcut(data['Poverty Normalized'],5,labels=False, duplicates='drop')\n",
    "data['Poverty Change Quintile'] = pd.qcut(data['Poverty Change Normalized'],5,labels=False, duplicates='drop')\n",
    "data['GRP Quintile'] = pd.qcut(data['GRP Normalized'],5,labels=False, duplicates='drop')\n",
    "data['GRP Change Quintile'] = pd.qcut(data['GRP Change Normalized'],5,labels=False, duplicates='drop')\n",
    "data['Ed. Attainment Quintile'] = pd.qcut(data['Ed. Attainment Normalized'],5,labels=False, duplicates='drop')\n",
    "data['Ed. Attainment Change Quintile'] = pd.qcut(data['Ed. Attainment Change Normalized'],5,labels=False, duplicates='drop')\n",
    "data['Pre-K Enroll Quintile'] = pd.qcut(data['Pre-K Enroll Normalized'],5,labels=False, duplicates='drop')\n",
    "data['Insurance Quintile'] = pd.qcut(data['Insurance Normalized'],5,labels=False, duplicates='drop')\n",
    "data['Doctors Quintile'] = pd.qcut(data['Doctors Normalized'],5,labels=False, duplicates='drop')\n",
    "# data['Prison Quintile'] = pd.qcut(data['Prison Normalized'],5,labels=False, duplicates='drop')\n",
    "data['Unemployment Quintile'] = pd.qcut(data['Unemployment Normalized'],5,labels=False, duplicates='drop')\n",
    "data['HS Grad Rate Quintile'] = pd.qcut(data['HS Grad Rate Normalized'],5,labels=False, duplicates='drop')\n",
    "data['Life Expectancy Quintile'] = pd.qcut(data['Life Expectancy Normalized'],5,labels=False, duplicates='drop')\n",
    "data['Population Change Quintile'] = pd.qcut(data['Population Change Normalized'],5,labels=False, duplicates='drop')\n",
    "data['Labor Force Participation Quintile'] = pd.qcut(data['Labor Force Participation Normalized'],5,labels=False, duplicates='drop')"
   ]
  },
  {
   "cell_type": "code",
   "execution_count": 52,
   "metadata": {},
   "outputs": [],
   "source": [
    "# reformat this into two dataframes for simplicity - one with the stats and one with the actuals\n",
    "dataActuals = data.iloc[:,np.r_[0:19]]\n",
    "dataStats = data.iloc[:,np.r_[0:2,19:51]]\n",
    "# reorganize dataStats for better readability386372"
   ]
  },
  {
   "cell_type": "code",
   "execution_count": 53,
   "metadata": {},
   "outputs": [],
   "source": [
    "dataStats = dataStats[['FIPS','County',\n",
    "                       'Opportunity Youth Normalized','Opportunity Youth Quintile',\n",
    "                       'Housing Normalized','Housing Quintile',\n",
    "                       'Poverty Normalized','Poverty Quintile',\n",
    "                       'Poverty Change Normalized','Poverty Change Quintile',\n",
    "                       'GRP Normalized','GRP Quintile','GRP Change Normalized','GRP Change Quintile',\n",
    "                       'Ed. Attainment Normalized','Ed. Attainment Quintile',\n",
    "                       'Ed. Attainment Change Normalized','Ed. Attainment Change Quintile',\n",
    "                       'Pre-K Enroll Normalized','Pre-K Enroll Quintile',\n",
    "                       'Insurance Normalized','Insurance Quintile',\n",
    "                       'Doctors Normalized','Doctors Quintile',\n",
    "                       'Unemployment Normalized','Unemployment Quintile',\n",
    "                       'HS Grad Rate Normalized','HS Grad Rate Quintile',\n",
    "                       'Life Expectancy Normalized', 'Life Expectancy Quintile',\n",
    "                       'Population Change Normalized','Population Change Quintile',\n",
    "                       'Labor Force Participation Normalized','Labor Force Participation Quintile']]"
   ]
  },
  {
   "cell_type": "code",
   "execution_count": null,
   "metadata": {},
   "outputs": [],
   "source": []
  },
  {
   "cell_type": "code",
   "execution_count": 54,
   "metadata": {},
   "outputs": [],
   "source": [
    "# now in stats you need to create your indexes for each group\n",
    "# to start, you will weight them evenly, so no need to get fancy\n",
    "# create an index for each sub-group, then a total index\n",
    "dataStats['Health'] = ( dataStats['Insurance Normalized'] + dataStats['Doctors Normalized'] + dataStats['Life Expectancy Normalized'] ) / 3\n",
    "dataStats['Education'] = ( dataStats['Pre-K Enroll Normalized'] + dataStats['HS Grad Rate Normalized'] + dataStats['Ed. Attainment Normalized']) / 3\n",
    "dataStats['Economy'] = ( dataStats['Labor Force Participation Normalized'] + dataStats['Unemployment Normalized'] + dataStats['Population Change Normalized'] + dataStats['GRP Change Normalized'] ) / 4\n",
    "dataStats['Opportunity'] = ( dataStats['Poverty Normalized'] + dataStats['Poverty Change Normalized'] + dataStats['Housing Normalized'] + dataStats['Opportunity Youth Normalized'] ) / 4\n",
    "# dataStats['Crime'] = ( dataStats['Prison Normalized'] + dataStats['Violent Crime Normalized'] ) / 2"
   ]
  },
  {
   "cell_type": "code",
   "execution_count": 55,
   "metadata": {},
   "outputs": [],
   "source": [
    "dataStats.sort_values('Opportunity', inplace=True)"
   ]
  },
  {
   "cell_type": "code",
   "execution_count": null,
   "metadata": {},
   "outputs": [],
   "source": []
  },
  {
   "cell_type": "code",
   "execution_count": null,
   "metadata": {},
   "outputs": [],
   "source": []
  },
  {
   "cell_type": "code",
   "execution_count": null,
   "metadata": {},
   "outputs": [],
   "source": []
  },
  {
   "cell_type": "code",
   "execution_count": 56,
   "metadata": {},
   "outputs": [],
   "source": [
    "# create one final score that is a weighted average of your subgroups\n",
    "dataStats['Composite'] = ( (dataStats['Health'] * 0.2) + \\\n",
    "                           (dataStats['Education'] * 0.30) + \\\n",
    "                           (dataStats['Economy'] * 0.30) + \\\n",
    "                           (dataStats['Opportunity'] * 0.2) )"
   ]
  },
  {
   "cell_type": "code",
   "execution_count": 57,
   "metadata": {},
   "outputs": [],
   "source": [
    "dataStats.sort_values('Composite', inplace=True)"
   ]
  },
  {
   "cell_type": "code",
   "execution_count": 58,
   "metadata": {},
   "outputs": [],
   "source": [
    "# now get a quintile for each dimension score and the composite score\n",
    "dataStats['Health Quintile'] = pd.qcut(dataStats['Health'],5,labels=False, duplicates='drop')\n",
    "dataStats['Education Quintile'] = pd.qcut(dataStats['Education'],5,labels=False, duplicates='drop')\n",
    "dataStats['Economy Quintile'] = pd.qcut(dataStats['Economy'],5,labels=False, duplicates='drop')\n",
    "dataStats['Opportunity Quintile'] = pd.qcut(dataStats['Opportunity'],5,labels=False, duplicates='drop')\n",
    "# dataStats['Crime Quintile'] = pd.qcut(dataStats['Crime'],5,labels=False, duplicates='drop')\n",
    "dataStats['Composite Quintile'] = pd.qcut(dataStats['Composite'],5,labels=False, duplicates='drop')\n",
    "\n",
    "# also do quartiles\n",
    "dataStats['Health Quartile'] = pd.qcut(dataStats['Health'],4,labels=False, duplicates='drop')\n",
    "dataStats['Education Quartile'] = pd.qcut(dataStats['Education'],4,labels=False, duplicates='drop')\n",
    "dataStats['Economy Quartile'] = pd.qcut(dataStats['Economy'],4,labels=False, duplicates='drop')\n",
    "dataStats['Opportunity Quartile'] = pd.qcut(dataStats['Opportunity'],4,labels=False, duplicates='drop')\n",
    "# dataStats['Crime Quartile'] = pd.qcut(dataStats['Crime'],4,labels=False, duplicates='drop')\n",
    "dataStats['Composite Quartile'] = pd.qcut(dataStats['Composite'],4,labels=False, duplicates='drop')"
   ]
  },
  {
   "cell_type": "code",
   "execution_count": null,
   "metadata": {},
   "outputs": [],
   "source": [
    "# get state and national scores for these things to allow comparisons\n",
    "# the union will have to be on metric name and year, so we just need stacked\n",
    "# just start with opportunity indicators\n",
    "\n",
    "statePov = pd.read_excel('data/opportunity-index-2018.xlsx', sheet_name='States', skiprows=2, usecols=\"A,B,AT:BD\")\n",
    "statePov = statePov.loc[statePov['State'] == \"Georgia\"]\n",
    "\n",
    "statePov.rename(columns={ '2019 Poverty (% of population below the poverty line)' : '2019 Poverty Rate',\n",
    "                         '2018 Poverty (% of population below the poverty line)' : '2018 Poverty Rate',\n",
    "                         '2017 Poverty (% of population below the poverty line)' : '2017 Poverty Rate',\n",
    "                         '2016 Poverty (% of population below the poverty line)' : '2016 Poverty Rate',\n",
    "                         '2015 Poverty (% of population below the poverty line)' : '2015 Poverty Rate',\n",
    "                         '2014 Poverty (% of population below the poverty line)' : '2014 Poverty Rate',\n",
    "                         '2013 Poverty (% of population below the poverty line)' : '2013 Poverty Rate',\n",
    "                         '2012 Poverty (% of population below the poverty line)' : '2012 Poverty Rate',\n",
    "                         '2011 Poverty (% of population below the poverty line)' : '2011 Poverty Rate',\n",
    "                         '% Change Poverty (2018-2019)'                          : 'Change % in Poverty From 2018',\n",
    "                         '% Change Poverty (2011-2019)'                          : 'Change % in Poverty From 2011',}, inplace=True)\n",
    "\n",
    "statePov = statePov.melt(['FIPS','State'], var_name='Metric', value_name='Measure')\n",
    "\n",
    "statePov['Indicator'] = \"Opportunity\""
   ]
  },
  {
   "cell_type": "code",
   "execution_count": null,
   "metadata": {},
   "outputs": [],
   "source": [
    "# now with crime\n",
    "stateYouth = pd.read_excel('data/opportunity-index-2018.xlsx', sheet_name='States', skiprows=2, usecols=\"A,B,GN:GV\")\n",
    "stateYouth = stateYouth.loc[stateYouth['State'] == \"Georgia\"]\n",
    "\n",
    "stateYouth.rename(columns={ '2019 Youth (16-24) Not In School and Not Working (%)' : '2019 % Opportunity Youth',\n",
    "                       '2018 Youth (16-24) Not In School and Not Working (%)' : '2018 % Opportunity Youth',\n",
    "                       '2017 Youth (16-24) Not In School and Not Working (%)' : '2017 % Opportunity Youth',\n",
    "                       '2016 Youth (16-24) Not In School and Not Working (%)' : '2016 % Opportunity Youth',\n",
    "                       '2015 Youth (16-24) Not In School and Not Working (%)' : '2015 % Opportunity Youth',\n",
    "                       '2014 Youth (16-24) Not In School and Not Working (%)' : '2014 % Opportunity Youth',\n",
    "                       '2013 Youth (16-24) Not In School and Not Working (%)' : '2013 % Opportunity Youth',\n",
    "                       '2012 Youth (16-24) Not In School and Not Working (%)' : '2012 % Opportunity Youth',\n",
    "                       '2011 Youth (16-24) Not In School and Not Working (%)' : '2011 % Opportunity Youth',}, inplace=True)\n",
    "stateYouth.reset_index(drop=True, inplace=True)\n",
    "stateYouth = stateYouth.melt(['FIPS','State'], var_name='Metric', value_name='Measure')\n",
    "\n",
    "stateYouth['Indicator'] = \"Opportunity\""
   ]
  },
  {
   "cell_type": "code",
   "execution_count": null,
   "metadata": {},
   "outputs": [],
   "source": [
    "# now with crime\n",
    "stateHousing = pd.read_excel('data/opportunity-index-2018.xlsx', sheet_name='States', skiprows=2, usecols=\"A,B,CF:CN\")\n",
    "stateHousing = stateHousing.loc[stateHousing['State'] == \"Georgia\"]\n",
    "\n",
    "stateHousing.reset_index(drop=True, inplace=True)\n",
    "\n",
    "stateHousing = stateHousing.melt(['FIPS','State'], var_name='Metric', value_name='Measure')\n",
    "\n",
    "stateHousing['Indicator'] = \"Opportunity\""
   ]
  },
  {
   "cell_type": "code",
   "execution_count": null,
   "metadata": {},
   "outputs": [],
   "source": [
    "stateStacks = [stateHousing,stateYouth,statePov]\n",
    "\n",
    "stateStacked = pd.concat(stateStacks).reset_index(drop=True)"
   ]
  },
  {
   "cell_type": "code",
   "execution_count": null,
   "metadata": {},
   "outputs": [],
   "source": [
    "stateStacked['Year'] = stateStacked['Metric'].apply(lambda x: x.split()[0])"
   ]
  },
  {
   "cell_type": "code",
   "execution_count": null,
   "metadata": {},
   "outputs": [],
   "source": [
    "# concat stateStacked onto county stacked\n",
    "# change column names to be more ambiguous\n",
    "# export as a single stacked file"
   ]
  },
  {
   "cell_type": "code",
   "execution_count": 59,
   "metadata": {},
   "outputs": [],
   "source": [
    "regions = pd.read_excel('data/final/county-index-dataTest.xlsx', sheet_name=\"counties\", usecols='A,C')\n",
    "\n",
    "dataStacked = pd.merge(dataStacked, regions, how='left', on='FIPS')\n",
    "dataStats = pd.merge(dataStats, regions, how='left', on='FIPS')\n",
    "dataFlat = pd.merge(dataFlat, regions, how='left', on='FIPS')\n",
    "dataActuals = pd.merge(dataActuals, regions, how='left', on='FIPS')"
   ]
  },
  {
   "cell_type": "code",
   "execution_count": 60,
   "metadata": {},
   "outputs": [],
   "source": [
    "# write out the files\n",
    "writer = pd.ExcelWriter('data/final/county-index-dataTest.xlsx')\n",
    "dataStacked.to_excel(writer,'stacked', index=False)\n",
    "# stateStacked.to_excel(writer,'stacked-state', index=False)\n",
    "dataFlat.to_excel(writer,'flat', index=False)\n",
    "dataActuals.to_excel(writer,'actuals', index=False)\n",
    "dataStats.to_excel(writer,'stats', index=False)\n",
    "writer.save()"
   ]
  },
  {
   "cell_type": "code",
   "execution_count": 13,
   "metadata": {},
   "outputs": [],
   "source": [
    "scores = pd.read_excel('data/final/scoresTable.xlsx')"
   ]
  },
  {
   "cell_type": "code",
   "execution_count": 14,
   "metadata": {},
   "outputs": [
    {
     "data": {
      "text/html": [
       "<div>\n",
       "<style scoped>\n",
       "    .dataframe tbody tr th:only-of-type {\n",
       "        vertical-align: middle;\n",
       "    }\n",
       "\n",
       "    .dataframe tbody tr th {\n",
       "        vertical-align: top;\n",
       "    }\n",
       "\n",
       "    .dataframe thead th {\n",
       "        text-align: right;\n",
       "    }\n",
       "</style>\n",
       "<table border=\"1\" class=\"dataframe\">\n",
       "  <thead>\n",
       "    <tr style=\"text-align: right;\">\n",
       "      <th></th>\n",
       "      <th>County</th>\n",
       "      <th>Composite</th>\n",
       "      <th>Economy</th>\n",
       "      <th>Education</th>\n",
       "      <th>Health</th>\n",
       "      <th>Opportunity</th>\n",
       "    </tr>\n",
       "  </thead>\n",
       "  <tbody>\n",
       "    <tr>\n",
       "      <th>0</th>\n",
       "      <td>Appling County</td>\n",
       "      <td>48.256900</td>\n",
       "      <td>51.891673</td>\n",
       "      <td>41.214448</td>\n",
       "      <td>36.696590</td>\n",
       "      <td>64.928728</td>\n",
       "    </tr>\n",
       "    <tr>\n",
       "      <th>1</th>\n",
       "      <td>Atkinson County</td>\n",
       "      <td>46.500801</td>\n",
       "      <td>58.556833</td>\n",
       "      <td>47.026167</td>\n",
       "      <td>9.216504</td>\n",
       "      <td>64.913002</td>\n",
       "    </tr>\n",
       "    <tr>\n",
       "      <th>2</th>\n",
       "      <td>Bacon County</td>\n",
       "      <td>45.924599</td>\n",
       "      <td>53.145962</td>\n",
       "      <td>46.860532</td>\n",
       "      <td>28.563963</td>\n",
       "      <td>51.049290</td>\n",
       "    </tr>\n",
       "    <tr>\n",
       "      <th>3</th>\n",
       "      <td>Baker County</td>\n",
       "      <td>50.108833</td>\n",
       "      <td>37.329915</td>\n",
       "      <td>52.979266</td>\n",
       "      <td>34.311489</td>\n",
       "      <td>80.768903</td>\n",
       "    </tr>\n",
       "    <tr>\n",
       "      <th>4</th>\n",
       "      <td>Baldwin County</td>\n",
       "      <td>49.560417</td>\n",
       "      <td>39.342482</td>\n",
       "      <td>56.517914</td>\n",
       "      <td>48.302843</td>\n",
       "      <td>55.708650</td>\n",
       "    </tr>\n",
       "  </tbody>\n",
       "</table>\n",
       "</div>"
      ],
      "text/plain": [
       "            County  Composite    Economy  Education     Health  Opportunity\n",
       "0   Appling County  48.256900  51.891673  41.214448  36.696590    64.928728\n",
       "1  Atkinson County  46.500801  58.556833  47.026167   9.216504    64.913002\n",
       "2     Bacon County  45.924599  53.145962  46.860532  28.563963    51.049290\n",
       "3     Baker County  50.108833  37.329915  52.979266  34.311489    80.768903\n",
       "4   Baldwin County  49.560417  39.342482  56.517914  48.302843    55.708650"
      ]
     },
     "execution_count": 14,
     "metadata": {},
     "output_type": "execute_result"
    }
   ],
   "source": [
    "scores.head()"
   ]
  },
  {
   "cell_type": "code",
   "execution_count": 15,
   "metadata": {},
   "outputs": [],
   "source": [
    "scores = pd.melt(scores, id_vars=['County'], value_vars=['Composite','Economy','Education','Health','Opportunity'],\n",
    "                 var_name='Category', value_name='Score')"
   ]
  },
  {
   "cell_type": "code",
   "execution_count": null,
   "metadata": {},
   "outputs": [],
   "source": [
    "s"
   ]
  },
  {
   "cell_type": "code",
   "execution_count": 16,
   "metadata": {},
   "outputs": [
    {
     "data": {
      "text/html": [
       "<div>\n",
       "<style scoped>\n",
       "    .dataframe tbody tr th:only-of-type {\n",
       "        vertical-align: middle;\n",
       "    }\n",
       "\n",
       "    .dataframe tbody tr th {\n",
       "        vertical-align: top;\n",
       "    }\n",
       "\n",
       "    .dataframe thead th {\n",
       "        text-align: right;\n",
       "    }\n",
       "</style>\n",
       "<table border=\"1\" class=\"dataframe\">\n",
       "  <thead>\n",
       "    <tr style=\"text-align: right;\">\n",
       "      <th></th>\n",
       "      <th>County</th>\n",
       "      <th>Category</th>\n",
       "      <th>Score</th>\n",
       "    </tr>\n",
       "  </thead>\n",
       "  <tbody>\n",
       "    <tr>\n",
       "      <th>0</th>\n",
       "      <td>Appling County</td>\n",
       "      <td>Composite</td>\n",
       "      <td>48.256900</td>\n",
       "    </tr>\n",
       "    <tr>\n",
       "      <th>1</th>\n",
       "      <td>Atkinson County</td>\n",
       "      <td>Composite</td>\n",
       "      <td>46.500801</td>\n",
       "    </tr>\n",
       "    <tr>\n",
       "      <th>2</th>\n",
       "      <td>Bacon County</td>\n",
       "      <td>Composite</td>\n",
       "      <td>45.924599</td>\n",
       "    </tr>\n",
       "    <tr>\n",
       "      <th>3</th>\n",
       "      <td>Baker County</td>\n",
       "      <td>Composite</td>\n",
       "      <td>50.108833</td>\n",
       "    </tr>\n",
       "    <tr>\n",
       "      <th>4</th>\n",
       "      <td>Baldwin County</td>\n",
       "      <td>Composite</td>\n",
       "      <td>49.560417</td>\n",
       "    </tr>\n",
       "  </tbody>\n",
       "</table>\n",
       "</div>"
      ],
      "text/plain": [
       "            County   Category      Score\n",
       "0   Appling County  Composite  48.256900\n",
       "1  Atkinson County  Composite  46.500801\n",
       "2     Bacon County  Composite  45.924599\n",
       "3     Baker County  Composite  50.108833\n",
       "4   Baldwin County  Composite  49.560417"
      ]
     },
     "execution_count": 16,
     "metadata": {},
     "output_type": "execute_result"
    }
   ],
   "source": [
    "scores.head()"
   ]
  },
  {
   "cell_type": "code",
   "execution_count": null,
   "metadata": {},
   "outputs": [],
   "source": [
    "scores.to_csv('data/final/scoresTable.csv', index=False)"
   ]
  },
  {
   "cell_type": "code",
   "execution_count": 3,
   "metadata": {},
   "outputs": [],
   "source": [
    "scores.set_index('County', inplace=True)"
   ]
  },
  {
   "cell_type": "code",
   "execution_count": 4,
   "metadata": {},
   "outputs": [],
   "source": [
    "scores.Composite = scores.Composite.round(1)\n",
    "scores.Economy = scores.Economy.round(1)\n",
    "scores.Education = scores.Education.round(1)\n",
    "scores.Health = scores.Health.round(1)\n",
    "scores.Opportunity = scores.Opportunity.round(1)"
   ]
  },
  {
   "cell_type": "code",
   "execution_count": 5,
   "metadata": {},
   "outputs": [
    {
     "data": {
      "text/html": [
       "<div>\n",
       "<style scoped>\n",
       "    .dataframe tbody tr th:only-of-type {\n",
       "        vertical-align: middle;\n",
       "    }\n",
       "\n",
       "    .dataframe tbody tr th {\n",
       "        vertical-align: top;\n",
       "    }\n",
       "\n",
       "    .dataframe thead th {\n",
       "        text-align: right;\n",
       "    }\n",
       "</style>\n",
       "<table border=\"1\" class=\"dataframe\">\n",
       "  <thead>\n",
       "    <tr style=\"text-align: right;\">\n",
       "      <th></th>\n",
       "      <th>Composite</th>\n",
       "      <th>Economy</th>\n",
       "      <th>Education</th>\n",
       "      <th>Health</th>\n",
       "      <th>Opportunity</th>\n",
       "    </tr>\n",
       "    <tr>\n",
       "      <th>County</th>\n",
       "      <th></th>\n",
       "      <th></th>\n",
       "      <th></th>\n",
       "      <th></th>\n",
       "      <th></th>\n",
       "    </tr>\n",
       "  </thead>\n",
       "  <tbody>\n",
       "    <tr>\n",
       "      <th>Appling County</th>\n",
       "      <td>48.3</td>\n",
       "      <td>51.9</td>\n",
       "      <td>41.2</td>\n",
       "      <td>36.7</td>\n",
       "      <td>64.9</td>\n",
       "    </tr>\n",
       "    <tr>\n",
       "      <th>Atkinson County</th>\n",
       "      <td>46.5</td>\n",
       "      <td>58.6</td>\n",
       "      <td>47.0</td>\n",
       "      <td>9.2</td>\n",
       "      <td>64.9</td>\n",
       "    </tr>\n",
       "    <tr>\n",
       "      <th>Bacon County</th>\n",
       "      <td>45.9</td>\n",
       "      <td>53.1</td>\n",
       "      <td>46.9</td>\n",
       "      <td>28.6</td>\n",
       "      <td>51.0</td>\n",
       "    </tr>\n",
       "    <tr>\n",
       "      <th>Baker County</th>\n",
       "      <td>50.1</td>\n",
       "      <td>37.3</td>\n",
       "      <td>53.0</td>\n",
       "      <td>34.3</td>\n",
       "      <td>80.8</td>\n",
       "    </tr>\n",
       "    <tr>\n",
       "      <th>Baldwin County</th>\n",
       "      <td>49.6</td>\n",
       "      <td>39.3</td>\n",
       "      <td>56.5</td>\n",
       "      <td>48.3</td>\n",
       "      <td>55.7</td>\n",
       "    </tr>\n",
       "  </tbody>\n",
       "</table>\n",
       "</div>"
      ],
      "text/plain": [
       "                 Composite  Economy  Education  Health  Opportunity\n",
       "County                                                             \n",
       "Appling County        48.3     51.9       41.2    36.7         64.9\n",
       "Atkinson County       46.5     58.6       47.0     9.2         64.9\n",
       "Bacon County          45.9     53.1       46.9    28.6         51.0\n",
       "Baker County          50.1     37.3       53.0    34.3         80.8\n",
       "Baldwin County        49.6     39.3       56.5    48.3         55.7"
      ]
     },
     "execution_count": 5,
     "metadata": {},
     "output_type": "execute_result"
    }
   ],
   "source": [
    "scores.head()"
   ]
  },
  {
   "cell_type": "code",
   "execution_count": 6,
   "metadata": {},
   "outputs": [
    {
     "data": {
      "text/plain": [
       "'{\"Appling County\":{\"Composite\":48.3,\"Economy\":51.9,\"Education\":41.2,\"Health\":36.7,\"Opportunity\":64.9},\"Atkinson County\":{\"Composite\":46.5,\"Economy\":58.6,\"Education\":47.0,\"Health\":9.2,\"Opportunity\":64.9},\"Bacon County\":{\"Composite\":45.9,\"Economy\":53.1,\"Education\":46.9,\"Health\":28.6,\"Opportunity\":51.0},\"Baker County\":{\"Composite\":50.1,\"Economy\":37.3,\"Education\":53.0,\"Health\":34.3,\"Opportunity\":80.8},\"Baldwin County\":{\"Composite\":49.6,\"Economy\":39.3,\"Education\":56.5,\"Health\":48.3,\"Opportunity\":55.7},\"Banks County\":{\"Composite\":51.0,\"Economy\":56.9,\"Education\":40.9,\"Health\":33.9,\"Opportunity\":74.2},\"Barrow County\":{\"Composite\":58.6,\"Economy\":66.1,\"Education\":54.8,\"Health\":39.3,\"Opportunity\":72.7},\"Bartow County\":{\"Composite\":54.6,\"Economy\":55.7,\"Education\":48.2,\"Health\":46.2,\"Opportunity\":70.9},\"Ben Hill County\":{\"Composite\":38.9,\"Economy\":33.3,\"Education\":43.7,\"Health\":32.0,\"Opportunity\":47.3},\"Berrien County\":{\"Composite\":41.9,\"Economy\":43.2,\"Education\":43.2,\"Health\":17.5,\"Opportunity\":62.3},\"Bibb County\":{\"Composite\":52.7,\"Economy\":46.1,\"Education\":56.0,\"Health\":59.8,\"Opportunity\":50.2},\"Bleckley County\":{\"Composite\":51.2,\"Economy\":34.1,\"Education\":60.2,\"Health\":46.9,\"Opportunity\":67.5},\"Brantley County\":{\"Composite\":41.8,\"Economy\":45.1,\"Education\":42.0,\"Health\":20.2,\"Opportunity\":58.4},\"Brooks County\":{\"Composite\":44.2,\"Economy\":48.7,\"Education\":46.7,\"Health\":27.9,\"Opportunity\":49.6},\"Bryan County\":{\"Composite\":66.4,\"Economy\":70.2,\"Education\":68.5,\"Health\":58.9,\"Opportunity\":65.1},\"Bulloch County\":{\"Composite\":52.2,\"Economy\":52.9,\"Education\":50.3,\"Health\":51.1,\"Opportunity\":55.3},\"Burke County\":{\"Composite\":52.5,\"Economy\":60.8,\"Education\":49.3,\"Health\":34.1,\"Opportunity\":63.1},\"Butts County\":{\"Composite\":45.7,\"Economy\":51.0,\"Education\":46.2,\"Health\":36.2,\"Opportunity\":46.6},\"Calhoun County\":{\"Composite\":48.2,\"Economy\":36.8,\"Education\":58.6,\"Health\":33.0,\"Opportunity\":64.9},\"Camden County\":{\"Composite\":55.6,\"Economy\":47.8,\"Education\":56.3,\"Health\":52.7,\"Opportunity\":69.3},\"Candler County\":{\"Composite\":45.8,\"Economy\":53.0,\"Education\":57.4,\"Health\":25.2,\"Opportunity\":37.9},\"Carroll County\":{\"Composite\":54.6,\"Economy\":55.2,\"Education\":53.2,\"Health\":43.6,\"Opportunity\":67.0},\"Catoosa County\":{\"Composite\":59.8,\"Economy\":54.9,\"Education\":55.6,\"Health\":52.7,\"Opportunity\":80.7},\"Charlton County\":{\"Composite\":48.6,\"Economy\":38.4,\"Education\":52.7,\"Health\":41.7,\"Opportunity\":64.9},\"Chatham County\":{\"Composite\":59.3,\"Economy\":57.3,\"Education\":57.6,\"Health\":60.1,\"Opportunity\":63.9},\"Chattahoochee County\":{\"Composite\":47.5,\"Economy\":18.9,\"Education\":59.3,\"Health\":63.9,\"Opportunity\":56.2},\"Chattooga County\":{\"Composite\":42.0,\"Economy\":40.0,\"Education\":39.3,\"Health\":23.2,\"Opportunity\":67.8},\"Cherokee County\":{\"Composite\":69.9,\"Economy\":71.0,\"Education\":69.4,\"Health\":60.3,\"Opportunity\":78.6},\"Clarke County\":{\"Composite\":56.9,\"Economy\":53.9,\"Education\":66.1,\"Health\":56.9,\"Opportunity\":47.4},\"Clay County\":{\"Composite\":36.3,\"Economy\":21.6,\"Education\":45.5,\"Health\":19.2,\"Opportunity\":61.7},\"Clayton County\":{\"Composite\":47.2,\"Economy\":53.6,\"Education\":46.8,\"Health\":30.7,\"Opportunity\":54.8},\"Clinch County\":{\"Composite\":36.8,\"Economy\":45.8,\"Education\":46.1,\"Health\":14.1,\"Opportunity\":32.0},\"Cobb County\":{\"Composite\":70.7,\"Economy\":64.2,\"Education\":77.0,\"Health\":66.0,\"Opportunity\":75.6},\"Coffee County\":{\"Composite\":45.4,\"Economy\":47.9,\"Education\":39.4,\"Health\":30.3,\"Opportunity\":65.7},\"Colquitt County\":{\"Composite\":43.8,\"Economy\":53.2,\"Education\":45.5,\"Health\":18.4,\"Opportunity\":52.3},\"Columbia County\":{\"Composite\":72.7,\"Economy\":66.2,\"Education\":68.1,\"Health\":84.2,\"Opportunity\":78.1},\"Cook County\":{\"Composite\":47.1,\"Economy\":51.2,\"Education\":46.4,\"Health\":34.3,\"Opportunity\":54.8},\"Coweta County\":{\"Composite\":64.0,\"Economy\":64.3,\"Education\":59.4,\"Health\":62.1,\"Opportunity\":72.2},\"Crawford County\":{\"Composite\":49.4,\"Economy\":48.9,\"Education\":47.0,\"Health\":38.4,\"Opportunity\":64.9},\"Crisp County\":{\"Composite\":46.6,\"Economy\":45.6,\"Education\":46.3,\"Health\":46.3,\"Opportunity\":48.7},\"Dade County\":{\"Composite\":54.9,\"Economy\":52.7,\"Education\":50.6,\"Health\":40.9,\"Opportunity\":78.4},\"Dawson County\":{\"Composite\":65.4,\"Economy\":63.0,\"Education\":61.3,\"Health\":58.2,\"Opportunity\":82.4},\"Decatur County\":{\"Composite\":44.6,\"Economy\":43.8,\"Education\":48.7,\"Health\":31.9,\"Opportunity\":52.4},\"DeKalb County\":{\"Composite\":62.5,\"Economy\":53.3,\"Education\":67.8,\"Health\":69.9,\"Opportunity\":61.2},\"Dodge County\":{\"Composite\":45.8,\"Economy\":31.9,\"Education\":49.3,\"Health\":45.3,\"Opportunity\":61.9},\"Dooly County\":{\"Composite\":50.8,\"Economy\":42.0,\"Education\":59.3,\"Health\":43.1,\"Opportunity\":58.9},\"Dougherty County\":{\"Composite\":46.7,\"Economy\":37.6,\"Education\":57.7,\"Health\":42.7,\"Opportunity\":48.0},\"Douglas County\":{\"Composite\":59.5,\"Economy\":59.0,\"Education\":60.3,\"Health\":48.4,\"Opportunity\":70.3},\"Early County\":{\"Composite\":45.9,\"Economy\":46.2,\"Education\":45.5,\"Health\":35.3,\"Opportunity\":56.5},\"Echols County\":{\"Composite\":46.8,\"Economy\":47.4,\"Education\":44.4,\"Health\":34.2,\"Opportunity\":62.1},\"Effingham County\":{\"Composite\":60.2,\"Economy\":62.9,\"Education\":54.0,\"Health\":46.7,\"Opportunity\":79.0},\"Elbert County\":{\"Composite\":49.1,\"Economy\":42.1,\"Education\":50.6,\"Health\":41.4,\"Opportunity\":64.7},\"Emanuel County\":{\"Composite\":42.8,\"Economy\":38.3,\"Education\":50.3,\"Health\":24.2,\"Opportunity\":56.8},\"Evans County\":{\"Composite\":51.0,\"Economy\":50.0,\"Education\":54.2,\"Health\":37.4,\"Opportunity\":61.5},\"Fannin County\":{\"Composite\":60.0,\"Economy\":58.1,\"Education\":59.6,\"Health\":52.6,\"Opportunity\":70.9},\"Fayette County\":{\"Composite\":77.4,\"Economy\":60.7,\"Education\":82.3,\"Health\":90.2,\"Opportunity\":82.5},\"Floyd County\":{\"Composite\":56.3,\"Economy\":49.2,\"Education\":52.5,\"Health\":63.1,\"Opportunity\":65.9},\"Forsyth County\":{\"Composite\":79.5,\"Economy\":76.7,\"Education\":85.1,\"Health\":70.6,\"Opportunity\":84.2},\"Franklin County\":{\"Composite\":45.1,\"Economy\":52.4,\"Education\":44.0,\"Health\":26.9,\"Opportunity\":54.1},\"Fulton County\":{\"Composite\":68.7,\"Economy\":60.7,\"Education\":75.5,\"Health\":75.0,\"Opportunity\":64.3},\"Gilmer County\":{\"Composite\":42.7,\"Economy\":50.3,\"Education\":20.6,\"Health\":38.0,\"Opportunity\":69.1},\"Glascock County\":{\"Composite\":58.5,\"Economy\":47.4,\"Education\":65.5,\"Health\":41.2,\"Opportunity\":81.7},\"Glynn County\":{\"Composite\":58.1,\"Economy\":55.9,\"Education\":65.7,\"Health\":48.1,\"Opportunity\":59.9},\"Gordon County\":{\"Composite\":52.8,\"Economy\":56.4,\"Education\":47.5,\"Health\":40.5,\"Opportunity\":67.6},\"Grady County\":{\"Composite\":48.6,\"Economy\":50.1,\"Education\":48.7,\"Health\":35.6,\"Opportunity\":59.1},\"Greene County\":{\"Composite\":56.1,\"Economy\":52.8,\"Education\":65.6,\"Health\":51.0,\"Opportunity\":51.9},\"Gwinnett County\":{\"Composite\":64.1,\"Economy\":65.4,\"Education\":64.5,\"Health\":57.5,\"Opportunity\":67.9},\"Habersham County\":{\"Composite\":55.3,\"Economy\":51.4,\"Education\":54.8,\"Health\":45.5,\"Opportunity\":71.8},\"Hall County\":{\"Composite\":59.6,\"Economy\":64.5,\"Education\":52.1,\"Health\":51.4,\"Opportunity\":71.6},\"Hancock County\":{\"Composite\":42.4,\"Economy\":26.7,\"Education\":58.4,\"Health\":50.6,\"Opportunity\":34.0},\"Haralson County\":{\"Composite\":54.5,\"Economy\":49.8,\"Education\":53.5,\"Health\":40.7,\"Opportunity\":77.2},\"Harris County\":{\"Composite\":66.4,\"Economy\":57.5,\"Education\":65.7,\"Health\":67.9,\"Opportunity\":79.5},\"Hart County\":{\"Composite\":56.1,\"Economy\":53.2,\"Education\":57.3,\"Health\":51.9,\"Opportunity\":63.0},\"Heard County\":{\"Composite\":49.5,\"Economy\":45.3,\"Education\":47.1,\"Health\":30.0,\"Opportunity\":78.8},\"Henry County\":{\"Composite\":61.5,\"Economy\":60.3,\"Education\":60.1,\"Health\":55.1,\"Opportunity\":71.7},\"Houston County\":{\"Composite\":58.4,\"Economy\":53.7,\"Education\":60.2,\"Health\":53.0,\"Opportunity\":68.3},\"Irwin County\":{\"Composite\":48.9,\"Economy\":37.0,\"Education\":72.0,\"Health\":29.3,\"Opportunity\":51.8},\"Jackson County\":{\"Composite\":63.7,\"Economy\":68.7,\"Education\":56.7,\"Health\":53.0,\"Opportunity\":77.3},\"Jasper County\":{\"Composite\":48.9,\"Economy\":54.7,\"Education\":40.2,\"Health\":41.4,\"Opportunity\":60.7},\"Jeff Davis County\":{\"Composite\":49.8,\"Economy\":43.8,\"Education\":53.4,\"Health\":25.5,\"Opportunity\":77.5},\"Jefferson County\":{\"Composite\":43.7,\"Economy\":40.2,\"Education\":46.7,\"Health\":26.0,\"Opportunity\":62.3},\"Jenkins County\":{\"Composite\":40.6,\"Economy\":43.9,\"Education\":33.4,\"Health\":31.8,\"Opportunity\":55.3},\"Johnson County\":{\"Composite\":46.6,\"Economy\":43.0,\"Education\":45.0,\"Health\":37.4,\"Opportunity\":63.5},\"Jones County\":{\"Composite\":58.7,\"Economy\":56.7,\"Education\":57.6,\"Health\":51.4,\"Opportunity\":71.0},\"Lamar County\":{\"Composite\":46.2,\"Economy\":47.7,\"Education\":44.3,\"Health\":35.4,\"Opportunity\":57.6},\"Lanier County\":{\"Composite\":43.4,\"Economy\":44.7,\"Education\":42.0,\"Health\":31.9,\"Opportunity\":54.8},\"Laurens County\":{\"Composite\":50.2,\"Economy\":42.5,\"Education\":52.0,\"Health\":52.5,\"Opportunity\":56.6},\"Lee County\":{\"Composite\":62.6,\"Economy\":58.6,\"Education\":60.1,\"Health\":61.3,\"Opportunity\":73.9},\"Liberty County\":{\"Composite\":48.7,\"Economy\":42.4,\"Education\":52.4,\"Health\":46.0,\"Opportunity\":55.4},\"Lincoln County\":{\"Composite\":48.4,\"Economy\":46.6,\"Education\":38.2,\"Health\":49.3,\"Opportunity\":65.6},\"Long County\":{\"Composite\":54.7,\"Economy\":65.0,\"Education\":48.8,\"Health\":42.4,\"Opportunity\":60.4},\"Lowndes County\":{\"Composite\":52.2,\"Economy\":50.1,\"Education\":60.7,\"Health\":42.0,\"Opportunity\":52.9},\"Lumpkin County\":{\"Composite\":59.5,\"Economy\":60.5,\"Education\":61.7,\"Health\":51.6,\"Opportunity\":62.8},\"Macon County\":{\"Composite\":36.9,\"Economy\":31.7,\"Education\":48.1,\"Health\":16.8,\"Opportunity\":48.0},\"Madison County\":{\"Composite\":54.9,\"Economy\":54.0,\"Education\":54.5,\"Health\":38.7,\"Opportunity\":72.9},\"Marion County\":{\"Composite\":49.8,\"Economy\":41.4,\"Education\":54.1,\"Health\":42.0,\"Opportunity\":63.9},\"McDuffie County\":{\"Composite\":43.0,\"Economy\":40.9,\"Education\":43.3,\"Health\":39.6,\"Opportunity\":49.2},\"McIntosh County\":{\"Composite\":45.9,\"Economy\":39.3,\"Education\":42.5,\"Health\":48.9,\"Opportunity\":58.0},\"Meriwether County\":{\"Composite\":45.2,\"Economy\":43.8,\"Education\":45.5,\"Health\":36.7,\"Opportunity\":55.5},\"Miller County\":{\"Composite\":46.8,\"Economy\":54.7,\"Education\":46.1,\"Health\":30.1,\"Opportunity\":52.4},\"Mitchell County\":{\"Composite\":42.6,\"Economy\":35.7,\"Education\":53.3,\"Health\":27.6,\"Opportunity\":52.1},\"Monroe County\":{\"Composite\":57.4,\"Economy\":57.5,\"Education\":54.2,\"Health\":55.2,\"Opportunity\":64.4},\"Montgomery County\":{\"Composite\":49.7,\"Economy\":38.2,\"Education\":57.5,\"Health\":35.3,\"Opportunity\":69.3},\"Morgan County\":{\"Composite\":52.7,\"Economy\":57.9,\"Education\":28.0,\"Health\":55.6,\"Opportunity\":78.9},\"Murray County\":{\"Composite\":45.7,\"Economy\":39.2,\"Education\":45.2,\"Health\":29.2,\"Opportunity\":72.5},\"Muscogee County\":{\"Composite\":52.3,\"Economy\":42.7,\"Education\":60.8,\"Health\":53.9,\"Opportunity\":52.5},\"Newton County\":{\"Composite\":55.6,\"Economy\":57.1,\"Education\":56.6,\"Health\":47.7,\"Opportunity\":59.6},\"Oconee County\":{\"Composite\":81.3,\"Economy\":69.7,\"Education\":79.4,\"Health\":96.8,\"Opportunity\":86.1},\"Oglethorpe County\":{\"Composite\":56.5,\"Economy\":53.9,\"Education\":55.7,\"Health\":46.6,\"Opportunity\":71.3},\"Paulding County\":{\"Composite\":62.1,\"Economy\":65.0,\"Education\":57.0,\"Health\":52.0,\"Opportunity\":75.4},\"Peach County\":{\"Composite\":47.4,\"Economy\":45.5,\"Education\":47.3,\"Health\":31.9,\"Opportunity\":65.9},\"Pickens County\":{\"Composite\":61.3,\"Economy\":61.4,\"Education\":56.4,\"Health\":51.0,\"Opportunity\":78.6},\"Pierce County\":{\"Composite\":48.9,\"Economy\":52.9,\"Education\":45.6,\"Health\":34.6,\"Opportunity\":61.9},\"Pike County\":{\"Composite\":53.9,\"Economy\":55.5,\"Education\":50.3,\"Health\":41.3,\"Opportunity\":69.3},\"Polk County\":{\"Composite\":48.0,\"Economy\":50.0,\"Education\":44.2,\"Health\":31.7,\"Opportunity\":66.9},\"Pulaski County\":{\"Composite\":50.1,\"Economy\":41.8,\"Education\":50.9,\"Health\":54.5,\"Opportunity\":56.9},\"Putnam County\":{\"Composite\":55.9,\"Economy\":43.1,\"Education\":70.4,\"Health\":48.1,\"Opportunity\":61.4},\"Quitman County\":{\"Composite\":45.8,\"Economy\":38.4,\"Education\":59.0,\"Health\":29.1,\"Opportunity\":53.9},\"Rabun County\":{\"Composite\":53.1,\"Economy\":49.9,\"Education\":53.5,\"Health\":41.9,\"Opportunity\":68.3},\"Randolph County\":{\"Composite\":43.7,\"Economy\":36.0,\"Education\":55.4,\"Health\":36.2,\"Opportunity\":45.4},\"Richmond County\":{\"Composite\":48.7,\"Economy\":43.9,\"Education\":48.2,\"Health\":51.2,\"Opportunity\":53.8},\"Rockdale County\":{\"Composite\":57.7,\"Economy\":56.2,\"Education\":57.8,\"Health\":54.6,\"Opportunity\":62.8},\"Schley County\":{\"Composite\":54.0,\"Economy\":44.0,\"Education\":60.2,\"Health\":44.8,\"Opportunity\":68.9},\"Screven County\":{\"Composite\":43.9,\"Economy\":36.2,\"Education\":47.5,\"Health\":33.4,\"Opportunity\":60.5},\"Seminole County\":{\"Composite\":46.7,\"Economy\":38.1,\"Education\":41.4,\"Health\":51.5,\"Opportunity\":62.7},\"Spalding County\":{\"Composite\":48.2,\"Economy\":48.0,\"Education\":54.0,\"Health\":37.8,\"Opportunity\":50.0},\"Stephens County\":{\"Composite\":52.5,\"Economy\":46.1,\"Education\":53.8,\"Health\":41.3,\"Opportunity\":71.5},\"Stewart County\":{\"Composite\":43.6,\"Economy\":39.2,\"Education\":66.1,\"Health\":38.6,\"Opportunity\":21.4},\"Sumter County\":{\"Composite\":48.0,\"Economy\":38.7,\"Education\":56.2,\"Health\":41.6,\"Opportunity\":56.1},\"Talbot County\":{\"Composite\":51.3,\"Economy\":39.1,\"Education\":60.7,\"Health\":46.9,\"Opportunity\":59.9},\"Taliaferro County\":{\"Composite\":38.0,\"Economy\":34.5,\"Education\":42.1,\"Health\":33.7,\"Opportunity\":41.3},\"Tattnall County\":{\"Composite\":47.1,\"Economy\":42.9,\"Education\":44.9,\"Health\":36.6,\"Opportunity\":67.3},\"Taylor County\":{\"Composite\":40.3,\"Economy\":36.1,\"Education\":43.1,\"Health\":23.3,\"Opportunity\":59.5},\"Telfair County\":{\"Composite\":39.9,\"Economy\":14.6,\"Education\":52.7,\"Health\":48.9,\"Opportunity\":49.8},\"Terrell County\":{\"Composite\":40.3,\"Economy\":37.5,\"Education\":52.3,\"Health\":19.5,\"Opportunity\":47.1},\"Thomas County\":{\"Composite\":54.5,\"Economy\":44.4,\"Education\":58.0,\"Health\":53.5,\"Opportunity\":65.6},\"Tift County\":{\"Composite\":51.5,\"Economy\":51.1,\"Education\":50.5,\"Health\":44.6,\"Opportunity\":60.2},\"Toombs County\":{\"Composite\":48.2,\"Economy\":44.8,\"Education\":48.2,\"Health\":39.7,\"Opportunity\":61.7},\"Towns County\":{\"Composite\":58.1,\"Economy\":44.6,\"Education\":64.6,\"Health\":59.8,\"Opportunity\":67.3},\"Treutlen County\":{\"Composite\":44.3,\"Economy\":37.9,\"Education\":49.7,\"Health\":27.1,\"Opportunity\":63.2},\"Troup County\":{\"Composite\":56.0,\"Economy\":61.5,\"Education\":55.5,\"Health\":46.6,\"Opportunity\":57.9},\"Turner County\":{\"Composite\":39.4,\"Economy\":40.5,\"Education\":48.5,\"Health\":29.3,\"Opportunity\":34.4},\"Twiggs County\":{\"Composite\":40.0,\"Economy\":38.6,\"Education\":39.7,\"Health\":17.7,\"Opportunity\":64.7},\"Union County\":{\"Composite\":64.7,\"Economy\":62.4,\"Education\":52.7,\"Health\":70.7,\"Opportunity\":79.8},\"Upson County\":{\"Composite\":49.4,\"Economy\":44.8,\"Education\":54.2,\"Health\":38.5,\"Opportunity\":60.3},\"Walker County\":{\"Composite\":50.3,\"Economy\":48.7,\"Education\":49.7,\"Health\":35.5,\"Opportunity\":68.2},\"Walton County\":{\"Composite\":60.3,\"Economy\":62.1,\"Education\":58.8,\"Health\":50.2,\"Opportunity\":70.1},\"Ware County\":{\"Composite\":48.7,\"Economy\":47.6,\"Education\":46.1,\"Health\":43.5,\"Opportunity\":59.6},\"Warren County\":{\"Composite\":48.1,\"Economy\":51.6,\"Education\":55.0,\"Health\":36.9,\"Opportunity\":43.9},\"Washington County\":{\"Composite\":47.5,\"Economy\":38.1,\"Education\":50.0,\"Health\":50.8,\"Opportunity\":54.5},\"Wayne County\":{\"Composite\":46.5,\"Economy\":41.7,\"Education\":50.0,\"Health\":27.7,\"Opportunity\":67.3},\"Webster County\":{\"Composite\":56.1,\"Economy\":39.5,\"Education\":71.6,\"Health\":50.5,\"Opportunity\":63.2},\"Wheeler County\":{\"Composite\":35.6,\"Economy\":16.4,\"Education\":42.5,\"Health\":34.9,\"Opportunity\":54.7},\"White County\":{\"Composite\":59.0,\"Economy\":69.4,\"Education\":43.2,\"Health\":51.5,\"Opportunity\":74.7},\"Whitfield County\":{\"Composite\":50.0,\"Economy\":47.5,\"Education\":42.2,\"Health\":45.7,\"Opportunity\":69.7},\"Wilcox County\":{\"Composite\":42.4,\"Economy\":32.3,\"Education\":45.3,\"Health\":32.9,\"Opportunity\":62.6},\"Wilkes County\":{\"Composite\":49.3,\"Economy\":40.5,\"Education\":61.0,\"Health\":39.7,\"Opportunity\":54.8},\"Wilkinson County\":{\"Composite\":47.8,\"Economy\":42.6,\"Education\":47.4,\"Health\":43.1,\"Opportunity\":61.0},\"Worth County\":{\"Composite\":45.5,\"Economy\":44.0,\"Education\":45.2,\"Health\":33.9,\"Opportunity\":59.7}}'"
      ]
     },
     "execution_count": 6,
     "metadata": {},
     "output_type": "execute_result"
    }
   ],
   "source": [
    "scores.to_json(orient='index')"
   ]
  },
  {
   "cell_type": "code",
   "execution_count": null,
   "metadata": {},
   "outputs": [],
   "source": []
  }
 ],
 "metadata": {
  "kernelspec": {
   "display_name": "Python 3",
   "language": "python",
   "name": "python3"
  },
  "language_info": {
   "codemirror_mode": {
    "name": "ipython",
    "version": 3
   },
   "file_extension": ".py",
   "mimetype": "text/x-python",
   "name": "python",
   "nbconvert_exporter": "python",
   "pygments_lexer": "ipython3",
   "version": "3.7.6"
  }
 },
 "nbformat": 4,
 "nbformat_minor": 2
}
