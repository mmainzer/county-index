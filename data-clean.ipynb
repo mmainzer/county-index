{
 "cells": [
  {
   "cell_type": "code",
   "execution_count": 132,
   "metadata": {},
   "outputs": [],
   "source": [
    "import pandas as pd\n",
    "pd.set_option('display.max_columns', None)\n",
    "\n",
    "import numpy as np"
   ]
  },
  {
   "cell_type": "code",
   "execution_count": null,
   "metadata": {},
   "outputs": [],
   "source": [
    "# prison = pd.read_excel('S:/Workgroups/gpc economic development/Information Services/Current Business/Jim Lovett/Georgia Academy of Economic Development/2020/Infrastructure_Related Files from Carl Vinson/incarceration_trends_Vera.xlsx',\n",
    "#                        skiprows=4, skipfooter=1)"
   ]
  },
  {
   "cell_type": "code",
   "execution_count": null,
   "metadata": {},
   "outputs": [],
   "source": [
    "# prison = prison[['Row Labels','2013 Rate per 100,000',\n",
    "#                  '2014 Rate per 100,000','2015 Rate per 100,000',\n",
    "#                  '2016 Rate per 100,000','2017 Rate per 100,000']]"
   ]
  },
  {
   "cell_type": "code",
   "execution_count": null,
   "metadata": {},
   "outputs": [],
   "source": [
    "# prison.rename(columns={'Row Labels'              : 'County',\n",
    "#                        '2013 Rate per 100,000'   : '2013 Incarcerated per 100,000',\n",
    "#                        '2014 Rate per 100,000'   : '2014 Incarcerated per 100,000',\n",
    "#                        '2015 Rate per 100,000'   : '2015 Incarcerated per 100,000',\n",
    "#                        '2016 Rate per 100,000'   : '2016 Incarcerated per 100,000',\n",
    "#                        '2017 Rate per 100,000'   : '2017 Incarcerated per 100,000'}, inplace=True)"
   ]
  },
  {
   "cell_type": "code",
   "execution_count": null,
   "metadata": {},
   "outputs": [],
   "source": [
    "# prison.sort_values('2017 Incarcerated per 100,000', inplace=True)"
   ]
  },
  {
   "cell_type": "code",
   "execution_count": null,
   "metadata": {},
   "outputs": [],
   "source": [
    "# prisonFlat = prison"
   ]
  },
  {
   "cell_type": "code",
   "execution_count": null,
   "metadata": {},
   "outputs": [],
   "source": [
    "# prisonStack = prison.melt('County', var_name='Metric', value_name='Measure')"
   ]
  },
  {
   "cell_type": "code",
   "execution_count": null,
   "metadata": {},
   "outputs": [],
   "source": [
    "# prisonStack['Indicator'] = 'Crime'"
   ]
  },
  {
   "cell_type": "code",
   "execution_count": null,
   "metadata": {},
   "outputs": [],
   "source": [
    "# now with crime\n",
    "# crime = pd.read_excel('data/opportunity-index-2018.xlsx', sheet_name='Counties', skiprows=2, usecols=\"A,B,C,GG:GN\")\n",
    "# crime = crime.loc[crime['State'] == \"Georgia\"]"
   ]
  },
  {
   "cell_type": "code",
   "execution_count": null,
   "metadata": {},
   "outputs": [],
   "source": [
    "# crime.rename(columns={ '2018 Incidents of Violent Crime Reported to Law Enforcement Agencies (per 100,000 population)' : '2018 Violent Crime per 100,000',\n",
    "#                        '2017 Incidents of Violent Crime Reported to Law Enforcement Agencies (per 100,000 population)' : '2017 Violent Crime per 100,000',\n",
    "#                        '2016 Incidents of Violent Crime Reported to Law Enforcement Agencies (per 100,000 population)' : '2016 Violent Crime per 100,000',\n",
    "#                        '2015 Incidents of Violent Crime Reported to Law Enforcement Agencies (per 100,000 population)' : '2015 Violent Crime per 100,000',\n",
    "#                        '2014 Incidents of Violent Crime Reported to Law Enforcement Agencies (per 100,000 population)' : '2014 Violent Crime per 100,000',\n",
    "#                        '2013 Incidents of Violent Crime Reported to Law Enforcement Agencies (per 100,000 population)' : '2013 Violent Crime per 100,000',\n",
    "#                        '2012 Incidents of Violent Crime Reported to Law Enforcement Agencies (per 100,000 population)' : '2012 Violent Crime per 100,000',\n",
    "#                        '2011 Incidents of Violent Crime Reported to Law Enforcement Agencies (per 100,000 population)' : '2011 Violent Crime per 100,000'}, inplace=True)\n",
    "# del crime['State']"
   ]
  },
  {
   "cell_type": "code",
   "execution_count": null,
   "metadata": {},
   "outputs": [],
   "source": [
    "# crime.iloc[:,2].fillna(357.2, inplace=True)\n",
    "# crime.iloc[:,9].fillna(428, inplace=True)"
   ]
  },
  {
   "cell_type": "code",
   "execution_count": null,
   "metadata": {},
   "outputs": [],
   "source": [
    "# crime.reset_index(drop=True, inplace=True)"
   ]
  },
  {
   "cell_type": "code",
   "execution_count": null,
   "metadata": {},
   "outputs": [],
   "source": [
    "# crimeFlat = crime\n",
    "# crimeStack = crime.melt(['FIPS','County'], var_name='Metric', value_name='Measure')"
   ]
  },
  {
   "cell_type": "code",
   "execution_count": null,
   "metadata": {},
   "outputs": [],
   "source": [
    "# crimeStack['Indicator'] = \"Crime\""
   ]
  },
  {
   "cell_type": "code",
   "execution_count": 133,
   "metadata": {},
   "outputs": [],
   "source": [
    "counties = pd.read_excel('data/final/county-index-data.xlsx', sheet_name=\"flat\",usecols=\"A,B\")"
   ]
  },
  {
   "cell_type": "code",
   "execution_count": 137,
   "metadata": {},
   "outputs": [],
   "source": [
    "# now with crime\n",
    "youth = pd.read_excel('data/countyOppYouth.xlsx', sheet_name='pctOppYouth')"
   ]
  },
  {
   "cell_type": "code",
   "execution_count": 138,
   "metadata": {},
   "outputs": [],
   "source": [
    "youth.reset_index(drop=True, inplace=True)\n",
    "\n",
    "youthFlat = youth\n",
    "youthStack = youth.melt(['FIPS','County'], var_name='Metric', value_name='Measure')\n",
    "\n",
    "youthStack['Indicator'] = \"Opportunity\""
   ]
  },
  {
   "cell_type": "code",
   "execution_count": null,
   "metadata": {},
   "outputs": [],
   "source": []
  },
  {
   "cell_type": "code",
   "execution_count": 139,
   "metadata": {},
   "outputs": [],
   "source": [
    "# now with housing\n",
    "# ACS 5 year table DP04\n",
    "housing = pd.read_excel('data/housing.xlsx')\n",
    "housing = housing.loc[housing['State'] == \"Georgia\"]"
   ]
  },
  {
   "cell_type": "code",
   "execution_count": 140,
   "metadata": {},
   "outputs": [
    {
     "data": {
      "text/html": [
       "<div>\n",
       "<style scoped>\n",
       "    .dataframe tbody tr th:only-of-type {\n",
       "        vertical-align: middle;\n",
       "    }\n",
       "\n",
       "    .dataframe tbody tr th {\n",
       "        vertical-align: top;\n",
       "    }\n",
       "\n",
       "    .dataframe thead th {\n",
       "        text-align: right;\n",
       "    }\n",
       "</style>\n",
       "<table border=\"1\" class=\"dataframe\">\n",
       "  <thead>\n",
       "    <tr style=\"text-align: right;\">\n",
       "      <th></th>\n",
       "      <th>FIPS</th>\n",
       "      <th>State</th>\n",
       "      <th>County</th>\n",
       "      <th>2019 Households Spending Less than 30% of Income on Housing</th>\n",
       "      <th>2018 Households Spending Less than 30% of Income on Housing</th>\n",
       "      <th>2017 Households Spending Less than 30% of Income on Housing</th>\n",
       "      <th>2016 Households Spending Less than 30% of Income on Housing</th>\n",
       "      <th>2015 Households Spending Less than 30% of Income on Housing</th>\n",
       "      <th>2014 Households Spending Less than 30% of Income on Housing</th>\n",
       "      <th>2013 Households Spending Less than 30% of Income on Housing</th>\n",
       "      <th>2012 Households Spending Less than 30% of Income on Housing</th>\n",
       "      <th>2011 Households Spending Less than 30% of Income on Housing</th>\n",
       "      <th>2010 Households Spending Less than 30% of Income on Housing</th>\n",
       "    </tr>\n",
       "  </thead>\n",
       "  <tbody>\n",
       "    <tr>\n",
       "      <th>0</th>\n",
       "      <td>13001</td>\n",
       "      <td>Georgia</td>\n",
       "      <td>Appling County</td>\n",
       "      <td>63.953488</td>\n",
       "      <td>68.947756</td>\n",
       "      <td>65.458422</td>\n",
       "      <td>69.486623</td>\n",
       "      <td>68.924581</td>\n",
       "      <td>69.130435</td>\n",
       "      <td>71.111111</td>\n",
       "      <td>44.156560</td>\n",
       "      <td>62.770847</td>\n",
       "      <td>41.774892</td>\n",
       "    </tr>\n",
       "    <tr>\n",
       "      <th>1</th>\n",
       "      <td>13003</td>\n",
       "      <td>Georgia</td>\n",
       "      <td>Atkinson County</td>\n",
       "      <td>60.683761</td>\n",
       "      <td>67.816092</td>\n",
       "      <td>61.151079</td>\n",
       "      <td>60.199005</td>\n",
       "      <td>59.349593</td>\n",
       "      <td>52.356902</td>\n",
       "      <td>55.182927</td>\n",
       "      <td>56.168277</td>\n",
       "      <td>59.855072</td>\n",
       "      <td>52.669039</td>\n",
       "    </tr>\n",
       "    <tr>\n",
       "      <th>2</th>\n",
       "      <td>13005</td>\n",
       "      <td>Georgia</td>\n",
       "      <td>Bacon County</td>\n",
       "      <td>59.181287</td>\n",
       "      <td>58.090452</td>\n",
       "      <td>51.271186</td>\n",
       "      <td>53.680982</td>\n",
       "      <td>52.780488</td>\n",
       "      <td>51.185345</td>\n",
       "      <td>49.796748</td>\n",
       "      <td>47.486034</td>\n",
       "      <td>47.562297</td>\n",
       "      <td>49.144914</td>\n",
       "    </tr>\n",
       "    <tr>\n",
       "      <th>3</th>\n",
       "      <td>13007</td>\n",
       "      <td>Georgia</td>\n",
       "      <td>Baker County</td>\n",
       "      <td>58.357771</td>\n",
       "      <td>57.312253</td>\n",
       "      <td>56.682028</td>\n",
       "      <td>59.024390</td>\n",
       "      <td>42.236025</td>\n",
       "      <td>28.961749</td>\n",
       "      <td>33.593750</td>\n",
       "      <td>55.477774</td>\n",
       "      <td>35.379061</td>\n",
       "      <td>58.983051</td>\n",
       "    </tr>\n",
       "    <tr>\n",
       "      <th>4</th>\n",
       "      <td>13009</td>\n",
       "      <td>Georgia</td>\n",
       "      <td>Baldwin County</td>\n",
       "      <td>45.747086</td>\n",
       "      <td>41.717791</td>\n",
       "      <td>38.620465</td>\n",
       "      <td>34.413965</td>\n",
       "      <td>35.260311</td>\n",
       "      <td>34.641755</td>\n",
       "      <td>34.137192</td>\n",
       "      <td>67.960289</td>\n",
       "      <td>39.608130</td>\n",
       "      <td>45.997089</td>\n",
       "    </tr>\n",
       "  </tbody>\n",
       "</table>\n",
       "</div>"
      ],
      "text/plain": [
       "    FIPS    State           County  \\\n",
       "0  13001  Georgia   Appling County   \n",
       "1  13003  Georgia  Atkinson County   \n",
       "2  13005  Georgia     Bacon County   \n",
       "3  13007  Georgia     Baker County   \n",
       "4  13009  Georgia   Baldwin County   \n",
       "\n",
       "   2019 Households Spending Less than 30% of Income on Housing  \\\n",
       "0                                          63.953488             \n",
       "1                                          60.683761             \n",
       "2                                          59.181287             \n",
       "3                                          58.357771             \n",
       "4                                          45.747086             \n",
       "\n",
       "   2018 Households Spending Less than 30% of Income on Housing  \\\n",
       "0                                          68.947756             \n",
       "1                                          67.816092             \n",
       "2                                          58.090452             \n",
       "3                                          57.312253             \n",
       "4                                          41.717791             \n",
       "\n",
       "   2017 Households Spending Less than 30% of Income on Housing  \\\n",
       "0                                          65.458422             \n",
       "1                                          61.151079             \n",
       "2                                          51.271186             \n",
       "3                                          56.682028             \n",
       "4                                          38.620465             \n",
       "\n",
       "   2016 Households Spending Less than 30% of Income on Housing  \\\n",
       "0                                          69.486623             \n",
       "1                                          60.199005             \n",
       "2                                          53.680982             \n",
       "3                                          59.024390             \n",
       "4                                          34.413965             \n",
       "\n",
       "   2015 Households Spending Less than 30% of Income on Housing  \\\n",
       "0                                          68.924581             \n",
       "1                                          59.349593             \n",
       "2                                          52.780488             \n",
       "3                                          42.236025             \n",
       "4                                          35.260311             \n",
       "\n",
       "   2014 Households Spending Less than 30% of Income on Housing  \\\n",
       "0                                          69.130435             \n",
       "1                                          52.356902             \n",
       "2                                          51.185345             \n",
       "3                                          28.961749             \n",
       "4                                          34.641755             \n",
       "\n",
       "   2013 Households Spending Less than 30% of Income on Housing  \\\n",
       "0                                          71.111111             \n",
       "1                                          55.182927             \n",
       "2                                          49.796748             \n",
       "3                                          33.593750             \n",
       "4                                          34.137192             \n",
       "\n",
       "   2012 Households Spending Less than 30% of Income on Housing  \\\n",
       "0                                          44.156560             \n",
       "1                                          56.168277             \n",
       "2                                          47.486034             \n",
       "3                                          55.477774             \n",
       "4                                          67.960289             \n",
       "\n",
       "   2011 Households Spending Less than 30% of Income on Housing  \\\n",
       "0                                          62.770847             \n",
       "1                                          59.855072             \n",
       "2                                          47.562297             \n",
       "3                                          35.379061             \n",
       "4                                          39.608130             \n",
       "\n",
       "   2010 Households Spending Less than 30% of Income on Housing  \n",
       "0                                          41.774892            \n",
       "1                                          52.669039            \n",
       "2                                          49.144914            \n",
       "3                                          58.983051            \n",
       "4                                          45.997089            "
      ]
     },
     "execution_count": 140,
     "metadata": {},
     "output_type": "execute_result"
    }
   ],
   "source": [
    "housing.head()"
   ]
  },
  {
   "cell_type": "code",
   "execution_count": 141,
   "metadata": {},
   "outputs": [],
   "source": [
    "del housing['State']\n",
    "housingFlat = housing\n",
    "housingStack = housing.melt(['FIPS','County'], var_name='Metric', value_name='Measure')\n",
    "\n",
    "housingStack['Indicator'] = \"Opportunity\"\n"
   ]
  },
  {
   "cell_type": "code",
   "execution_count": null,
   "metadata": {},
   "outputs": [],
   "source": []
  },
  {
   "cell_type": "code",
   "execution_count": 142,
   "metadata": {},
   "outputs": [],
   "source": [
    "# now with crime\n",
    "poverty = pd.read_excel('data/countyPoverty.xlsx', sheet_name='povertyFlat')"
   ]
  },
  {
   "cell_type": "code",
   "execution_count": null,
   "metadata": {},
   "outputs": [],
   "source": []
  },
  {
   "cell_type": "code",
   "execution_count": 143,
   "metadata": {},
   "outputs": [],
   "source": [
    "povertyFlat = poverty\n",
    "povertyStack = poverty.melt(['FIPS','County'], var_name='Metric', value_name='Measure')\n",
    "\n",
    "povertyStack['Indicator'] = \"Opportunity\""
   ]
  },
  {
   "cell_type": "code",
   "execution_count": 144,
   "metadata": {},
   "outputs": [],
   "source": [
    "# now with unemployment\n",
    "unemploymentFlat = pd.read_excel('data/unemploymentRate.xlsx')\n",
    "del unemploymentFlat['FIPS']\n",
    "unemploymentFlat['Unemployment Rate Change Since 2010'] = unemploymentFlat['2019 Unemployment Rate'] - unemploymentFlat['2010 Unemployment Rate']\n",
    "unemploymentStack = unemploymentFlat.melt('County', var_name='Metric', value_name='Measure')\n",
    "unemploymentStack['Indicator'] = \"Economy\""
   ]
  },
  {
   "cell_type": "code",
   "execution_count": 145,
   "metadata": {},
   "outputs": [],
   "source": [
    "# now with grp\n",
    "grpFlat = pd.read_excel('data/county-grp.xlsx', sheet_name=\"IHS\")\n",
    "grpFlat['GRP % Change Since 2010'] = ( grpFlat['2020 GRP'] - grpFlat['2010 GRP'] ) / grpFlat['2010 GRP']\n",
    "grpStack = grpFlat.melt(['FIPS','County'], var_name='Metric', value_name='Measure')\n",
    "grpStack['Indicator'] = \"Economy\""
   ]
  },
  {
   "cell_type": "code",
   "execution_count": 146,
   "metadata": {},
   "outputs": [],
   "source": [
    "# now with prek enrollment\n",
    "# now with crime\n",
    "prek = pd.read_excel('data/countyPreK.xlsx')"
   ]
  },
  {
   "cell_type": "code",
   "execution_count": 147,
   "metadata": {},
   "outputs": [],
   "source": [
    "prekFlat = prek\n",
    "prekStack = prek.melt(['FIPS','County'], var_name='Metric', value_name='Measure')\n",
    "\n",
    "prekStack['Indicator'] = \"Education\""
   ]
  },
  {
   "cell_type": "code",
   "execution_count": 148,
   "metadata": {},
   "outputs": [],
   "source": [
    "prekCountsFlat = pd.read_excel('data/county-prek.xlsx')"
   ]
  },
  {
   "cell_type": "code",
   "execution_count": 149,
   "metadata": {},
   "outputs": [],
   "source": [
    "prekCountsStacked = prekCountsFlat.melt(['FIPS','County'], var_name='Metric', value_name='Measure')\n",
    "prekCountsStacked['Indicator'] = \"Education\""
   ]
  },
  {
   "cell_type": "code",
   "execution_count": 150,
   "metadata": {},
   "outputs": [],
   "source": [
    "# now with associates +\n",
    "college = pd.read_excel('data/collegeAttain.xlsx')\n",
    "collegeFlat = college\n",
    "collegeStack = college.melt(['FIPS','County'], var_name='Metric', value_name='Measure')\n",
    "\n",
    "collegeStack['Indicator'] = \"Education\""
   ]
  },
  {
   "cell_type": "code",
   "execution_count": 151,
   "metadata": {},
   "outputs": [],
   "source": [
    "# now with health insurance\n",
    "uninsured = pd.read_excel('data/opportunity-index-2018.xlsx', sheet_name='Counties', skiprows=2, usecols=\"A,B,C,ET:EY\")\n",
    "uninsured = uninsured.loc[uninsured['State'] == \"Georgia\"]\n",
    "del uninsured['State']"
   ]
  },
  {
   "cell_type": "code",
   "execution_count": 152,
   "metadata": {},
   "outputs": [],
   "source": [
    "uninsured.rename(columns={ '2019 Lack of Health Insurance (% of the population under age 65 without health insurance coverage)' : '2019 % No Insurance',\n",
    "                           '2018 Lack of Health Insurance (% of the population under age 65 without health insurance coverage)' : '2018 % No Insurance',\n",
    "                           '2017 Lack of Health Insurance (% of the population under age 65 without health insurance coverage)' : '2017 % No Insurance',\n",
    "                           '2016 Lack of Health Insurance (% of the population under age 65 without health insurance coverage)' : '2016 % No Insurance',}, inplace=True)\n",
    "\n",
    "uninsured.iloc[:,2].fillna(13.4, inplace=True)\n",
    "uninsured.iloc[:,5].fillna(15.8, inplace=True)\n",
    "uninsured.reset_index(drop=True, inplace=True)\n",
    "\n",
    "uninsuredFlat = uninsured\n",
    "uninsuredStack = uninsured.melt(['FIPS','County'], var_name='Metric', value_name='Measure')\n",
    "\n",
    "uninsuredStack['Indicator'] = \"Health Care\""
   ]
  },
  {
   "cell_type": "code",
   "execution_count": 153,
   "metadata": {},
   "outputs": [],
   "source": [
    "# now with doctors\n",
    "doctors = pd.read_excel('data/opportunity-index-2018.xlsx', sheet_name='Counties', skiprows=2, usecols=\"A,B,C,GQ:GU\")\n",
    "doctors = doctors.loc[doctors['State'] == \"Georgia\"]\n",
    "del doctors['State']"
   ]
  },
  {
   "cell_type": "code",
   "execution_count": 154,
   "metadata": {},
   "outputs": [],
   "source": [
    "doctors['2018 Primary Care Physicians (per 100,000 population)'].fillna(65.8, inplace=True)\n",
    "doctors['2016 Primary Care Physicians (per 100,000 population)'].fillna(65.6, inplace=True)\n",
    "doctors.iloc[:,5].fillna(-0.2, inplace=True)\n",
    "doctors.iloc[:,6].fillna(0.3, inplace=True)\n",
    "doctors.reset_index(drop=True, inplace=True)\n",
    "\n",
    "doctorsFlat = doctors\n",
    "doctorsStack = doctors.melt(['FIPS','County'], var_name='Metric', value_name='Measure')\n",
    "\n",
    "doctorsStack['Indicator'] = \"Health Care\""
   ]
  },
  {
   "cell_type": "code",
   "execution_count": 155,
   "metadata": {},
   "outputs": [],
   "source": [
    "doctors.sort_values('2018 Primary Care Physicians (per 100,000 population)', inplace=True)"
   ]
  },
  {
   "cell_type": "code",
   "execution_count": 156,
   "metadata": {},
   "outputs": [],
   "source": [
    "laborFlat = pd.read_excel('data/labor-force.xlsx')\n",
    "laborStack = laborFlat.melt(['FIPS','County'], var_name='Metric', value_name='Measure')\n",
    "laborStack['Indicator'] = 'Economy'"
   ]
  },
  {
   "cell_type": "code",
   "execution_count": 157,
   "metadata": {},
   "outputs": [],
   "source": [
    "# high school grad rates\n",
    "gradRatesFlat = pd.read_excel('data/hs-grad-rates.xlsx')\n",
    "gradRatesStack = gradRatesFlat.melt(['FIPS','County'], var_name='Metric', value_name='Measure')\n",
    "gradRatesStack['Indicator'] = 'Education'"
   ]
  },
  {
   "cell_type": "code",
   "execution_count": 158,
   "metadata": {},
   "outputs": [],
   "source": [
    "# need to get population in here\n",
    "popFlat = pd.read_excel('data/population.xlsx')\n",
    "popFlat['2011 Population'] = popFlat['2011 Population'] * 1000\n",
    "popFlat['2012 Population'] = popFlat['2012 Population'] * 1000\n",
    "popFlat['2013 Population'] = popFlat['2013 Population'] * 1000\n",
    "popFlat['2014 Population'] = popFlat['2014 Population'] * 1000\n",
    "popFlat['2015 Population'] = popFlat['2015 Population'] * 1000\n",
    "popFlat['2016 Population'] = popFlat['2016 Population'] * 1000\n",
    "popFlat['2017 Population'] = popFlat['2017 Population'] * 1000\n",
    "popFlat['2018 Population'] = popFlat['2018 Population'] * 1000\n",
    "popFlat['2019 Population'] = popFlat['2019 Population'] * 1000\n",
    "popFlat['2020 Population'] = popFlat['2020 Population'] * 1000\n",
    "popFlat['Population Change 2011-2020'] = ( popFlat['2020 Population'] - popFlat['2011 Population'] ) / popFlat['2011 Population']\n",
    "popStack = popFlat.melt(['FIPS','County'], var_name='Metric', value_name='Measure')\n",
    "popStack['Indicator'] = 'Economy'"
   ]
  },
  {
   "cell_type": "code",
   "execution_count": 159,
   "metadata": {},
   "outputs": [],
   "source": [
    "# need to get a health metric\n",
    "lifeFlat = pd.read_excel('data/life-expectancy.xlsx')\n",
    "lifeStack = lifeFlat.melt(['FIPS','County'], var_name='Metric', value_name='Measure')\n",
    "lifeStack['Indicator'] = 'Health'"
   ]
  },
  {
   "cell_type": "code",
   "execution_count": 27,
   "metadata": {},
   "outputs": [],
   "source": [
    "# join all frames properly into a single flat frame and a single stacked frame\n",
    "# prisonFlat,crimeFlat,youthFlat,housingFlat,povertyFlat,unemploymentFlat,grpFlat,prekFlat,collegeFlat,prekCountsFlat,\n",
    "# uninsuredFlat,doctorsFlat,gradRatesFlat,lifeFlat, popFlat,laborFlat\n",
    "\n",
    "\n",
    "# prisonStack,crimeStack,youthStack,housingStack,povertyStack,unemploymentStack,grpStack,prekStack,collegeStack,\n",
    "# prekCountsStacked, uninsuredStack,doctorsStack,gradRatesStack, popStack"
   ]
  },
  {
   "cell_type": "code",
   "execution_count": 160,
   "metadata": {},
   "outputs": [],
   "source": [
    "# make sure all frames have appropriate FIPS and County Name columns\n",
    "# counties = crimeFlat[['FIPS','County']]\n",
    "\n",
    "# prisonFlat = pd.merge(prisonFlat, counties, how='left', on='County')\n",
    "# prisonStack = pd.merge(prisonStack, counties, how='left', on='County')\n",
    "\n",
    "unemploymentFlat = pd.merge(unemploymentFlat, counties, how='left', on='County')\n",
    "unemploymentStack = pd.merge(unemploymentStack, counties, how='left', on='County')"
   ]
  },
  {
   "cell_type": "code",
   "execution_count": 161,
   "metadata": {},
   "outputs": [],
   "source": [
    "unemploymentFlat.rename(columns={ 'FIPS_x' : 'FIPS'}, inplace=True)\n",
    "unemploymentStack.rename(columns={ 'FIPS_x' : 'FIPS'}, inplace=True)"
   ]
  },
  {
   "cell_type": "code",
   "execution_count": 162,
   "metadata": {},
   "outputs": [],
   "source": [
    "# prisonStack = prisonStack[['FIPS','County','Metric','Measure','Indicator']]\n",
    "unemploymentStack = unemploymentStack[['FIPS','County','Metric','Measure','Indicator']]"
   ]
  },
  {
   "cell_type": "code",
   "execution_count": 163,
   "metadata": {},
   "outputs": [],
   "source": [
    "# stack all stacked frames on top of one another\n",
    "stacks = [youthStack,housingStack,\n",
    "          povertyStack,unemploymentStack,grpStack,prekStack,gradRatesStack,\n",
    "          collegeStack,prekCountsStacked, uninsuredStack,doctorsStack,\n",
    "          laborStack, popStack, lifeStack]\n",
    "\n",
    "dataStacked = pd.concat(stacks).reset_index(drop=True)\n"
   ]
  },
  {
   "cell_type": "code",
   "execution_count": 164,
   "metadata": {},
   "outputs": [],
   "source": [
    "dataStacked['Year'] = dataStacked['Metric'].apply(lambda x: x.split()[0])"
   ]
  },
  {
   "cell_type": "code",
   "execution_count": 165,
   "metadata": {},
   "outputs": [],
   "source": [
    "dataStacked = dataStacked.sort_values(['County','Indicator','Metric'])"
   ]
  },
  {
   "cell_type": "code",
   "execution_count": 166,
   "metadata": {},
   "outputs": [],
   "source": [
    "dataStacked = dataStacked[['FIPS','County','Year','Indicator','Metric','Measure']].reset_index(drop=True)"
   ]
  },
  {
   "cell_type": "code",
   "execution_count": 167,
   "metadata": {},
   "outputs": [],
   "source": [
    "unemploymentFlat = unemploymentFlat.sort_values('FIPS')"
   ]
  },
  {
   "cell_type": "code",
   "execution_count": null,
   "metadata": {},
   "outputs": [],
   "source": [
    "stop here!!!!"
   ]
  },
  {
   "cell_type": "code",
   "execution_count": 168,
   "metadata": {},
   "outputs": [],
   "source": [
    "# join all flat files into one enormous file and write out as official file for reference\n",
    "# ,crimeFlat,youthFlat,housingFlat,povertyFlat,,grpFlat,prekFlat,collegeFlat,prekCountsFlat,\n",
    "# uninsuredFlat,doctorsFlat,prisonFlat,unemploymentFlat\n",
    "# dataFlat = pd.merge(crimeFlat,youthFlat,how='left',on=['FIPS','County'])\n",
    "\n",
    "dataFlat = pd.merge(youthFlat,housingFlat,how='left',on=['FIPS','County'])\n",
    "dataFlat = pd.merge(dataFlat,povertyFlat,how='left',on=['FIPS','County'])\n",
    "dataFlat = pd.merge(dataFlat,grpFlat,how='left',on=['FIPS','County'])\n",
    "dataFlat = pd.merge(dataFlat,collegeFlat,how='left',on=['FIPS','County'])\n",
    "dataFlat = pd.merge(dataFlat,prekFlat,how='left',on=['FIPS','County'])\n",
    "dataFlat = pd.merge(dataFlat,prekCountsFlat,how='left',on=['FIPS','County'])\n",
    "dataFlat = pd.merge(dataFlat,uninsuredFlat,how='left',on=['FIPS','County'])\n",
    "dataFlat = pd.merge(dataFlat,doctorsFlat,how='left',on=['FIPS','County'])\n",
    "# dataFlat = pd.merge(dataFlat,prisonFlat,how='left',on=['FIPS','County'])\n",
    "dataFlat = pd.merge(dataFlat,unemploymentFlat,how='left',on=['FIPS','County'])\n",
    "dataFlat = pd.merge(dataFlat,gradRatesFlat,how='left',on=['FIPS','County'])\n",
    "dataFlat = pd.merge(dataFlat,lifeFlat,how='left',on=['FIPS','County'])\n",
    "dataFlat = pd.merge(dataFlat,popFlat,how='left',on=['FIPS','County'])\n",
    "dataFlat = pd.merge(dataFlat,laborFlat,how='left',on=['FIPS','County'])"
   ]
  },
  {
   "cell_type": "code",
   "execution_count": 169,
   "metadata": {},
   "outputs": [],
   "source": [
    "# keep only those columns being used in actual indicators and save as 'data'\n",
    "# data = dataFlat.iloc[:,np.r_[0:3,10,19,28,38,49,50,51,61,62,74,80,89,94,96,101,112,117]]\n",
    "# data = dataFlat.iloc[:,np.r_[0:3,11,20,28,39,40,41,51,52,64,70,79,80,81,86,97,102]]\n",
    "data = dataFlat.iloc[:,np.r_[0:3,12,22,31,42,43,44,55,65,69,75,89,90,91,97,108,114]]"
   ]
  },
  {
   "cell_type": "code",
   "execution_count": 170,
   "metadata": {},
   "outputs": [
    {
     "name": "stderr",
     "output_type": "stream",
     "text": [
      "/Users/mmainza/opt/anaconda3/lib/python3.7/site-packages/ipykernel_launcher.py:5: SettingWithCopyWarning: \n",
      "A value is trying to be set on a copy of a slice from a DataFrame.\n",
      "Try using .loc[row_indexer,col_indexer] = value instead\n",
      "\n",
      "See the caveats in the documentation: https://pandas.pydata.org/pandas-docs/stable/user_guide/indexing.html#returning-a-view-versus-a-copy\n",
      "  \"\"\"\n",
      "/Users/mmainza/opt/anaconda3/lib/python3.7/site-packages/ipykernel_launcher.py:6: SettingWithCopyWarning: \n",
      "A value is trying to be set on a copy of a slice from a DataFrame.\n",
      "Try using .loc[row_indexer,col_indexer] = value instead\n",
      "\n",
      "See the caveats in the documentation: https://pandas.pydata.org/pandas-docs/stable/user_guide/indexing.html#returning-a-view-versus-a-copy\n",
      "  \n",
      "/Users/mmainza/opt/anaconda3/lib/python3.7/site-packages/ipykernel_launcher.py:7: SettingWithCopyWarning: \n",
      "A value is trying to be set on a copy of a slice from a DataFrame.\n",
      "Try using .loc[row_indexer,col_indexer] = value instead\n",
      "\n",
      "See the caveats in the documentation: https://pandas.pydata.org/pandas-docs/stable/user_guide/indexing.html#returning-a-view-versus-a-copy\n",
      "  import sys\n",
      "/Users/mmainza/opt/anaconda3/lib/python3.7/site-packages/ipykernel_launcher.py:8: SettingWithCopyWarning: \n",
      "A value is trying to be set on a copy of a slice from a DataFrame.\n",
      "Try using .loc[row_indexer,col_indexer] = value instead\n",
      "\n",
      "See the caveats in the documentation: https://pandas.pydata.org/pandas-docs/stable/user_guide/indexing.html#returning-a-view-versus-a-copy\n",
      "  \n",
      "/Users/mmainza/opt/anaconda3/lib/python3.7/site-packages/ipykernel_launcher.py:9: SettingWithCopyWarning: \n",
      "A value is trying to be set on a copy of a slice from a DataFrame.\n",
      "Try using .loc[row_indexer,col_indexer] = value instead\n",
      "\n",
      "See the caveats in the documentation: https://pandas.pydata.org/pandas-docs/stable/user_guide/indexing.html#returning-a-view-versus-a-copy\n",
      "  if __name__ == '__main__':\n",
      "/Users/mmainza/opt/anaconda3/lib/python3.7/site-packages/ipykernel_launcher.py:10: SettingWithCopyWarning: \n",
      "A value is trying to be set on a copy of a slice from a DataFrame.\n",
      "Try using .loc[row_indexer,col_indexer] = value instead\n",
      "\n",
      "See the caveats in the documentation: https://pandas.pydata.org/pandas-docs/stable/user_guide/indexing.html#returning-a-view-versus-a-copy\n",
      "  # Remove the CWD from sys.path while we load stuff.\n",
      "/Users/mmainza/opt/anaconda3/lib/python3.7/site-packages/ipykernel_launcher.py:11: SettingWithCopyWarning: \n",
      "A value is trying to be set on a copy of a slice from a DataFrame.\n",
      "Try using .loc[row_indexer,col_indexer] = value instead\n",
      "\n",
      "See the caveats in the documentation: https://pandas.pydata.org/pandas-docs/stable/user_guide/indexing.html#returning-a-view-versus-a-copy\n",
      "  # This is added back by InteractiveShellApp.init_path()\n",
      "/Users/mmainza/opt/anaconda3/lib/python3.7/site-packages/ipykernel_launcher.py:12: SettingWithCopyWarning: \n",
      "A value is trying to be set on a copy of a slice from a DataFrame.\n",
      "Try using .loc[row_indexer,col_indexer] = value instead\n",
      "\n",
      "See the caveats in the documentation: https://pandas.pydata.org/pandas-docs/stable/user_guide/indexing.html#returning-a-view-versus-a-copy\n",
      "  if sys.path[0] == '':\n",
      "/Users/mmainza/opt/anaconda3/lib/python3.7/site-packages/ipykernel_launcher.py:13: SettingWithCopyWarning: \n",
      "A value is trying to be set on a copy of a slice from a DataFrame.\n",
      "Try using .loc[row_indexer,col_indexer] = value instead\n",
      "\n",
      "See the caveats in the documentation: https://pandas.pydata.org/pandas-docs/stable/user_guide/indexing.html#returning-a-view-versus-a-copy\n",
      "  del sys.path[0]\n",
      "/Users/mmainza/opt/anaconda3/lib/python3.7/site-packages/ipykernel_launcher.py:14: SettingWithCopyWarning: \n",
      "A value is trying to be set on a copy of a slice from a DataFrame.\n",
      "Try using .loc[row_indexer,col_indexer] = value instead\n",
      "\n",
      "See the caveats in the documentation: https://pandas.pydata.org/pandas-docs/stable/user_guide/indexing.html#returning-a-view-versus-a-copy\n",
      "  \n",
      "/Users/mmainza/opt/anaconda3/lib/python3.7/site-packages/ipykernel_launcher.py:15: SettingWithCopyWarning: \n",
      "A value is trying to be set on a copy of a slice from a DataFrame.\n",
      "Try using .loc[row_indexer,col_indexer] = value instead\n",
      "\n",
      "See the caveats in the documentation: https://pandas.pydata.org/pandas-docs/stable/user_guide/indexing.html#returning-a-view-versus-a-copy\n",
      "  from ipykernel import kernelapp as app\n",
      "/Users/mmainza/opt/anaconda3/lib/python3.7/site-packages/ipykernel_launcher.py:17: SettingWithCopyWarning: \n",
      "A value is trying to be set on a copy of a slice from a DataFrame.\n",
      "Try using .loc[row_indexer,col_indexer] = value instead\n",
      "\n",
      "See the caveats in the documentation: https://pandas.pydata.org/pandas-docs/stable/user_guide/indexing.html#returning-a-view-versus-a-copy\n",
      "/Users/mmainza/opt/anaconda3/lib/python3.7/site-packages/ipykernel_launcher.py:19: SettingWithCopyWarning: \n",
      "A value is trying to be set on a copy of a slice from a DataFrame.\n",
      "Try using .loc[row_indexer,col_indexer] = value instead\n",
      "\n",
      "See the caveats in the documentation: https://pandas.pydata.org/pandas-docs/stable/user_guide/indexing.html#returning-a-view-versus-a-copy\n",
      "/Users/mmainza/opt/anaconda3/lib/python3.7/site-packages/ipykernel_launcher.py:20: SettingWithCopyWarning: \n",
      "A value is trying to be set on a copy of a slice from a DataFrame.\n",
      "Try using .loc[row_indexer,col_indexer] = value instead\n",
      "\n",
      "See the caveats in the documentation: https://pandas.pydata.org/pandas-docs/stable/user_guide/indexing.html#returning-a-view-versus-a-copy\n",
      "/Users/mmainza/opt/anaconda3/lib/python3.7/site-packages/ipykernel_launcher.py:21: SettingWithCopyWarning: \n",
      "A value is trying to be set on a copy of a slice from a DataFrame.\n",
      "Try using .loc[row_indexer,col_indexer] = value instead\n",
      "\n",
      "See the caveats in the documentation: https://pandas.pydata.org/pandas-docs/stable/user_guide/indexing.html#returning-a-view-versus-a-copy\n",
      "/Users/mmainza/opt/anaconda3/lib/python3.7/site-packages/ipykernel_launcher.py:22: SettingWithCopyWarning: \n",
      "A value is trying to be set on a copy of a slice from a DataFrame.\n",
      "Try using .loc[row_indexer,col_indexer] = value instead\n",
      "\n",
      "See the caveats in the documentation: https://pandas.pydata.org/pandas-docs/stable/user_guide/indexing.html#returning-a-view-versus-a-copy\n"
     ]
    }
   ],
   "source": [
    "# need to create a min/max scale to normalize each column\n",
    "# several columns need higher normalized values to coincide with lower actual values\n",
    "    # this is because we want lower values in some cases to be communicated as better, i.e., crime, unemployment, etc.\n",
    "# data['Violent Crime Normalized'] = ( 1- (data.iloc[ : , 2 ]-data.iloc[ : , 2 ].min())/(data.iloc[ : , 2 ].max()-data.iloc[ : , 2 ].min()) ) * 100\n",
    "data['Opportunity Youth Normalized'] = ( 1- (data.iloc[ : , 2 ]-data.iloc[ : , 2 ].min())/(data.iloc[ : , 2 ].max()-data.iloc[ : , 2 ].min()) ) * 100\n",
    "data['Housing Normalized'] = (data.iloc[ : , 3 ]-data.iloc[ : , 3 ].min())/(data.iloc[ : , 3 ].max()-data.iloc[ : , 3 ].min()) * 100\n",
    "data['Poverty Normalized'] = ( 1- (data.iloc[ : , 4 ]-data.iloc[ : , 4 ].min())/(data.iloc[ : , 4 ].max()-data.iloc[ : , 4 ].min()) ) * 100\n",
    "data['Poverty Change Normalized'] = ( 1- (data.iloc[ : , 5 ]-data.iloc[ : , 5 ].min())/(data.iloc[ : , 5 ].max()-data.iloc[ : , 5 ].min()) ) * 100\n",
    "data['GRP Normalized'] = (data.iloc[ : , 6 ]-data.iloc[ : , 6 ].min())/(data.iloc[ : , 6 ].max()-data.iloc[ : , 6 ].min()) * 100\n",
    "data['GRP Change Normalized'] = (data.iloc[ : , 7 ]-data.iloc[ : , 7 ].min())/(data.iloc[ : , 7 ].max()-data.iloc[ : , 7 ].min()) * 100\n",
    "data['Ed. Attainment Normalized'] = (data.iloc[ : , 8 ]-data.iloc[ : , 8 ].min())/(data.iloc[ : , 8 ].max()-data.iloc[ : , 8 ].min()) * 100\n",
    "data['Ed. Attainment Change Normalized'] = (data.iloc[ : , 9 ]-data.iloc[ : , 9 ].min())/(data.iloc[ : , 9 ].max()-data.iloc[ : , 9 ].min()) * 100\n",
    "data['Pre-K Enroll Normalized'] = (data.iloc[ : , 10 ]-data.iloc[ : , 10 ].min())/(data.iloc[ : , 10 ].max()-data.iloc[ : , 10 ].min()) * 100\n",
    "data['Insurance Normalized'] = ( 1- (data.iloc[ : , 11 ]-data.iloc[ : , 11 ].min())/(data.iloc[ : , 11 ].max()-data.iloc[ : , 11 ].min()) ) * 100\n",
    "data['Doctors Normalized'] = (data.iloc[ : , 12 ]-data.iloc[ : , 12 ].min())/(data.iloc[ : , 12 ].max()-data.iloc[ : , 12 ].min()) * 100\n",
    "# data['Prison Normalized'] = ( 1- (data.iloc[ : , 15 ]-data.iloc[ : , 15 ].min())/(data.iloc[ : , 15 ].max()-data.iloc[ : , 15 ].min()) ) * 100\n",
    "data['Unemployment Normalized'] = ( 1- (data.iloc[ : , 13 ]-data.iloc[ : , 13 ].min())/(data.iloc[ : , 13 ].max()-data.iloc[ : , 13 ].min()) ) * 100\n",
    "\n",
    "data['HS Grad Rate Normalized'] = (data.iloc[ : , 15 ]-data.iloc[ : , 15 ].min())/(data.iloc[ : , 15 ].max()-data.iloc[ : , 15 ].min()) * 100\n",
    "data['Life Expectancy Normalized'] = (data.iloc[ : , 16 ]-data.iloc[ : , 16 ].min())/(data.iloc[ : , 16 ].max()-data.iloc[ : , 16 ].min()) * 100\n",
    "data['Population Change Normalized'] = (data.iloc[ : , 17 ]-data.iloc[ : , 17 ].min())/(data.iloc[ : , 17 ].max()-data.iloc[ : , 17 ].min()) * 100\n",
    "data['Labor Force Participation Normalized'] = (data.iloc[ : , 18 ]-data.iloc[ : , 18 ].min())/(data.iloc[ : , 18 ].max()-data.iloc[ : , 18 ].min()) * 100"
   ]
  },
  {
   "cell_type": "code",
   "execution_count": 171,
   "metadata": {},
   "outputs": [
    {
     "name": "stderr",
     "output_type": "stream",
     "text": [
      "/Users/mmainza/opt/anaconda3/lib/python3.7/site-packages/ipykernel_launcher.py:5: SettingWithCopyWarning: \n",
      "A value is trying to be set on a copy of a slice from a DataFrame.\n",
      "Try using .loc[row_indexer,col_indexer] = value instead\n",
      "\n",
      "See the caveats in the documentation: https://pandas.pydata.org/pandas-docs/stable/user_guide/indexing.html#returning-a-view-versus-a-copy\n",
      "  \"\"\"\n",
      "/Users/mmainza/opt/anaconda3/lib/python3.7/site-packages/ipykernel_launcher.py:6: SettingWithCopyWarning: \n",
      "A value is trying to be set on a copy of a slice from a DataFrame.\n",
      "Try using .loc[row_indexer,col_indexer] = value instead\n",
      "\n",
      "See the caveats in the documentation: https://pandas.pydata.org/pandas-docs/stable/user_guide/indexing.html#returning-a-view-versus-a-copy\n",
      "  \n",
      "/Users/mmainza/opt/anaconda3/lib/python3.7/site-packages/ipykernel_launcher.py:7: SettingWithCopyWarning: \n",
      "A value is trying to be set on a copy of a slice from a DataFrame.\n",
      "Try using .loc[row_indexer,col_indexer] = value instead\n",
      "\n",
      "See the caveats in the documentation: https://pandas.pydata.org/pandas-docs/stable/user_guide/indexing.html#returning-a-view-versus-a-copy\n",
      "  import sys\n",
      "/Users/mmainza/opt/anaconda3/lib/python3.7/site-packages/ipykernel_launcher.py:8: SettingWithCopyWarning: \n",
      "A value is trying to be set on a copy of a slice from a DataFrame.\n",
      "Try using .loc[row_indexer,col_indexer] = value instead\n",
      "\n",
      "See the caveats in the documentation: https://pandas.pydata.org/pandas-docs/stable/user_guide/indexing.html#returning-a-view-versus-a-copy\n",
      "  \n",
      "/Users/mmainza/opt/anaconda3/lib/python3.7/site-packages/ipykernel_launcher.py:9: SettingWithCopyWarning: \n",
      "A value is trying to be set on a copy of a slice from a DataFrame.\n",
      "Try using .loc[row_indexer,col_indexer] = value instead\n",
      "\n",
      "See the caveats in the documentation: https://pandas.pydata.org/pandas-docs/stable/user_guide/indexing.html#returning-a-view-versus-a-copy\n",
      "  if __name__ == '__main__':\n",
      "/Users/mmainza/opt/anaconda3/lib/python3.7/site-packages/ipykernel_launcher.py:10: SettingWithCopyWarning: \n",
      "A value is trying to be set on a copy of a slice from a DataFrame.\n",
      "Try using .loc[row_indexer,col_indexer] = value instead\n",
      "\n",
      "See the caveats in the documentation: https://pandas.pydata.org/pandas-docs/stable/user_guide/indexing.html#returning-a-view-versus-a-copy\n",
      "  # Remove the CWD from sys.path while we load stuff.\n",
      "/Users/mmainza/opt/anaconda3/lib/python3.7/site-packages/ipykernel_launcher.py:11: SettingWithCopyWarning: \n",
      "A value is trying to be set on a copy of a slice from a DataFrame.\n",
      "Try using .loc[row_indexer,col_indexer] = value instead\n",
      "\n",
      "See the caveats in the documentation: https://pandas.pydata.org/pandas-docs/stable/user_guide/indexing.html#returning-a-view-versus-a-copy\n",
      "  # This is added back by InteractiveShellApp.init_path()\n",
      "/Users/mmainza/opt/anaconda3/lib/python3.7/site-packages/ipykernel_launcher.py:12: SettingWithCopyWarning: \n",
      "A value is trying to be set on a copy of a slice from a DataFrame.\n",
      "Try using .loc[row_indexer,col_indexer] = value instead\n",
      "\n",
      "See the caveats in the documentation: https://pandas.pydata.org/pandas-docs/stable/user_guide/indexing.html#returning-a-view-versus-a-copy\n",
      "  if sys.path[0] == '':\n",
      "/Users/mmainza/opt/anaconda3/lib/python3.7/site-packages/ipykernel_launcher.py:13: SettingWithCopyWarning: \n",
      "A value is trying to be set on a copy of a slice from a DataFrame.\n",
      "Try using .loc[row_indexer,col_indexer] = value instead\n",
      "\n",
      "See the caveats in the documentation: https://pandas.pydata.org/pandas-docs/stable/user_guide/indexing.html#returning-a-view-versus-a-copy\n",
      "  del sys.path[0]\n",
      "/Users/mmainza/opt/anaconda3/lib/python3.7/site-packages/ipykernel_launcher.py:14: SettingWithCopyWarning: \n",
      "A value is trying to be set on a copy of a slice from a DataFrame.\n",
      "Try using .loc[row_indexer,col_indexer] = value instead\n",
      "\n",
      "See the caveats in the documentation: https://pandas.pydata.org/pandas-docs/stable/user_guide/indexing.html#returning-a-view-versus-a-copy\n",
      "  \n",
      "/Users/mmainza/opt/anaconda3/lib/python3.7/site-packages/ipykernel_launcher.py:15: SettingWithCopyWarning: \n",
      "A value is trying to be set on a copy of a slice from a DataFrame.\n",
      "Try using .loc[row_indexer,col_indexer] = value instead\n",
      "\n",
      "See the caveats in the documentation: https://pandas.pydata.org/pandas-docs/stable/user_guide/indexing.html#returning-a-view-versus-a-copy\n",
      "  from ipykernel import kernelapp as app\n",
      "/Users/mmainza/opt/anaconda3/lib/python3.7/site-packages/ipykernel_launcher.py:17: SettingWithCopyWarning: \n",
      "A value is trying to be set on a copy of a slice from a DataFrame.\n",
      "Try using .loc[row_indexer,col_indexer] = value instead\n",
      "\n",
      "See the caveats in the documentation: https://pandas.pydata.org/pandas-docs/stable/user_guide/indexing.html#returning-a-view-versus-a-copy\n",
      "/Users/mmainza/opt/anaconda3/lib/python3.7/site-packages/ipykernel_launcher.py:18: SettingWithCopyWarning: \n",
      "A value is trying to be set on a copy of a slice from a DataFrame.\n",
      "Try using .loc[row_indexer,col_indexer] = value instead\n",
      "\n",
      "See the caveats in the documentation: https://pandas.pydata.org/pandas-docs/stable/user_guide/indexing.html#returning-a-view-versus-a-copy\n",
      "/Users/mmainza/opt/anaconda3/lib/python3.7/site-packages/ipykernel_launcher.py:19: SettingWithCopyWarning: \n",
      "A value is trying to be set on a copy of a slice from a DataFrame.\n",
      "Try using .loc[row_indexer,col_indexer] = value instead\n",
      "\n",
      "See the caveats in the documentation: https://pandas.pydata.org/pandas-docs/stable/user_guide/indexing.html#returning-a-view-versus-a-copy\n",
      "/Users/mmainza/opt/anaconda3/lib/python3.7/site-packages/ipykernel_launcher.py:20: SettingWithCopyWarning: \n",
      "A value is trying to be set on a copy of a slice from a DataFrame.\n",
      "Try using .loc[row_indexer,col_indexer] = value instead\n",
      "\n",
      "See the caveats in the documentation: https://pandas.pydata.org/pandas-docs/stable/user_guide/indexing.html#returning-a-view-versus-a-copy\n",
      "/Users/mmainza/opt/anaconda3/lib/python3.7/site-packages/ipykernel_launcher.py:21: SettingWithCopyWarning: \n",
      "A value is trying to be set on a copy of a slice from a DataFrame.\n",
      "Try using .loc[row_indexer,col_indexer] = value instead\n",
      "\n",
      "See the caveats in the documentation: https://pandas.pydata.org/pandas-docs/stable/user_guide/indexing.html#returning-a-view-versus-a-copy\n"
     ]
    }
   ],
   "source": [
    "# we can't do quantiles of the actual values, as that will miscommunicate those metrics where lower is better\n",
    "# instead, we do quantiles of the normalized values, where certain metrics are reversed\n",
    "\n",
    "# data['Violent Crime Quintile'] = pd.qcut(data['Violent Crime Normalized'],5,labels=False, duplicates='drop')\n",
    "data['Opportunity Youth Quintile'] = pd.qcut(data['Opportunity Youth Normalized'],5,labels=False, duplicates='drop')\n",
    "data['Housing Quintile'] = pd.qcut(data['Housing Normalized'],5,labels=False, duplicates='drop')\n",
    "data['Poverty Quintile'] = pd.qcut(data['Poverty Normalized'],5,labels=False, duplicates='drop')\n",
    "data['Poverty Change Quintile'] = pd.qcut(data['Poverty Change Normalized'],5,labels=False, duplicates='drop')\n",
    "data['GRP Quintile'] = pd.qcut(data['GRP Normalized'],5,labels=False, duplicates='drop')\n",
    "data['GRP Change Quintile'] = pd.qcut(data['GRP Change Normalized'],5,labels=False, duplicates='drop')\n",
    "data['Ed. Attainment Quintile'] = pd.qcut(data['Ed. Attainment Normalized'],5,labels=False, duplicates='drop')\n",
    "data['Ed. Attainment Change Quintile'] = pd.qcut(data['Ed. Attainment Change Normalized'],5,labels=False, duplicates='drop')\n",
    "data['Pre-K Enroll Quintile'] = pd.qcut(data['Pre-K Enroll Normalized'],5,labels=False, duplicates='drop')\n",
    "data['Insurance Quintile'] = pd.qcut(data['Insurance Normalized'],5,labels=False, duplicates='drop')\n",
    "data['Doctors Quintile'] = pd.qcut(data['Doctors Normalized'],5,labels=False, duplicates='drop')\n",
    "# data['Prison Quintile'] = pd.qcut(data['Prison Normalized'],5,labels=False, duplicates='drop')\n",
    "data['Unemployment Quintile'] = pd.qcut(data['Unemployment Normalized'],5,labels=False, duplicates='drop')\n",
    "data['HS Grad Rate Quintile'] = pd.qcut(data['HS Grad Rate Normalized'],5,labels=False, duplicates='drop')\n",
    "data['Life Expectancy Quintile'] = pd.qcut(data['Life Expectancy Normalized'],5,labels=False, duplicates='drop')\n",
    "data['Population Change Quintile'] = pd.qcut(data['Population Change Normalized'],5,labels=False, duplicates='drop')\n",
    "data['Labor Force Participation Quintile'] = pd.qcut(data['Labor Force Participation Normalized'],5,labels=False, duplicates='drop')"
   ]
  },
  {
   "cell_type": "code",
   "execution_count": 172,
   "metadata": {},
   "outputs": [],
   "source": [
    "# reformat this into two dataframes for simplicity - one with the stats and one with the actuals\n",
    "dataActuals = data.iloc[:,np.r_[0:19]]\n",
    "dataStats = data.iloc[:,np.r_[0:2,19:51]]\n",
    "# reorganize dataStats for better readability386372"
   ]
  },
  {
   "cell_type": "code",
   "execution_count": 173,
   "metadata": {},
   "outputs": [],
   "source": [
    "dataStats = dataStats[['FIPS','County',\n",
    "                       'Opportunity Youth Normalized','Opportunity Youth Quintile',\n",
    "                       'Housing Normalized','Housing Quintile',\n",
    "                       'Poverty Normalized','Poverty Quintile',\n",
    "                       'Poverty Change Normalized','Poverty Change Quintile',\n",
    "                       'GRP Normalized','GRP Quintile','GRP Change Normalized','GRP Change Quintile',\n",
    "                       'Ed. Attainment Normalized','Ed. Attainment Quintile',\n",
    "                       'Ed. Attainment Change Normalized','Ed. Attainment Change Quintile',\n",
    "                       'Pre-K Enroll Normalized','Pre-K Enroll Quintile',\n",
    "                       'Insurance Normalized','Insurance Quintile',\n",
    "                       'Doctors Normalized','Doctors Quintile',\n",
    "                       'Unemployment Normalized','Unemployment Quintile',\n",
    "                       'HS Grad Rate Normalized','HS Grad Rate Quintile',\n",
    "                       'Life Expectancy Normalized', 'Life Expectancy Quintile',\n",
    "                       'Population Change Normalized','Population Change Quintile',\n",
    "                       'Labor Force Participation Normalized','Labor Force Participation Quintile']]"
   ]
  },
  {
   "cell_type": "code",
   "execution_count": null,
   "metadata": {},
   "outputs": [],
   "source": []
  },
  {
   "cell_type": "code",
   "execution_count": 174,
   "metadata": {},
   "outputs": [
    {
     "name": "stderr",
     "output_type": "stream",
     "text": [
      "/Users/mmainza/opt/anaconda3/lib/python3.7/site-packages/ipykernel_launcher.py:10: SettingWithCopyWarning: \n",
      "A value is trying to be set on a copy of a slice from a DataFrame.\n",
      "Try using .loc[row_indexer,col_indexer] = value instead\n",
      "\n",
      "See the caveats in the documentation: https://pandas.pydata.org/pandas-docs/stable/user_guide/indexing.html#returning-a-view-versus-a-copy\n",
      "  # Remove the CWD from sys.path while we load stuff.\n",
      "/Users/mmainza/opt/anaconda3/lib/python3.7/site-packages/ipykernel_launcher.py:11: SettingWithCopyWarning: \n",
      "A value is trying to be set on a copy of a slice from a DataFrame.\n",
      "Try using .loc[row_indexer,col_indexer] = value instead\n",
      "\n",
      "See the caveats in the documentation: https://pandas.pydata.org/pandas-docs/stable/user_guide/indexing.html#returning-a-view-versus-a-copy\n",
      "  # This is added back by InteractiveShellApp.init_path()\n",
      "/Users/mmainza/opt/anaconda3/lib/python3.7/site-packages/ipykernel_launcher.py:12: SettingWithCopyWarning: \n",
      "A value is trying to be set on a copy of a slice from a DataFrame.\n",
      "Try using .loc[row_indexer,col_indexer] = value instead\n",
      "\n",
      "See the caveats in the documentation: https://pandas.pydata.org/pandas-docs/stable/user_guide/indexing.html#returning-a-view-versus-a-copy\n",
      "  if sys.path[0] == '':\n",
      "/Users/mmainza/opt/anaconda3/lib/python3.7/site-packages/ipykernel_launcher.py:13: SettingWithCopyWarning: \n",
      "A value is trying to be set on a copy of a slice from a DataFrame.\n",
      "Try using .loc[row_indexer,col_indexer] = value instead\n",
      "\n",
      "See the caveats in the documentation: https://pandas.pydata.org/pandas-docs/stable/user_guide/indexing.html#returning-a-view-versus-a-copy\n",
      "  del sys.path[0]\n",
      "/Users/mmainza/opt/anaconda3/lib/python3.7/site-packages/ipykernel_launcher.py:15: SettingWithCopyWarning: \n",
      "A value is trying to be set on a copy of a slice from a DataFrame.\n",
      "Try using .loc[row_indexer,col_indexer] = value instead\n",
      "\n",
      "See the caveats in the documentation: https://pandas.pydata.org/pandas-docs/stable/user_guide/indexing.html#returning-a-view-versus-a-copy\n",
      "  from ipykernel import kernelapp as app\n",
      "/Users/mmainza/opt/anaconda3/lib/python3.7/site-packages/ipykernel_launcher.py:16: SettingWithCopyWarning: \n",
      "A value is trying to be set on a copy of a slice from a DataFrame.\n",
      "Try using .loc[row_indexer,col_indexer] = value instead\n",
      "\n",
      "See the caveats in the documentation: https://pandas.pydata.org/pandas-docs/stable/user_guide/indexing.html#returning-a-view-versus-a-copy\n",
      "  app.launch_new_instance()\n",
      "/Users/mmainza/opt/anaconda3/lib/python3.7/site-packages/ipykernel_launcher.py:17: SettingWithCopyWarning: \n",
      "A value is trying to be set on a copy of a slice from a DataFrame.\n",
      "Try using .loc[row_indexer,col_indexer] = value instead\n",
      "\n",
      "See the caveats in the documentation: https://pandas.pydata.org/pandas-docs/stable/user_guide/indexing.html#returning-a-view-versus-a-copy\n",
      "/Users/mmainza/opt/anaconda3/lib/python3.7/site-packages/ipykernel_launcher.py:18: SettingWithCopyWarning: \n",
      "A value is trying to be set on a copy of a slice from a DataFrame.\n",
      "Try using .loc[row_indexer,col_indexer] = value instead\n",
      "\n",
      "See the caveats in the documentation: https://pandas.pydata.org/pandas-docs/stable/user_guide/indexing.html#returning-a-view-versus-a-copy\n"
     ]
    }
   ],
   "source": [
    "# join dataStats with rural/non-rural identifier\n",
    "dRural = pd.read_excel('data/final/county-index-data.xlsx', sheet_name=\"counties\",usecols=\"C,D\")\n",
    "dRural = pd.merge(dataStats, dRural, how='left', on='FIPS')\n",
    "\n",
    "# split into two dataframes: rural/non-rural\n",
    "rural = dRural.loc[dRural['Rural'] == \"Y\"]\n",
    "nRural = dRural.loc[dRural['Rural'] == \"N\"]\n",
    "\n",
    "# create the category scores using different formulas\n",
    "nRural['Health'] = ( nRural['Insurance Normalized'] + nRural['Doctors Normalized'] + nRural['Life Expectancy Normalized'] ) / 3\n",
    "nRural['Education'] = ( (nRural['Pre-K Enroll Normalized']*0.1) + (nRural['HS Grad Rate Normalized']*0.45) + (nRural['Ed. Attainment Normalized']*0.45) )\n",
    "nRural['Economy'] = ( nRural['Labor Force Participation Normalized'] + nRural['Unemployment Normalized'] + nRural['Population Change Normalized'] + nRural['GRP Change Normalized'] ) / 4\n",
    "nRural['Opportunity'] = ( nRural['Poverty Normalized'] + nRural['Housing Normalized'] + nRural['Opportunity Youth Normalized'] ) / 3\n",
    "\n",
    "rural['Health'] = ( rural['Insurance Normalized'] + rural['Doctors Normalized'] + rural['Life Expectancy Normalized'] ) / 3\n",
    "rural['Education'] = ( (rural['Pre-K Enroll Normalized']*0.1) + (rural['HS Grad Rate Normalized']*0.45) + (rural['Ed. Attainment Normalized']*0.45) )\n",
    "rural['Economy'] = ( rural['Labor Force Participation Normalized'] + rural['Unemployment Normalized'] + rural['Population Change Normalized'] + rural['GRP Change Normalized'] ) / 4\n",
    "rural['Opportunity'] = ( (rural['Poverty Normalized']*0.45) + (rural['Housing Normalized']*0.45) + (rural['Opportunity Youth Normalized']*0.1) )\n",
    "\n",
    "# append frames back together as dataStats\n",
    "dfList = [ nRural, rural ]\n",
    "\n",
    "dataStats = pd.concat(dfList).reset_index(drop=True)\n",
    "\n",
    "dataStats.sort_values('Opportunity', inplace=True)"
   ]
  },
  {
   "cell_type": "code",
   "execution_count": 175,
   "metadata": {},
   "outputs": [],
   "source": [
    "# create one final score that is a weighted average of your subgroups\n",
    "dataStats['Composite'] = ( (dataStats['Health'] * 0.2) + \\\n",
    "                           (dataStats['Education'] * 0.30) + \\\n",
    "                           (dataStats['Economy'] * 0.30) + \\\n",
    "                           (dataStats['Opportunity'] * 0.2) )"
   ]
  },
  {
   "cell_type": "code",
   "execution_count": 176,
   "metadata": {},
   "outputs": [],
   "source": [
    "dataStats.sort_values('Composite', inplace=True)"
   ]
  },
  {
   "cell_type": "code",
   "execution_count": 177,
   "metadata": {},
   "outputs": [],
   "source": [
    "# now get a quintile for each dimension score and the composite score\n",
    "dataStats['Health Quintile'] = pd.qcut(dataStats['Health'],5,labels=False, duplicates='drop')\n",
    "dataStats['Education Quintile'] = pd.qcut(dataStats['Education'],5,labels=False, duplicates='drop')\n",
    "dataStats['Economy Quintile'] = pd.qcut(dataStats['Economy'],5,labels=False, duplicates='drop')\n",
    "dataStats['Opportunity Quintile'] = pd.qcut(dataStats['Opportunity'],5,labels=False, duplicates='drop')\n",
    "# dataStats['Crime Quintile'] = pd.qcut(dataStats['Crime'],5,labels=False, duplicates='drop')\n",
    "dataStats['Composite Quintile'] = pd.qcut(dataStats['Composite'],5,labels=False, duplicates='drop')\n",
    "\n",
    "# also do quartiles\n",
    "dataStats['Health Quartile'] = pd.qcut(dataStats['Health'],4,labels=False, duplicates='drop')\n",
    "dataStats['Education Quartile'] = pd.qcut(dataStats['Education'],4,labels=False, duplicates='drop')\n",
    "dataStats['Economy Quartile'] = pd.qcut(dataStats['Economy'],4,labels=False, duplicates='drop')\n",
    "dataStats['Opportunity Quartile'] = pd.qcut(dataStats['Opportunity'],4,labels=False, duplicates='drop')\n",
    "# dataStats['Crime Quartile'] = pd.qcut(dataStats['Crime'],4,labels=False, duplicates='drop')\n",
    "dataStats['Composite Quartile'] = pd.qcut(dataStats['Composite'],4,labels=False, duplicates='drop')"
   ]
  },
  {
   "cell_type": "code",
   "execution_count": 47,
   "metadata": {},
   "outputs": [],
   "source": [
    "# get state and national scores for these things to allow comparisons\n",
    "# the union will have to be on metric name and year, so we just need stacked\n",
    "# just start with opportunity indicators\n",
    "\n",
    "statePov = pd.read_excel('data/opportunity-index-2018.xlsx', sheet_name='States', skiprows=2, usecols=\"A,B,AT:BD\")\n",
    "statePov = statePov.loc[statePov['State'] == \"Georgia\"]\n",
    "\n",
    "statePov.rename(columns={ '2019 Poverty (% of population below the poverty line)' : '2019 Poverty Rate',\n",
    "                         '2018 Poverty (% of population below the poverty line)' : '2018 Poverty Rate',\n",
    "                         '2017 Poverty (% of population below the poverty line)' : '2017 Poverty Rate',\n",
    "                         '2016 Poverty (% of population below the poverty line)' : '2016 Poverty Rate',\n",
    "                         '2015 Poverty (% of population below the poverty line)' : '2015 Poverty Rate',\n",
    "                         '2014 Poverty (% of population below the poverty line)' : '2014 Poverty Rate',\n",
    "                         '2013 Poverty (% of population below the poverty line)' : '2013 Poverty Rate',\n",
    "                         '2012 Poverty (% of population below the poverty line)' : '2012 Poverty Rate',\n",
    "                         '2011 Poverty (% of population below the poverty line)' : '2011 Poverty Rate',\n",
    "                         '% Change Poverty (2018-2019)'                          : 'Change % in Poverty From 2018',\n",
    "                         '% Change Poverty (2011-2019)'                          : 'Change % in Poverty From 2011',}, inplace=True)\n",
    "\n",
    "statePov = statePov.melt(['FIPS','State'], var_name='Metric', value_name='Measure')\n",
    "\n",
    "statePov['Indicator'] = \"Opportunity\""
   ]
  },
  {
   "cell_type": "code",
   "execution_count": 48,
   "metadata": {},
   "outputs": [],
   "source": [
    "# now with crime\n",
    "stateYouth = pd.read_excel('data/opportunity-index-2018.xlsx', sheet_name='States', skiprows=2, usecols=\"A,B,GN:GV\")\n",
    "stateYouth = stateYouth.loc[stateYouth['State'] == \"Georgia\"]\n",
    "\n",
    "stateYouth.rename(columns={ '2019 Youth (16-24) Not In School and Not Working (%)' : '2019 % Opportunity Youth',\n",
    "                       '2018 Youth (16-24) Not In School and Not Working (%)' : '2018 % Opportunity Youth',\n",
    "                       '2017 Youth (16-24) Not In School and Not Working (%)' : '2017 % Opportunity Youth',\n",
    "                       '2016 Youth (16-24) Not In School and Not Working (%)' : '2016 % Opportunity Youth',\n",
    "                       '2015 Youth (16-24) Not In School and Not Working (%)' : '2015 % Opportunity Youth',\n",
    "                       '2014 Youth (16-24) Not In School and Not Working (%)' : '2014 % Opportunity Youth',\n",
    "                       '2013 Youth (16-24) Not In School and Not Working (%)' : '2013 % Opportunity Youth',\n",
    "                       '2012 Youth (16-24) Not In School and Not Working (%)' : '2012 % Opportunity Youth',\n",
    "                       '2011 Youth (16-24) Not In School and Not Working (%)' : '2011 % Opportunity Youth',}, inplace=True)\n",
    "stateYouth.reset_index(drop=True, inplace=True)\n",
    "stateYouth = stateYouth.melt(['FIPS','State'], var_name='Metric', value_name='Measure')\n",
    "\n",
    "stateYouth['Indicator'] = \"Opportunity\""
   ]
  },
  {
   "cell_type": "code",
   "execution_count": 49,
   "metadata": {},
   "outputs": [],
   "source": [
    "# now with crime\n",
    "stateHousing = pd.read_excel('data/opportunity-index-2018.xlsx', sheet_name='States', skiprows=2, usecols=\"A,B,CF:CN\")\n",
    "stateHousing = stateHousing.loc[stateHousing['State'] == \"Georgia\"]\n",
    "\n",
    "stateHousing.reset_index(drop=True, inplace=True)\n",
    "\n",
    "stateHousing = stateHousing.melt(['FIPS','State'], var_name='Metric', value_name='Measure')\n",
    "\n",
    "stateHousing['Indicator'] = \"Opportunity\""
   ]
  },
  {
   "cell_type": "code",
   "execution_count": 50,
   "metadata": {},
   "outputs": [],
   "source": [
    "stateStacks = [stateHousing,stateYouth,statePov]\n",
    "\n",
    "stateStacked = pd.concat(stateStacks).reset_index(drop=True)"
   ]
  },
  {
   "cell_type": "code",
   "execution_count": 51,
   "metadata": {},
   "outputs": [],
   "source": [
    "stateStacked['Year'] = stateStacked['Metric'].apply(lambda x: x.split()[0])"
   ]
  },
  {
   "cell_type": "code",
   "execution_count": 52,
   "metadata": {},
   "outputs": [],
   "source": [
    "# concat stateStacked onto county stacked\n",
    "# change column names to be more ambiguous\n",
    "# export as a single stacked file"
   ]
  },
  {
   "cell_type": "code",
   "execution_count": 178,
   "metadata": {},
   "outputs": [],
   "source": [
    "regions = pd.read_excel('data/final/county-index-dataTest.xlsx', sheet_name=\"counties\", usecols='A,C')\n",
    "\n",
    "dataStacked = pd.merge(dataStacked, regions, how='left', on='FIPS')\n",
    "dataStats = pd.merge(dataStats, regions, how='left', on='FIPS')\n",
    "dataFlat = pd.merge(dataFlat, regions, how='left', on='FIPS')\n",
    "dataActuals = pd.merge(dataActuals, regions, how='left', on='FIPS')"
   ]
  },
  {
   "cell_type": "code",
   "execution_count": 179,
   "metadata": {},
   "outputs": [],
   "source": [
    "# old files to write into the final workbook\n",
    "counties = pd.read_excel('data/final/county-index-data.xlsx', sheet_name='counties')\n",
    "metrics = pd.read_excel('data/final/county-index-data.xlsx', sheet_name='metrics')"
   ]
  },
  {
   "cell_type": "code",
   "execution_count": 180,
   "metadata": {},
   "outputs": [],
   "source": [
    "# write out the files\n",
    "writer = pd.ExcelWriter('data/final/county-index-dataTest.xlsx')\n",
    "dataStacked.to_excel(writer,'stacked', index=False)\n",
    "# stateStacked.to_excel(writer,'stacked-state', index=False)\n",
    "dataFlat.to_excel(writer,'flat', index=False)\n",
    "dataActuals.to_excel(writer,'actuals', index=False)\n",
    "dataStats.to_excel(writer,'stats', index=False)\n",
    "counties.to_excel(writer,'counties', index=False)\n",
    "metrics.to_excel(writer,'metrics',index=False)\n",
    "writer.save()"
   ]
  },
  {
   "cell_type": "code",
   "execution_count": 181,
   "metadata": {},
   "outputs": [],
   "source": [
    "scores = pd.read_excel('data/final/scoresTable.xlsx')"
   ]
  },
  {
   "cell_type": "code",
   "execution_count": 182,
   "metadata": {},
   "outputs": [],
   "source": [
    "scores.Composite = scores.Composite.round(1)\n",
    "scores.Economy = scores.Economy.round(1)\n",
    "scores.Education = scores.Education.round(1)\n",
    "scores.Health = scores.Health.round(1)\n",
    "scores.Opportunity = scores.Opportunity.round(1)"
   ]
  },
  {
   "cell_type": "code",
   "execution_count": 183,
   "metadata": {},
   "outputs": [],
   "source": [
    "statTemp = dataStats[['County','Health Quintile','Education Quintile','Economy Quintile','Opportunity Quintile','Composite Quintile']]"
   ]
  },
  {
   "cell_type": "code",
   "execution_count": 184,
   "metadata": {},
   "outputs": [],
   "source": [
    "scores = pd.merge(scores, statTemp, how='left', on='County')"
   ]
  },
  {
   "cell_type": "code",
   "execution_count": 185,
   "metadata": {},
   "outputs": [
    {
     "data": {
      "text/plain": [
       "(159, 11)"
      ]
     },
     "execution_count": 185,
     "metadata": {},
     "output_type": "execute_result"
    }
   ],
   "source": [
    "scores.shape"
   ]
  },
  {
   "cell_type": "code",
   "execution_count": 186,
   "metadata": {},
   "outputs": [],
   "source": [
    "scores['Health Quintile'] = scores['Health Quintile'] + 1\n",
    "scores['Education Quintile'] = scores['Education Quintile'] + 1\n",
    "scores['Economy Quintile'] = scores['Economy Quintile'] + 1\n",
    "scores['Opportunity Quintile'] = scores['Opportunity Quintile'] + 1\n",
    "scores['Composite Quintile'] = scores['Composite Quintile'] + 1"
   ]
  },
  {
   "cell_type": "code",
   "execution_count": 187,
   "metadata": {},
   "outputs": [],
   "source": [
    "scores.rename(columns={'Health Quintile'      : 'HealthQ',\n",
    "                       'Education Quintile'   : 'EduQ',\n",
    "                       'Economy Quintile'     : 'EconQ',\n",
    "                       'Opportunity Quintile' : 'OppQ',\n",
    "                       'Composite Quintile'   : 'CompQ'}, inplace=True)"
   ]
  },
  {
   "cell_type": "code",
   "execution_count": 188,
   "metadata": {},
   "outputs": [
    {
     "data": {
      "text/html": [
       "<div>\n",
       "<style scoped>\n",
       "    .dataframe tbody tr th:only-of-type {\n",
       "        vertical-align: middle;\n",
       "    }\n",
       "\n",
       "    .dataframe tbody tr th {\n",
       "        vertical-align: top;\n",
       "    }\n",
       "\n",
       "    .dataframe thead th {\n",
       "        text-align: right;\n",
       "    }\n",
       "</style>\n",
       "<table border=\"1\" class=\"dataframe\">\n",
       "  <thead>\n",
       "    <tr style=\"text-align: right;\">\n",
       "      <th></th>\n",
       "      <th>County</th>\n",
       "      <th>Composite</th>\n",
       "      <th>Economy</th>\n",
       "      <th>Education</th>\n",
       "      <th>Health</th>\n",
       "      <th>Opportunity</th>\n",
       "      <th>HealthQ</th>\n",
       "      <th>EduQ</th>\n",
       "      <th>EconQ</th>\n",
       "      <th>OppQ</th>\n",
       "      <th>CompQ</th>\n",
       "    </tr>\n",
       "  </thead>\n",
       "  <tbody>\n",
       "    <tr>\n",
       "      <th>0</th>\n",
       "      <td>Appling County</td>\n",
       "      <td>49.6</td>\n",
       "      <td>47.3</td>\n",
       "      <td>46.1</td>\n",
       "      <td>36.7</td>\n",
       "      <td>71.0</td>\n",
       "      <td>2</td>\n",
       "      <td>2</td>\n",
       "      <td>3</td>\n",
       "      <td>4</td>\n",
       "      <td>3</td>\n",
       "    </tr>\n",
       "    <tr>\n",
       "      <th>1</th>\n",
       "      <td>Atkinson County</td>\n",
       "      <td>44.4</td>\n",
       "      <td>56.1</td>\n",
       "      <td>48.1</td>\n",
       "      <td>9.2</td>\n",
       "      <td>56.4</td>\n",
       "      <td>1</td>\n",
       "      <td>3</td>\n",
       "      <td>4</td>\n",
       "      <td>1</td>\n",
       "      <td>2</td>\n",
       "    </tr>\n",
       "    <tr>\n",
       "      <th>2</th>\n",
       "      <td>Bacon County</td>\n",
       "      <td>46.7</td>\n",
       "      <td>48.9</td>\n",
       "      <td>45.2</td>\n",
       "      <td>28.6</td>\n",
       "      <td>64.0</td>\n",
       "      <td>1</td>\n",
       "      <td>2</td>\n",
       "      <td>3</td>\n",
       "      <td>2</td>\n",
       "      <td>2</td>\n",
       "    </tr>\n",
       "    <tr>\n",
       "      <th>3</th>\n",
       "      <td>Baker County</td>\n",
       "      <td>41.6</td>\n",
       "      <td>32.6</td>\n",
       "      <td>39.7</td>\n",
       "      <td>34.3</td>\n",
       "      <td>65.4</td>\n",
       "      <td>2</td>\n",
       "      <td>2</td>\n",
       "      <td>1</td>\n",
       "      <td>3</td>\n",
       "      <td>1</td>\n",
       "    </tr>\n",
       "    <tr>\n",
       "      <th>4</th>\n",
       "      <td>Baldwin County</td>\n",
       "      <td>49.3</td>\n",
       "      <td>44.7</td>\n",
       "      <td>46.3</td>\n",
       "      <td>48.3</td>\n",
       "      <td>62.0</td>\n",
       "      <td>4</td>\n",
       "      <td>3</td>\n",
       "      <td>2</td>\n",
       "      <td>2</td>\n",
       "      <td>3</td>\n",
       "    </tr>\n",
       "  </tbody>\n",
       "</table>\n",
       "</div>"
      ],
      "text/plain": [
       "            County  Composite  Economy  Education  Health  Opportunity  \\\n",
       "0   Appling County       49.6     47.3       46.1    36.7         71.0   \n",
       "1  Atkinson County       44.4     56.1       48.1     9.2         56.4   \n",
       "2     Bacon County       46.7     48.9       45.2    28.6         64.0   \n",
       "3     Baker County       41.6     32.6       39.7    34.3         65.4   \n",
       "4   Baldwin County       49.3     44.7       46.3    48.3         62.0   \n",
       "\n",
       "   HealthQ  EduQ  EconQ  OppQ  CompQ  \n",
       "0        2     2      3     4      3  \n",
       "1        1     3      4     1      2  \n",
       "2        1     2      3     2      2  \n",
       "3        2     2      1     3      1  \n",
       "4        4     3      2     2      3  "
      ]
     },
     "execution_count": 188,
     "metadata": {},
     "output_type": "execute_result"
    }
   ],
   "source": [
    "scoresJson = scores\n",
    "scoresJson.head()"
   ]
  },
  {
   "cell_type": "code",
   "execution_count": 189,
   "metadata": {},
   "outputs": [],
   "source": [
    "scores = pd.melt(scores, id_vars=['County'],\n",
    "                 value_vars=['Composite','Economy','Education','Health','Opportunity','HealthQ','EduQ','EconQ','OppQ','CompQ'],\n",
    "                 var_name='Category', value_name='Score')"
   ]
  },
  {
   "cell_type": "code",
   "execution_count": 190,
   "metadata": {},
   "outputs": [],
   "source": [
    "scores.sort_values(['County','Category'], inplace=True)"
   ]
  },
  {
   "cell_type": "code",
   "execution_count": 191,
   "metadata": {},
   "outputs": [],
   "source": [
    "scores.reset_index(drop=True, inplace=True)"
   ]
  },
  {
   "cell_type": "code",
   "execution_count": 192,
   "metadata": {},
   "outputs": [],
   "source": [
    "scores.Score = scores.Score.round(1)"
   ]
  },
  {
   "cell_type": "code",
   "execution_count": 193,
   "metadata": {},
   "outputs": [
    {
     "data": {
      "text/html": [
       "<div>\n",
       "<style scoped>\n",
       "    .dataframe tbody tr th:only-of-type {\n",
       "        vertical-align: middle;\n",
       "    }\n",
       "\n",
       "    .dataframe tbody tr th {\n",
       "        vertical-align: top;\n",
       "    }\n",
       "\n",
       "    .dataframe thead th {\n",
       "        text-align: right;\n",
       "    }\n",
       "</style>\n",
       "<table border=\"1\" class=\"dataframe\">\n",
       "  <thead>\n",
       "    <tr style=\"text-align: right;\">\n",
       "      <th></th>\n",
       "      <th>County</th>\n",
       "      <th>Category</th>\n",
       "      <th>Score</th>\n",
       "    </tr>\n",
       "  </thead>\n",
       "  <tbody>\n",
       "    <tr>\n",
       "      <th>0</th>\n",
       "      <td>Appling County</td>\n",
       "      <td>CompQ</td>\n",
       "      <td>3.0</td>\n",
       "    </tr>\n",
       "    <tr>\n",
       "      <th>1</th>\n",
       "      <td>Appling County</td>\n",
       "      <td>Composite</td>\n",
       "      <td>49.6</td>\n",
       "    </tr>\n",
       "    <tr>\n",
       "      <th>2</th>\n",
       "      <td>Appling County</td>\n",
       "      <td>EconQ</td>\n",
       "      <td>3.0</td>\n",
       "    </tr>\n",
       "    <tr>\n",
       "      <th>3</th>\n",
       "      <td>Appling County</td>\n",
       "      <td>Economy</td>\n",
       "      <td>47.3</td>\n",
       "    </tr>\n",
       "    <tr>\n",
       "      <th>4</th>\n",
       "      <td>Appling County</td>\n",
       "      <td>EduQ</td>\n",
       "      <td>2.0</td>\n",
       "    </tr>\n",
       "  </tbody>\n",
       "</table>\n",
       "</div>"
      ],
      "text/plain": [
       "           County   Category  Score\n",
       "0  Appling County      CompQ    3.0\n",
       "1  Appling County  Composite   49.6\n",
       "2  Appling County      EconQ    3.0\n",
       "3  Appling County    Economy   47.3\n",
       "4  Appling County       EduQ    2.0"
      ]
     },
     "execution_count": 193,
     "metadata": {},
     "output_type": "execute_result"
    }
   ],
   "source": [
    "scores.head()"
   ]
  },
  {
   "cell_type": "code",
   "execution_count": 194,
   "metadata": {},
   "outputs": [],
   "source": [
    "scores.to_csv('data/final/scoresTable.csv', index=False)"
   ]
  },
  {
   "cell_type": "code",
   "execution_count": 195,
   "metadata": {},
   "outputs": [],
   "source": [
    "scoresJson.set_index('County', inplace=True)"
   ]
  },
  {
   "cell_type": "code",
   "execution_count": 196,
   "metadata": {},
   "outputs": [
    {
     "data": {
      "text/html": [
       "<div>\n",
       "<style scoped>\n",
       "    .dataframe tbody tr th:only-of-type {\n",
       "        vertical-align: middle;\n",
       "    }\n",
       "\n",
       "    .dataframe tbody tr th {\n",
       "        vertical-align: top;\n",
       "    }\n",
       "\n",
       "    .dataframe thead th {\n",
       "        text-align: right;\n",
       "    }\n",
       "</style>\n",
       "<table border=\"1\" class=\"dataframe\">\n",
       "  <thead>\n",
       "    <tr style=\"text-align: right;\">\n",
       "      <th></th>\n",
       "      <th>Composite</th>\n",
       "      <th>Economy</th>\n",
       "      <th>Education</th>\n",
       "      <th>Health</th>\n",
       "      <th>Opportunity</th>\n",
       "      <th>HealthQ</th>\n",
       "      <th>EduQ</th>\n",
       "      <th>EconQ</th>\n",
       "      <th>OppQ</th>\n",
       "      <th>CompQ</th>\n",
       "    </tr>\n",
       "    <tr>\n",
       "      <th>County</th>\n",
       "      <th></th>\n",
       "      <th></th>\n",
       "      <th></th>\n",
       "      <th></th>\n",
       "      <th></th>\n",
       "      <th></th>\n",
       "      <th></th>\n",
       "      <th></th>\n",
       "      <th></th>\n",
       "      <th></th>\n",
       "    </tr>\n",
       "  </thead>\n",
       "  <tbody>\n",
       "    <tr>\n",
       "      <th>Appling County</th>\n",
       "      <td>49.6</td>\n",
       "      <td>47.3</td>\n",
       "      <td>46.1</td>\n",
       "      <td>36.7</td>\n",
       "      <td>71.0</td>\n",
       "      <td>2</td>\n",
       "      <td>2</td>\n",
       "      <td>3</td>\n",
       "      <td>4</td>\n",
       "      <td>3</td>\n",
       "    </tr>\n",
       "    <tr>\n",
       "      <th>Atkinson County</th>\n",
       "      <td>44.4</td>\n",
       "      <td>56.1</td>\n",
       "      <td>48.1</td>\n",
       "      <td>9.2</td>\n",
       "      <td>56.4</td>\n",
       "      <td>1</td>\n",
       "      <td>3</td>\n",
       "      <td>4</td>\n",
       "      <td>1</td>\n",
       "      <td>2</td>\n",
       "    </tr>\n",
       "    <tr>\n",
       "      <th>Bacon County</th>\n",
       "      <td>46.7</td>\n",
       "      <td>48.9</td>\n",
       "      <td>45.2</td>\n",
       "      <td>28.6</td>\n",
       "      <td>64.0</td>\n",
       "      <td>1</td>\n",
       "      <td>2</td>\n",
       "      <td>3</td>\n",
       "      <td>2</td>\n",
       "      <td>2</td>\n",
       "    </tr>\n",
       "    <tr>\n",
       "      <th>Baker County</th>\n",
       "      <td>41.6</td>\n",
       "      <td>32.6</td>\n",
       "      <td>39.7</td>\n",
       "      <td>34.3</td>\n",
       "      <td>65.4</td>\n",
       "      <td>2</td>\n",
       "      <td>2</td>\n",
       "      <td>1</td>\n",
       "      <td>3</td>\n",
       "      <td>1</td>\n",
       "    </tr>\n",
       "    <tr>\n",
       "      <th>Baldwin County</th>\n",
       "      <td>49.3</td>\n",
       "      <td>44.7</td>\n",
       "      <td>46.3</td>\n",
       "      <td>48.3</td>\n",
       "      <td>62.0</td>\n",
       "      <td>4</td>\n",
       "      <td>3</td>\n",
       "      <td>2</td>\n",
       "      <td>2</td>\n",
       "      <td>3</td>\n",
       "    </tr>\n",
       "  </tbody>\n",
       "</table>\n",
       "</div>"
      ],
      "text/plain": [
       "                 Composite  Economy  Education  Health  Opportunity  HealthQ  \\\n",
       "County                                                                         \n",
       "Appling County        49.6     47.3       46.1    36.7         71.0        2   \n",
       "Atkinson County       44.4     56.1       48.1     9.2         56.4        1   \n",
       "Bacon County          46.7     48.9       45.2    28.6         64.0        1   \n",
       "Baker County          41.6     32.6       39.7    34.3         65.4        2   \n",
       "Baldwin County        49.3     44.7       46.3    48.3         62.0        4   \n",
       "\n",
       "                 EduQ  EconQ  OppQ  CompQ  \n",
       "County                                     \n",
       "Appling County      2      3     4      3  \n",
       "Atkinson County     3      4     1      2  \n",
       "Bacon County        2      3     2      2  \n",
       "Baker County        2      1     3      1  \n",
       "Baldwin County      3      2     2      3  "
      ]
     },
     "execution_count": 196,
     "metadata": {},
     "output_type": "execute_result"
    }
   ],
   "source": [
    "scoresJson.head()"
   ]
  },
  {
   "cell_type": "code",
   "execution_count": null,
   "metadata": {},
   "outputs": [],
   "source": [
    "# add the quintiles each of these belong to for each component"
   ]
  },
  {
   "cell_type": "code",
   "execution_count": null,
   "metadata": {},
   "outputs": [],
   "source": []
  },
  {
   "cell_type": "code",
   "execution_count": 197,
   "metadata": {},
   "outputs": [
    {
     "data": {
      "text/plain": [
       "'{\"Appling County\":{\"Composite\":49.6,\"Economy\":47.3,\"Education\":46.1,\"Health\":36.7,\"Opportunity\":71.0,\"HealthQ\":2,\"EduQ\":2,\"EconQ\":3,\"OppQ\":4,\"CompQ\":3},\"Atkinson County\":{\"Composite\":44.4,\"Economy\":56.1,\"Education\":48.1,\"Health\":9.2,\"Opportunity\":56.4,\"HealthQ\":1,\"EduQ\":3,\"EconQ\":4,\"OppQ\":1,\"CompQ\":2},\"Bacon County\":{\"Composite\":46.7,\"Economy\":48.9,\"Education\":45.2,\"Health\":28.6,\"Opportunity\":64.0,\"HealthQ\":1,\"EduQ\":2,\"EconQ\":3,\"OppQ\":2,\"CompQ\":2},\"Baker County\":{\"Composite\":41.6,\"Economy\":32.6,\"Education\":39.7,\"Health\":34.3,\"Opportunity\":65.4,\"HealthQ\":2,\"EduQ\":2,\"EconQ\":1,\"OppQ\":3,\"CompQ\":1},\"Baldwin County\":{\"Composite\":49.3,\"Economy\":44.7,\"Education\":46.3,\"Health\":48.3,\"Opportunity\":62.0,\"HealthQ\":4,\"EduQ\":3,\"EconQ\":2,\"OppQ\":2,\"CompQ\":3},\"Banks County\":{\"Composite\":50.4,\"Economy\":55.9,\"Education\":35.1,\"Health\":33.9,\"Opportunity\":81.3,\"HealthQ\":2,\"EduQ\":1,\"EconQ\":4,\"OppQ\":5,\"CompQ\":3},\"Barrow County\":{\"Composite\":57.9,\"Economy\":74.4,\"Education\":40.4,\"Health\":39.3,\"Opportunity\":78.2,\"HealthQ\":3,\"EduQ\":2,\"EconQ\":5,\"OppQ\":5,\"CompQ\":4},\"Bartow County\":{\"Composite\":56.1,\"Economy\":56.7,\"Education\":48.7,\"Health\":46.2,\"Opportunity\":76.2,\"HealthQ\":4,\"EduQ\":3,\"EconQ\":4,\"OppQ\":4,\"CompQ\":4},\"Ben Hill County\":{\"Composite\":42.7,\"Economy\":38.7,\"Education\":45.1,\"Health\":32.0,\"Opportunity\":55.6,\"HealthQ\":2,\"EduQ\":2,\"EconQ\":1,\"OppQ\":1,\"CompQ\":1},\"Berrien County\":{\"Composite\":40.7,\"Economy\":37.4,\"Education\":39.5,\"Health\":17.5,\"Opportunity\":70.5,\"HealthQ\":1,\"EduQ\":1,\"EconQ\":1,\"OppQ\":4,\"CompQ\":1},\"Bibb County\":{\"Composite\":47.5,\"Economy\":48.6,\"Education\":31.6,\"Health\":59.8,\"Opportunity\":57.2,\"HealthQ\":5,\"EduQ\":1,\"EconQ\":3,\"OppQ\":1,\"CompQ\":2},\"Bleckley County\":{\"Composite\":55.1,\"Economy\":35.3,\"Education\":63.7,\"Health\":46.9,\"Opportunity\":80.0,\"HealthQ\":4,\"EduQ\":5,\"EconQ\":1,\"OppQ\":5,\"CompQ\":4},\"Brantley County\":{\"Composite\":46.6,\"Economy\":49.5,\"Education\":50.0,\"Health\":20.2,\"Opportunity\":63.4,\"HealthQ\":1,\"EduQ\":3,\"EconQ\":3,\"OppQ\":2,\"CompQ\":2},\"Brooks County\":{\"Composite\":47.0,\"Economy\":52.0,\"Education\":48.4,\"Health\":27.9,\"Opportunity\":56.4,\"HealthQ\":1,\"EduQ\":3,\"EconQ\":3,\"OppQ\":1,\"CompQ\":2},\"Bryan County\":{\"Composite\":71.4,\"Economy\":81.4,\"Education\":69.4,\"Health\":58.9,\"Opportunity\":72.0,\"HealthQ\":5,\"EduQ\":5,\"EconQ\":5,\"OppQ\":4,\"CompQ\":5},\"Bulloch County\":{\"Composite\":54.2,\"Economy\":58.3,\"Education\":47.9,\"Health\":51.1,\"Opportunity\":60.4,\"HealthQ\":4,\"EduQ\":3,\"EconQ\":4,\"OppQ\":2,\"CompQ\":4},\"Burke County\":{\"Composite\":50.3,\"Economy\":56.1,\"Education\":49.8,\"Health\":34.1,\"Opportunity\":58.6,\"HealthQ\":2,\"EduQ\":3,\"EconQ\":4,\"OppQ\":2,\"CompQ\":3},\"Butts County\":{\"Composite\":47.5,\"Economy\":54.6,\"Education\":36.7,\"Health\":36.2,\"Opportunity\":64.3,\"HealthQ\":2,\"EduQ\":1,\"EconQ\":4,\"OppQ\":3,\"CompQ\":2},\"Calhoun County\":{\"Composite\":44.0,\"Economy\":34.8,\"Education\":45.6,\"Health\":33.0,\"Opportunity\":66.4,\"HealthQ\":2,\"EduQ\":2,\"EconQ\":1,\"OppQ\":3,\"CompQ\":2},\"Camden County\":{\"Composite\":61.5,\"Economy\":58.4,\"Education\":63.0,\"Health\":52.7,\"Opportunity\":72.8,\"HealthQ\":5,\"EduQ\":5,\"EconQ\":4,\"OppQ\":4,\"CompQ\":5},\"Candler County\":{\"Composite\":46.9,\"Economy\":50.8,\"Education\":55.7,\"Health\":25.2,\"Opportunity\":49.5,\"HealthQ\":1,\"EduQ\":4,\"EconQ\":3,\"OppQ\":1,\"CompQ\":2},\"Carroll County\":{\"Composite\":59.0,\"Economy\":60.6,\"Education\":56.1,\"Health\":43.6,\"Opportunity\":76.4,\"HealthQ\":3,\"EduQ\":4,\"EconQ\":5,\"OppQ\":4,\"CompQ\":4},\"Catoosa County\":{\"Composite\":60.7,\"Economy\":58.7,\"Education\":52.2,\"Health\":52.7,\"Opportunity\":84.3,\"HealthQ\":5,\"EduQ\":4,\"EconQ\":4,\"OppQ\":5,\"CompQ\":5},\"Charlton County\":{\"Composite\":46.4,\"Economy\":40.4,\"Education\":40.0,\"Health\":41.7,\"Opportunity\":70.0,\"HealthQ\":3,\"EduQ\":2,\"EconQ\":1,\"OppQ\":3,\"CompQ\":2},\"Chatham County\":{\"Composite\":63.9,\"Economy\":63.8,\"Education\":60.2,\"Health\":60.1,\"Opportunity\":73.3,\"HealthQ\":5,\"EduQ\":5,\"EconQ\":5,\"OppQ\":4,\"CompQ\":5},\"Chattahoochee County\":{\"Composite\":56.5,\"Economy\":45.4,\"Education\":52.1,\"Health\":63.9,\"Opportunity\":72.5,\"HealthQ\":5,\"EduQ\":3,\"EconQ\":2,\"OppQ\":4,\"CompQ\":4},\"Chattooga County\":{\"Composite\":42.2,\"Economy\":37.5,\"Education\":39.4,\"Health\":23.2,\"Opportunity\":72.7,\"HealthQ\":1,\"EduQ\":1,\"EconQ\":1,\"OppQ\":4,\"CompQ\":1},\"Cherokee County\":{\"Composite\":71.8,\"Economy\":77.9,\"Education\":65.1,\"Health\":60.3,\"Opportunity\":83.9,\"HealthQ\":5,\"EduQ\":5,\"EconQ\":5,\"OppQ\":5,\"CompQ\":5},\"Clarke County\":{\"Composite\":56.6,\"Economy\":59.4,\"Education\":55.2,\"Health\":56.9,\"Opportunity\":54.4,\"HealthQ\":5,\"EduQ\":4,\"EconQ\":4,\"OppQ\":1,\"CompQ\":4},\"Clay County\":{\"Composite\":30.5,\"Economy\":28.5,\"Education\":36.6,\"Health\":19.2,\"Opportunity\":35.8,\"HealthQ\":1,\"EduQ\":1,\"EconQ\":1,\"OppQ\":1,\"CompQ\":1},\"Clayton County\":{\"Composite\":46.0,\"Economy\":61.5,\"Education\":27.2,\"Health\":30.7,\"Opportunity\":66.0,\"HealthQ\":1,\"EduQ\":1,\"EconQ\":5,\"OppQ\":3,\"CompQ\":2},\"Clinch County\":{\"Composite\":37.7,\"Economy\":48.0,\"Education\":41.8,\"Health\":14.1,\"Opportunity\":39.9,\"HealthQ\":1,\"EduQ\":2,\"EconQ\":3,\"OppQ\":1,\"CompQ\":1},\"Cobb County\":{\"Composite\":71.4,\"Economy\":71.0,\"Education\":68.0,\"Health\":66.0,\"Opportunity\":82.3,\"HealthQ\":5,\"EduQ\":5,\"EconQ\":5,\"OppQ\":5,\"CompQ\":5},\"Coffee County\":{\"Composite\":51.1,\"Economy\":50.4,\"Education\":50.0,\"Health\":30.3,\"Opportunity\":74.6,\"HealthQ\":1,\"EduQ\":3,\"EconQ\":3,\"OppQ\":4,\"CompQ\":3},\"Colquitt County\":{\"Composite\":43.9,\"Economy\":56.0,\"Education\":40.8,\"Health\":18.4,\"Opportunity\":55.9,\"HealthQ\":1,\"EduQ\":2,\"EconQ\":4,\"OppQ\":1,\"CompQ\":2},\"Columbia County\":{\"Composite\":77.4,\"Economy\":73.9,\"Education\":68.6,\"Health\":84.2,\"Opportunity\":88.9,\"HealthQ\":5,\"EduQ\":5,\"EconQ\":5,\"OppQ\":5,\"CompQ\":5},\"Cook County\":{\"Composite\":51.3,\"Economy\":51.6,\"Education\":54.3,\"Health\":34.3,\"Opportunity\":63.2,\"HealthQ\":2,\"EduQ\":4,\"EconQ\":3,\"OppQ\":2,\"CompQ\":3},\"Coweta County\":{\"Composite\":66.9,\"Economy\":70.0,\"Education\":61.2,\"Health\":62.1,\"Opportunity\":75.4,\"HealthQ\":5,\"EduQ\":5,\"EconQ\":5,\"OppQ\":4,\"CompQ\":5},\"Crawford County\":{\"Composite\":40.2,\"Economy\":43.1,\"Education\":18.7,\"Health\":38.4,\"Opportunity\":69.9,\"HealthQ\":2,\"EduQ\":1,\"EconQ\":2,\"OppQ\":3,\"CompQ\":1},\"Crisp County\":{\"Composite\":50.2,\"Economy\":53.6,\"Education\":49.0,\"Health\":46.3,\"Opportunity\":50.6,\"HealthQ\":4,\"EduQ\":3,\"EconQ\":4,\"OppQ\":1,\"CompQ\":3},\"Dade County\":{\"Composite\":54.5,\"Economy\":52.4,\"Education\":44.2,\"Health\":40.9,\"Opportunity\":86.4,\"HealthQ\":3,\"EduQ\":2,\"EconQ\":3,\"OppQ\":5,\"CompQ\":4},\"Dawson County\":{\"Composite\":70.3,\"Economy\":66.7,\"Education\":70.4,\"Health\":58.2,\"Opportunity\":87.5,\"HealthQ\":5,\"EduQ\":5,\"EconQ\":5,\"OppQ\":5,\"CompQ\":5},\"Decatur County\":{\"Composite\":46.3,\"Economy\":45.4,\"Education\":46.1,\"Health\":31.9,\"Opportunity\":62.4,\"HealthQ\":1,\"EduQ\":2,\"EconQ\":2,\"OppQ\":2,\"CompQ\":2},\"DeKalb County\":{\"Composite\":61.0,\"Economy\":62.8,\"Education\":47.3,\"Health\":69.9,\"Opportunity\":70.0,\"HealthQ\":5,\"EduQ\":3,\"EconQ\":5,\"OppQ\":4,\"CompQ\":5},\"Dodge County\":{\"Composite\":50.3,\"Economy\":35.3,\"Education\":56.3,\"Health\":45.3,\"Opportunity\":68.8,\"HealthQ\":3,\"EduQ\":4,\"EconQ\":1,\"OppQ\":3,\"CompQ\":3},\"Dooly County\":{\"Composite\":49.4,\"Economy\":48.9,\"Education\":41.9,\"Health\":43.1,\"Opportunity\":67.7,\"HealthQ\":3,\"EduQ\":2,\"EconQ\":3,\"OppQ\":3,\"CompQ\":3},\"Dougherty County\":{\"Composite\":44.6,\"Economy\":42.2,\"Education\":40.6,\"Health\":42.7,\"Opportunity\":55.9,\"HealthQ\":3,\"EduQ\":2,\"EconQ\":2,\"OppQ\":1,\"CompQ\":2},\"Douglas County\":{\"Composite\":61.2,\"Economy\":66.4,\"Education\":53.8,\"Health\":48.4,\"Opportunity\":77.1,\"HealthQ\":4,\"EduQ\":4,\"EconQ\":5,\"OppQ\":4,\"CompQ\":5},\"Early County\":{\"Composite\":47.1,\"Economy\":46.2,\"Education\":43.5,\"Health\":35.3,\"Opportunity\":65.5,\"HealthQ\":2,\"EduQ\":2,\"EconQ\":2,\"OppQ\":3,\"CompQ\":2},\"Echols County\":{\"Composite\":45.9,\"Economy\":45.2,\"Education\":44.8,\"Health\":34.2,\"Opportunity\":60.3,\"HealthQ\":2,\"EduQ\":2,\"EconQ\":2,\"OppQ\":2,\"CompQ\":2},\"Effingham County\":{\"Composite\":62.1,\"Economy\":69.4,\"Education\":52.5,\"Health\":46.7,\"Opportunity\":81.1,\"HealthQ\":4,\"EduQ\":4,\"EconQ\":5,\"OppQ\":5,\"CompQ\":5},\"Elbert County\":{\"Composite\":47.0,\"Economy\":43.8,\"Education\":37.2,\"Health\":41.4,\"Opportunity\":72.2,\"HealthQ\":3,\"EduQ\":1,\"EconQ\":2,\"OppQ\":4,\"CompQ\":2},\"Emanuel County\":{\"Composite\":41.9,\"Economy\":45.8,\"Education\":34.6,\"Health\":24.2,\"Opportunity\":65.0,\"HealthQ\":1,\"EduQ\":1,\"EconQ\":2,\"OppQ\":3,\"CompQ\":1},\"Evans County\":{\"Composite\":48.0,\"Economy\":50.6,\"Education\":40.0,\"Health\":37.4,\"Opportunity\":66.7,\"HealthQ\":2,\"EduQ\":2,\"EconQ\":3,\"OppQ\":3,\"CompQ\":2},\"Fannin County\":{\"Composite\":61.1,\"Economy\":58.1,\"Education\":58.6,\"Health\":52.6,\"Opportunity\":77.7,\"HealthQ\":4,\"EduQ\":5,\"EconQ\":4,\"OppQ\":4,\"CompQ\":5},\"Fayette County\":{\"Composite\":77.2,\"Economy\":63.6,\"Education\":74.9,\"Health\":90.2,\"Opportunity\":88.0,\"HealthQ\":5,\"EduQ\":5,\"EconQ\":5,\"OppQ\":5,\"CompQ\":5},\"Floyd County\":{\"Composite\":58.7,\"Economy\":50.5,\"Education\":57.1,\"Health\":63.1,\"Opportunity\":68.9,\"HealthQ\":5,\"EduQ\":4,\"EconQ\":3,\"OppQ\":3,\"CompQ\":4},\"Forsyth County\":{\"Composite\":82.8,\"Economy\":83.4,\"Education\":86.4,\"Health\":70.6,\"Opportunity\":88.7,\"HealthQ\":5,\"EduQ\":5,\"EconQ\":5,\"OppQ\":5,\"CompQ\":5},\"Franklin County\":{\"Composite\":49.0,\"Economy\":54.6,\"Education\":47.8,\"Health\":26.9,\"Opportunity\":64.8,\"HealthQ\":1,\"EduQ\":3,\"EconQ\":4,\"OppQ\":3,\"CompQ\":3},\"Fulton County\":{\"Composite\":70.8,\"Economy\":67.9,\"Education\":68.0,\"Health\":75.0,\"Opportunity\":74.8,\"HealthQ\":5,\"EduQ\":5,\"EconQ\":5,\"OppQ\":4,\"CompQ\":5},\"Gilmer County\":{\"Composite\":53.5,\"Economy\":54.9,\"Education\":48.1,\"Health\":38.0,\"Opportunity\":75.1,\"HealthQ\":2,\"EduQ\":3,\"EconQ\":4,\"OppQ\":4,\"CompQ\":4},\"Glascock County\":{\"Composite\":51.2,\"Economy\":48.5,\"Education\":46.5,\"Health\":41.2,\"Opportunity\":72.5,\"HealthQ\":3,\"EduQ\":3,\"EconQ\":3,\"OppQ\":4,\"CompQ\":3},\"Glynn County\":{\"Composite\":59.8,\"Economy\":57.4,\"Education\":64.4,\"Health\":48.1,\"Opportunity\":68.1,\"HealthQ\":4,\"EduQ\":5,\"EconQ\":4,\"OppQ\":3,\"CompQ\":4},\"Gordon County\":{\"Composite\":56.1,\"Economy\":57.1,\"Education\":55.6,\"Health\":40.5,\"Opportunity\":71.1,\"HealthQ\":3,\"EduQ\":4,\"EconQ\":4,\"OppQ\":4,\"CompQ\":4},\"Grady County\":{\"Composite\":47.8,\"Economy\":52.5,\"Education\":44.6,\"Health\":35.6,\"Opportunity\":57.4,\"HealthQ\":2,\"EduQ\":2,\"EconQ\":3,\"OppQ\":2,\"CompQ\":2},\"Greene County\":{\"Composite\":56.6,\"Economy\":53.6,\"Education\":57.7,\"Health\":51.0,\"Opportunity\":65.4,\"HealthQ\":4,\"EduQ\":5,\"EconQ\":4,\"OppQ\":3,\"CompQ\":4},\"Gwinnett County\":{\"Composite\":64.9,\"Economy\":71.3,\"Education\":57.1,\"Health\":57.5,\"Opportunity\":74.5,\"HealthQ\":5,\"EduQ\":4,\"EconQ\":5,\"OppQ\":4,\"CompQ\":5},\"Habersham County\":{\"Composite\":57.7,\"Economy\":51.3,\"Education\":58.4,\"Health\":45.5,\"Opportunity\":78.4,\"HealthQ\":3,\"EduQ\":5,\"EconQ\":3,\"OppQ\":5,\"CompQ\":4},\"Hall County\":{\"Composite\":61.4,\"Economy\":69.2,\"Education\":49.5,\"Health\":51.4,\"Opportunity\":77.6,\"HealthQ\":4,\"EduQ\":3,\"EconQ\":5,\"OppQ\":4,\"CompQ\":5},\"Hancock County\":{\"Composite\":33.2,\"Economy\":28.9,\"Education\":32.6,\"Health\":50.6,\"Opportunity\":23.4,\"HealthQ\":4,\"EduQ\":1,\"EconQ\":1,\"OppQ\":1,\"CompQ\":1},\"Haralson County\":{\"Composite\":56.0,\"Economy\":52.7,\"Education\":57.5,\"Health\":40.7,\"Opportunity\":73.9,\"HealthQ\":3,\"EduQ\":5,\"EconQ\":4,\"OppQ\":4,\"CompQ\":4},\"Harris County\":{\"Composite\":68.9,\"Economy\":63.0,\"Education\":61.4,\"Health\":67.9,\"Opportunity\":90.2,\"HealthQ\":5,\"EduQ\":5,\"EconQ\":5,\"OppQ\":5,\"CompQ\":5},\"Hart County\":{\"Composite\":53.9,\"Economy\":52.5,\"Education\":52.2,\"Health\":51.9,\"Opportunity\":60.3,\"HealthQ\":4,\"EduQ\":4,\"EconQ\":3,\"OppQ\":2,\"CompQ\":4},\"Heard County\":{\"Composite\":49.6,\"Economy\":49.1,\"Education\":37.3,\"Health\":30.0,\"Opportunity\":88.2,\"HealthQ\":1,\"EduQ\":1,\"EconQ\":3,\"OppQ\":5,\"CompQ\":3},\"Henry County\":{\"Composite\":64.8,\"Economy\":68.8,\"Education\":55.6,\"Health\":55.1,\"Opportunity\":82.2,\"HealthQ\":5,\"EduQ\":4,\"EconQ\":5,\"OppQ\":5,\"CompQ\":5},\"Houston County\":{\"Composite\":63.1,\"Economy\":61.9,\"Education\":60.7,\"Health\":53.0,\"Opportunity\":78.5,\"HealthQ\":5,\"EduQ\":5,\"EconQ\":5,\"OppQ\":5,\"CompQ\":5},\"Irwin County\":{\"Composite\":47.1,\"Economy\":44.1,\"Education\":56.8,\"Health\":29.3,\"Opportunity\":54.7,\"HealthQ\":1,\"EduQ\":4,\"EconQ\":2,\"OppQ\":1,\"CompQ\":2},\"Jackson County\":{\"Composite\":69.2,\"Economy\":79.7,\"Education\":62.6,\"Health\":53.0,\"Opportunity\":79.8,\"HealthQ\":5,\"EduQ\":5,\"EconQ\":5,\"OppQ\":5,\"CompQ\":5},\"Jasper County\":{\"Composite\":55.7,\"Economy\":54.1,\"Education\":53.0,\"Health\":41.4,\"Opportunity\":76.3,\"HealthQ\":3,\"EduQ\":4,\"EconQ\":4,\"OppQ\":4,\"CompQ\":4},\"Jeff Davis County\":{\"Composite\":50.2,\"Economy\":45.8,\"Education\":51.3,\"Health\":25.5,\"Opportunity\":79.8,\"HealthQ\":1,\"EduQ\":3,\"EconQ\":2,\"OppQ\":5,\"CompQ\":3},\"Jefferson County\":{\"Composite\":42.7,\"Economy\":39.5,\"Education\":42.2,\"Health\":26.0,\"Opportunity\":65.0,\"HealthQ\":1,\"EduQ\":2,\"EconQ\":1,\"OppQ\":3,\"CompQ\":1},\"Jenkins County\":{\"Composite\":35.7,\"Economy\":48.2,\"Education\":18.9,\"Health\":31.8,\"Opportunity\":46.0,\"HealthQ\":1,\"EduQ\":1,\"EconQ\":3,\"OppQ\":1,\"CompQ\":1},\"Johnson County\":{\"Composite\":43.6,\"Economy\":45.7,\"Education\":39.9,\"Health\":37.4,\"Opportunity\":52.0,\"HealthQ\":2,\"EduQ\":2,\"EconQ\":2,\"OppQ\":1,\"CompQ\":1},\"Jones County\":{\"Composite\":54.8,\"Economy\":53.9,\"Education\":49.3,\"Health\":51.4,\"Opportunity\":67.9,\"HealthQ\":4,\"EduQ\":3,\"EconQ\":4,\"OppQ\":3,\"CompQ\":4},\"Lamar County\":{\"Composite\":46.7,\"Economy\":48.7,\"Education\":43.1,\"Health\":35.4,\"Opportunity\":60.1,\"HealthQ\":2,\"EduQ\":2,\"EconQ\":3,\"OppQ\":2,\"CompQ\":2},\"Lanier County\":{\"Composite\":48.1,\"Economy\":46.9,\"Education\":50.5,\"Health\":31.9,\"Opportunity\":62.5,\"HealthQ\":2,\"EduQ\":3,\"EconQ\":2,\"OppQ\":2,\"CompQ\":2},\"Laurens County\":{\"Composite\":49.5,\"Economy\":40.7,\"Education\":50.7,\"Health\":52.5,\"Opportunity\":58.0,\"HealthQ\":4,\"EduQ\":3,\"EconQ\":1,\"OppQ\":2,\"CompQ\":3},\"Lee County\":{\"Composite\":67.2,\"Economy\":64.9,\"Education\":64.9,\"Health\":61.3,\"Opportunity\":80.0,\"HealthQ\":5,\"EduQ\":5,\"EconQ\":5,\"OppQ\":5,\"CompQ\":5},\"Liberty County\":{\"Composite\":55.0,\"Economy\":49.1,\"Education\":57.4,\"Health\":46.0,\"Opportunity\":69.2,\"HealthQ\":3,\"EduQ\":5,\"EconQ\":3,\"OppQ\":3,\"CompQ\":4},\"Lincoln County\":{\"Composite\":51.0,\"Economy\":47.6,\"Education\":54.1,\"Health\":49.3,\"Opportunity\":53.2,\"HealthQ\":4,\"EduQ\":4,\"EconQ\":3,\"OppQ\":1,\"CompQ\":3},\"Long County\":{\"Composite\":52.8,\"Economy\":71.1,\"Education\":44.1,\"Health\":42.4,\"Opportunity\":48.9,\"HealthQ\":3,\"EduQ\":2,\"EconQ\":5,\"OppQ\":1,\"CompQ\":3},\"Lowndes County\":{\"Composite\":55.1,\"Economy\":55.7,\"Education\":59.7,\"Health\":42.0,\"Opportunity\":60.3,\"HealthQ\":3,\"EduQ\":5,\"EconQ\":4,\"OppQ\":2,\"CompQ\":4},\"Lumpkin County\":{\"Composite\":62.4,\"Economy\":62.7,\"Education\":65.6,\"Health\":51.6,\"Opportunity\":68.0,\"HealthQ\":4,\"EduQ\":5,\"EconQ\":5,\"OppQ\":3,\"CompQ\":5},\"Macon County\":{\"Composite\":30.0,\"Economy\":37.4,\"Education\":14.2,\"Health\":16.8,\"Opportunity\":56.1,\"HealthQ\":1,\"EduQ\":1,\"EconQ\":1,\"OppQ\":1,\"CompQ\":1},\"Madison County\":{\"Composite\":56.9,\"Economy\":59.0,\"Education\":52.8,\"Health\":38.7,\"Opportunity\":78.0,\"HealthQ\":3,\"EduQ\":4,\"EconQ\":4,\"OppQ\":5,\"CompQ\":4},\"Marion County\":{\"Composite\":50.7,\"Economy\":39.2,\"Education\":46.8,\"Health\":42.0,\"Opportunity\":82.3,\"HealthQ\":3,\"EduQ\":3,\"EconQ\":1,\"OppQ\":5,\"CompQ\":3},\"McDuffie County\":{\"Composite\":41.5,\"Economy\":43.0,\"Education\":30.0,\"Health\":39.6,\"Opportunity\":58.7,\"HealthQ\":3,\"EduQ\":1,\"EconQ\":2,\"OppQ\":2,\"CompQ\":1},\"McIntosh County\":{\"Composite\":54.2,\"Economy\":46.6,\"Education\":59.3,\"Health\":48.9,\"Opportunity\":63.3,\"HealthQ\":4,\"EduQ\":5,\"EconQ\":2,\"OppQ\":2,\"CompQ\":4},\"Meriwether County\":{\"Composite\":38.8,\"Economy\":45.6,\"Education\":19.6,\"Health\":36.7,\"Opportunity\":59.3,\"HealthQ\":2,\"EduQ\":1,\"EconQ\":2,\"OppQ\":2,\"CompQ\":1},\"Miller County\":{\"Composite\":44.9,\"Economy\":54.1,\"Education\":32.9,\"Health\":30.1,\"Opportunity\":64.0,\"HealthQ\":1,\"EduQ\":1,\"EconQ\":4,\"OppQ\":2,\"CompQ\":2},\"Mitchell County\":{\"Composite\":41.3,\"Economy\":41.1,\"Education\":33.4,\"Health\":27.6,\"Opportunity\":67.3,\"HealthQ\":1,\"EduQ\":1,\"EconQ\":2,\"OppQ\":3,\"CompQ\":1},\"Monroe County\":{\"Composite\":57.0,\"Economy\":47.5,\"Education\":58.0,\"Health\":55.2,\"Opportunity\":71.7,\"HealthQ\":5,\"EduQ\":5,\"EconQ\":3,\"OppQ\":4,\"CompQ\":4},\"Montgomery County\":{\"Composite\":42.0,\"Economy\":40.8,\"Education\":35.0,\"Health\":35.3,\"Opportunity\":60.8,\"HealthQ\":2,\"EduQ\":1,\"EconQ\":1,\"OppQ\":2,\"CompQ\":1},\"Morgan County\":{\"Composite\":62.5,\"Economy\":60.6,\"Education\":53.1,\"Health\":55.6,\"Opportunity\":86.5,\"HealthQ\":5,\"EduQ\":4,\"EconQ\":5,\"OppQ\":5,\"CompQ\":5},\"Murray County\":{\"Composite\":50.2,\"Economy\":46.4,\"Education\":48.6,\"Health\":29.2,\"Opportunity\":79.3,\"HealthQ\":1,\"EduQ\":3,\"EconQ\":2,\"OppQ\":5,\"CompQ\":3},\"Muscogee County\":{\"Composite\":55.5,\"Economy\":49.2,\"Education\":55.8,\"Health\":53.9,\"Opportunity\":66.4,\"HealthQ\":5,\"EduQ\":4,\"EconQ\":3,\"OppQ\":3,\"CompQ\":4},\"Newton County\":{\"Composite\":57.2,\"Economy\":65.2,\"Education\":47.7,\"Health\":47.7,\"Opportunity\":69.1,\"HealthQ\":4,\"EduQ\":3,\"EconQ\":5,\"OppQ\":3,\"CompQ\":4},\"Oconee County\":{\"Composite\":88.4,\"Economy\":78.6,\"Education\":91.3,\"Health\":96.8,\"Opportunity\":90.3,\"HealthQ\":5,\"EduQ\":5,\"EconQ\":5,\"OppQ\":5,\"CompQ\":5},\"Oglethorpe County\":{\"Composite\":57.1,\"Economy\":53.4,\"Education\":57.2,\"Health\":46.6,\"Opportunity\":73.1,\"HealthQ\":4,\"EduQ\":4,\"EconQ\":4,\"OppQ\":4,\"CompQ\":4},\"Paulding County\":{\"Composite\":64.4,\"Economy\":73.1,\"Education\":52.4,\"Health\":52.0,\"Opportunity\":81.4,\"HealthQ\":4,\"EduQ\":4,\"EconQ\":5,\"OppQ\":5,\"CompQ\":5},\"Peach County\":{\"Composite\":47.0,\"Economy\":46.9,\"Education\":46.4,\"Health\":31.9,\"Opportunity\":62.9,\"HealthQ\":2,\"EduQ\":3,\"EconQ\":2,\"OppQ\":2,\"CompQ\":2},\"Pickens County\":{\"Composite\":63.5,\"Economy\":63.2,\"Education\":58.0,\"Health\":51.0,\"Opportunity\":84.6,\"HealthQ\":4,\"EduQ\":5,\"EconQ\":5,\"OppQ\":5,\"CompQ\":5},\"Pierce County\":{\"Composite\":47.2,\"Economy\":54.9,\"Education\":38.1,\"Health\":34.6,\"Opportunity\":62.2,\"HealthQ\":2,\"EduQ\":1,\"EconQ\":4,\"OppQ\":2,\"CompQ\":2},\"Pike County\":{\"Composite\":60.5,\"Economy\":60.4,\"Education\":53.7,\"Health\":41.3,\"Opportunity\":90.0,\"HealthQ\":3,\"EduQ\":4,\"EconQ\":4,\"OppQ\":5,\"CompQ\":4},\"Polk County\":{\"Composite\":45.9,\"Economy\":54.8,\"Education\":33.1,\"Health\":31.7,\"Opportunity\":65.7,\"HealthQ\":1,\"EduQ\":1,\"EconQ\":4,\"OppQ\":3,\"CompQ\":2},\"Pulaski County\":{\"Composite\":50.3,\"Economy\":39.1,\"Education\":49.7,\"Health\":54.5,\"Opportunity\":64.1,\"HealthQ\":5,\"EduQ\":3,\"EconQ\":1,\"OppQ\":3,\"CompQ\":3},\"Putnam County\":{\"Composite\":50.1,\"Economy\":40.2,\"Education\":52.8,\"Health\":48.1,\"Opportunity\":62.9,\"HealthQ\":4,\"EduQ\":4,\"EconQ\":1,\"OppQ\":2,\"CompQ\":3},\"Quitman County\":{\"Composite\":29.5,\"Economy\":34.2,\"Education\":5.5,\"Health\":29.1,\"Opportunity\":58.8,\"HealthQ\":1,\"EduQ\":1,\"EconQ\":1,\"OppQ\":2,\"CompQ\":1},\"Rabun County\":{\"Composite\":53.3,\"Economy\":45.7,\"Education\":58.6,\"Health\":41.9,\"Opportunity\":68.1,\"HealthQ\":3,\"EduQ\":5,\"EconQ\":2,\"OppQ\":3,\"CompQ\":4},\"Randolph County\":{\"Composite\":35.5,\"Economy\":36.6,\"Education\":23.6,\"Health\":36.2,\"Opportunity\":50.9,\"HealthQ\":2,\"EduQ\":1,\"EconQ\":1,\"OppQ\":1,\"CompQ\":1},\"Richmond County\":{\"Composite\":46.7,\"Economy\":49.0,\"Education\":33.5,\"Health\":51.2,\"Opportunity\":58.4,\"HealthQ\":4,\"EduQ\":1,\"EconQ\":3,\"OppQ\":2,\"CompQ\":2},\"Rockdale County\":{\"Composite\":58.6,\"Economy\":58.9,\"Education\":50.6,\"Health\":54.6,\"Opportunity\":73.9,\"HealthQ\":5,\"EduQ\":3,\"EconQ\":4,\"OppQ\":4,\"CompQ\":4},\"Schley County\":{\"Composite\":50.1,\"Economy\":46.9,\"Education\":54.4,\"Health\":44.8,\"Opportunity\":54.0,\"HealthQ\":3,\"EduQ\":4,\"EconQ\":2,\"OppQ\":1,\"CompQ\":3},\"Screven County\":{\"Composite\":42.1,\"Economy\":37.0,\"Education\":41.1,\"Health\":33.4,\"Opportunity\":59.8,\"HealthQ\":2,\"EduQ\":2,\"EconQ\":1,\"OppQ\":2,\"CompQ\":1},\"Seminole County\":{\"Composite\":50.1,\"Economy\":43.4,\"Education\":52.9,\"Health\":51.5,\"Opportunity\":54.8,\"HealthQ\":4,\"EduQ\":4,\"EconQ\":2,\"OppQ\":1,\"CompQ\":3},\"Spalding County\":{\"Composite\":49.3,\"Economy\":48.9,\"Education\":47.3,\"Health\":37.8,\"Opportunity\":64.4,\"HealthQ\":2,\"EduQ\":3,\"EconQ\":3,\"OppQ\":3,\"CompQ\":3},\"Stephens County\":{\"Composite\":54.4,\"Economy\":48.0,\"Education\":55.0,\"Health\":41.3,\"Opportunity\":76.0,\"HealthQ\":3,\"EduQ\":4,\"EconQ\":3,\"OppQ\":4,\"CompQ\":4},\"Stewart County\":{\"Composite\":37.1,\"Economy\":36.9,\"Education\":42.8,\"Health\":38.6,\"Opportunity\":27.6,\"HealthQ\":3,\"EduQ\":2,\"EconQ\":1,\"OppQ\":1,\"CompQ\":1},\"Sumter County\":{\"Composite\":48.8,\"Economy\":40.4,\"Education\":55.3,\"Health\":41.6,\"Opportunity\":59.0,\"HealthQ\":3,\"EduQ\":4,\"EconQ\":1,\"OppQ\":2,\"CompQ\":3},\"Talbot County\":{\"Composite\":42.4,\"Economy\":40.7,\"Education\":22.3,\"Health\":46.9,\"Opportunity\":70.6,\"HealthQ\":4,\"EduQ\":1,\"EconQ\":1,\"OppQ\":4,\"CompQ\":1},\"Taliaferro County\":{\"Composite\":46.0,\"Economy\":37.1,\"Education\":54.2,\"Health\":33.7,\"Opportunity\":59.4,\"HealthQ\":2,\"EduQ\":4,\"EconQ\":1,\"OppQ\":2,\"CompQ\":2},\"Tattnall County\":{\"Composite\":48.5,\"Economy\":41.4,\"Education\":43.7,\"Health\":36.6,\"Opportunity\":78.4,\"HealthQ\":2,\"EduQ\":2,\"EconQ\":2,\"OppQ\":5,\"CompQ\":3},\"Taylor County\":{\"Composite\":37.5,\"Economy\":44.7,\"Education\":35.2,\"Health\":23.3,\"Opportunity\":44.0,\"HealthQ\":1,\"EduQ\":1,\"EconQ\":2,\"OppQ\":1,\"CompQ\":1},\"Telfair County\":{\"Composite\":39.3,\"Economy\":20.9,\"Education\":45.6,\"Health\":48.9,\"Opportunity\":48.0,\"HealthQ\":4,\"EduQ\":2,\"EconQ\":1,\"OppQ\":1,\"CompQ\":1},\"Terrell County\":{\"Composite\":34.7,\"Economy\":36.4,\"Education\":38.8,\"Health\":19.5,\"Opportunity\":41.0,\"HealthQ\":1,\"EduQ\":1,\"EconQ\":1,\"OppQ\":1,\"CompQ\":1},\"Thomas County\":{\"Composite\":55.4,\"Economy\":51.7,\"Education\":55.2,\"Health\":53.5,\"Opportunity\":63.1,\"HealthQ\":5,\"EduQ\":4,\"EconQ\":3,\"OppQ\":2,\"CompQ\":4},\"Tift County\":{\"Composite\":54.8,\"Economy\":55.9,\"Education\":49.4,\"Health\":44.6,\"Opportunity\":71.4,\"HealthQ\":3,\"EduQ\":3,\"EconQ\":4,\"OppQ\":4,\"CompQ\":4},\"Toombs County\":{\"Composite\":50.8,\"Economy\":43.9,\"Education\":54.7,\"Health\":39.7,\"Opportunity\":66.2,\"HealthQ\":3,\"EduQ\":4,\"EconQ\":2,\"OppQ\":3,\"CompQ\":3},\"Towns County\":{\"Composite\":60.7,\"Economy\":48.6,\"Education\":62.3,\"Health\":59.8,\"Opportunity\":77.5,\"HealthQ\":5,\"EduQ\":5,\"EconQ\":3,\"OppQ\":4,\"CompQ\":5},\"Treutlen County\":{\"Composite\":37.7,\"Economy\":36.2,\"Education\":27.2,\"Health\":27.1,\"Opportunity\":66.4,\"HealthQ\":1,\"EduQ\":1,\"EconQ\":1,\"OppQ\":3,\"CompQ\":1},\"Troup County\":{\"Composite\":50.9,\"Economy\":55.9,\"Education\":42.7,\"Health\":46.6,\"Opportunity\":60.2,\"HealthQ\":4,\"EduQ\":2,\"EconQ\":4,\"OppQ\":2,\"CompQ\":3},\"Turner County\":{\"Composite\":43.7,\"Economy\":42.2,\"Education\":53.7,\"Health\":29.3,\"Opportunity\":45.3,\"HealthQ\":1,\"EduQ\":4,\"EconQ\":2,\"OppQ\":1,\"CompQ\":1},\"Twiggs County\":{\"Composite\":36.7,\"Economy\":37.9,\"Education\":30.3,\"Health\":17.7,\"Opportunity\":63.4,\"HealthQ\":1,\"EduQ\":1,\"EconQ\":1,\"OppQ\":2,\"CompQ\":1},\"Union County\":{\"Composite\":66.3,\"Economy\":56.6,\"Education\":68.1,\"Health\":70.7,\"Opportunity\":73.6,\"HealthQ\":5,\"EduQ\":5,\"EconQ\":4,\"OppQ\":4,\"CompQ\":5},\"Upson County\":{\"Composite\":47.0,\"Economy\":46.0,\"Education\":42.1,\"Health\":38.5,\"Opportunity\":64.5,\"HealthQ\":2,\"EduQ\":2,\"EconQ\":2,\"OppQ\":3,\"CompQ\":2},\"Walker County\":{\"Composite\":51.5,\"Economy\":52.7,\"Education\":49.1,\"Health\":35.5,\"Opportunity\":69.4,\"HealthQ\":2,\"EduQ\":3,\"EconQ\":4,\"OppQ\":3,\"CompQ\":3},\"Walton County\":{\"Composite\":61.0,\"Economy\":66.2,\"Education\":55.4,\"Health\":50.2,\"Opportunity\":72.1,\"HealthQ\":4,\"EduQ\":4,\"EconQ\":5,\"OppQ\":4,\"CompQ\":5},\"Ware County\":{\"Composite\":49.2,\"Economy\":46.5,\"Education\":50.7,\"Health\":43.5,\"Opportunity\":56.6,\"HealthQ\":3,\"EduQ\":3,\"EconQ\":2,\"OppQ\":1,\"CompQ\":3},\"Warren County\":{\"Composite\":43.8,\"Economy\":43.1,\"Education\":42.8,\"Health\":36.9,\"Opportunity\":53.3,\"HealthQ\":2,\"EduQ\":2,\"EconQ\":2,\"OppQ\":1,\"CompQ\":2},\"Washington County\":{\"Composite\":48.1,\"Economy\":40.7,\"Education\":41.9,\"Health\":50.8,\"Opportunity\":65.9,\"HealthQ\":4,\"EduQ\":2,\"EconQ\":1,\"OppQ\":3,\"CompQ\":2},\"Wayne County\":{\"Composite\":50.1,\"Economy\":45.0,\"Education\":48.1,\"Health\":27.7,\"Opportunity\":83.2,\"HealthQ\":1,\"EduQ\":3,\"EconQ\":2,\"OppQ\":5,\"CompQ\":3},\"Webster County\":{\"Composite\":43.8,\"Economy\":41.1,\"Education\":45.8,\"Health\":50.5,\"Opportunity\":38.0,\"HealthQ\":4,\"EduQ\":2,\"EconQ\":2,\"OppQ\":1,\"CompQ\":1},\"Wheeler County\":{\"Composite\":36.5,\"Economy\":26.0,\"Education\":42.7,\"Health\":34.9,\"Opportunity\":44.6,\"HealthQ\":2,\"EduQ\":2,\"EconQ\":1,\"OppQ\":1,\"CompQ\":1},\"White County\":{\"Composite\":63.6,\"Economy\":62.8,\"Education\":59.4,\"Health\":51.5,\"Opportunity\":83.4,\"HealthQ\":4,\"EduQ\":5,\"EconQ\":5,\"OppQ\":5,\"CompQ\":5},\"Whitfield County\":{\"Composite\":51.4,\"Economy\":52.0,\"Education\":34.5,\"Health\":45.7,\"Opportunity\":81.5,\"HealthQ\":3,\"EduQ\":1,\"EconQ\":3,\"OppQ\":5,\"CompQ\":3},\"Wilcox County\":{\"Composite\":45.0,\"Economy\":38.5,\"Education\":50.2,\"Health\":32.9,\"Opportunity\":59.0,\"HealthQ\":2,\"EduQ\":3,\"EconQ\":1,\"OppQ\":2,\"CompQ\":2},\"Wilkes County\":{\"Composite\":39.2,\"Economy\":41.8,\"Education\":31.3,\"Health\":39.7,\"Opportunity\":46.8,\"HealthQ\":3,\"EduQ\":1,\"EconQ\":2,\"OppQ\":1,\"CompQ\":1},\"Wilkinson County\":{\"Composite\":44.2,\"Economy\":40.8,\"Education\":45.9,\"Health\":43.1,\"Opportunity\":47.9,\"HealthQ\":3,\"EduQ\":2,\"EconQ\":1,\"OppQ\":1,\"CompQ\":2},\"Worth County\":{\"Composite\":39.5,\"Economy\":47.7,\"Education\":19.5,\"Health\":33.9,\"Opportunity\":62.7,\"HealthQ\":2,\"EduQ\":1,\"EconQ\":3,\"OppQ\":2,\"CompQ\":1}}'"
      ]
     },
     "execution_count": 197,
     "metadata": {},
     "output_type": "execute_result"
    }
   ],
   "source": [
    "scoresJson.to_json(orient='index')"
   ]
  },
  {
   "cell_type": "code",
   "execution_count": null,
   "metadata": {},
   "outputs": [],
   "source": []
  }
 ],
 "metadata": {
  "kernelspec": {
   "display_name": "Python 3",
   "language": "python",
   "name": "python3"
  },
  "language_info": {
   "codemirror_mode": {
    "name": "ipython",
    "version": 3
   },
   "file_extension": ".py",
   "mimetype": "text/x-python",
   "name": "python",
   "nbconvert_exporter": "python",
   "pygments_lexer": "ipython3",
   "version": "3.7.6"
  }
 },
 "nbformat": 4,
 "nbformat_minor": 2
}
